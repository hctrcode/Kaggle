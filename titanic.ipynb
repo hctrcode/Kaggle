{
 "cells": [
  {
   "cell_type": "code",
   "execution_count": 1,
   "id": "c7df2406",
   "metadata": {
    "_cell_guid": "b1076dfc-b9ad-4769-8c92-a6c4dae69d19",
    "_uuid": "8f2839f25d086af736a60e9eeb907d3b93b6e0e5",
    "execution": {
     "iopub.execute_input": "2022-09-14T09:24:08.371266Z",
     "iopub.status.busy": "2022-09-14T09:24:08.370643Z",
     "iopub.status.idle": "2022-09-14T09:24:08.388806Z",
     "shell.execute_reply": "2022-09-14T09:24:08.387658Z"
    },
    "papermill": {
     "duration": 0.062127,
     "end_time": "2022-09-14T09:24:08.392694",
     "exception": false,
     "start_time": "2022-09-14T09:24:08.330567",
     "status": "completed"
    },
    "tags": []
   },
   "outputs": [
    {
     "name": "stdout",
     "output_type": "stream",
     "text": [
      "/kaggle/input/titanic/train.csv\n",
      "/kaggle/input/titanic/test.csv\n",
      "/kaggle/input/titanic/gender_submission.csv\n"
     ]
    }
   ],
   "source": [
    "# This Python 3 environment comes with many helpful analytics libraries installed\n",
    "# It is defined by the kaggle/python Docker image: https://github.com/kaggle/docker-python\n",
    "# For example, here's several helpful packages to load\n",
    "\n",
    "import numpy as np # linear algebra\n",
    "import pandas as pd # data processing, CSV file I/O (e.g. pd.read_csv)\n",
    "\n",
    "# Input data files are available in the read-only \"../input/\" directory\n",
    "# For example, running this (by clicking run or pressing Shift+Enter) will list all files under the input directory\n",
    "\n",
    "import os\n",
    "for dirname, _, filenames in os.walk('/kaggle/input'):\n",
    "    for filename in filenames:\n",
    "        print(os.path.join(dirname, filename))\n",
    "\n",
    "# You can write up to 20GB to the current directory (/kaggle/working/) that gets preserved as output when you create a version using \"Save & Run All\" \n",
    "# You can also write temporary files to /kaggle/temp/, but they won't be saved outside of the current session"
   ]
  },
  {
   "cell_type": "code",
   "execution_count": 2,
   "id": "bf29a711",
   "metadata": {
    "execution": {
     "iopub.execute_input": "2022-09-14T09:24:08.474826Z",
     "iopub.status.busy": "2022-09-14T09:24:08.473876Z",
     "iopub.status.idle": "2022-09-14T09:24:09.726769Z",
     "shell.execute_reply": "2022-09-14T09:24:09.725368Z"
    },
    "papermill": {
     "duration": 1.295619,
     "end_time": "2022-09-14T09:24:09.729677",
     "exception": false,
     "start_time": "2022-09-14T09:24:08.434058",
     "status": "completed"
    },
    "tags": []
   },
   "outputs": [],
   "source": [
    "#import\n",
    "import seaborn as sns\n",
    "import matplotlib.pyplot as plt"
   ]
  },
  {
   "cell_type": "markdown",
   "id": "11912c1c",
   "metadata": {
    "papermill": {
     "duration": 0.038371,
     "end_time": "2022-09-14T09:24:09.806079",
     "exception": false,
     "start_time": "2022-09-14T09:24:09.767708",
     "status": "completed"
    },
    "tags": []
   },
   "source": [
    "## Read Data"
   ]
  },
  {
   "cell_type": "code",
   "execution_count": 3,
   "id": "2f1788be",
   "metadata": {
    "execution": {
     "iopub.execute_input": "2022-09-14T09:24:09.886780Z",
     "iopub.status.busy": "2022-09-14T09:24:09.886092Z",
     "iopub.status.idle": "2022-09-14T09:24:09.928672Z",
     "shell.execute_reply": "2022-09-14T09:24:09.927574Z"
    },
    "papermill": {
     "duration": 0.084887,
     "end_time": "2022-09-14T09:24:09.931229",
     "exception": false,
     "start_time": "2022-09-14T09:24:09.846342",
     "status": "completed"
    },
    "tags": []
   },
   "outputs": [
    {
     "name": "stdout",
     "output_type": "stream",
     "text": [
      "<class 'pandas.core.frame.DataFrame'>\n",
      "RangeIndex: 891 entries, 0 to 890\n",
      "Data columns (total 12 columns):\n",
      " #   Column       Non-Null Count  Dtype  \n",
      "---  ------       --------------  -----  \n",
      " 0   PassengerId  891 non-null    int64  \n",
      " 1   Survived     891 non-null    int64  \n",
      " 2   Pclass       891 non-null    int64  \n",
      " 3   Name         891 non-null    object \n",
      " 4   Sex          891 non-null    object \n",
      " 5   Age          714 non-null    float64\n",
      " 6   SibSp        891 non-null    int64  \n",
      " 7   Parch        891 non-null    int64  \n",
      " 8   Ticket       891 non-null    object \n",
      " 9   Fare         891 non-null    float64\n",
      " 10  Cabin        204 non-null    object \n",
      " 11  Embarked     889 non-null    object \n",
      "dtypes: float64(2), int64(5), object(5)\n",
      "memory usage: 83.7+ KB\n"
     ]
    }
   ],
   "source": [
    "train_data = pd.read_csv(\"/kaggle/input/titanic/train.csv\")\n",
    "train_data.info()"
   ]
  },
  {
   "cell_type": "code",
   "execution_count": 4,
   "id": "9a8546e5",
   "metadata": {
    "execution": {
     "iopub.execute_input": "2022-09-14T09:24:10.010373Z",
     "iopub.status.busy": "2022-09-14T09:24:10.009918Z",
     "iopub.status.idle": "2022-09-14T09:24:10.030248Z",
     "shell.execute_reply": "2022-09-14T09:24:10.028922Z"
    },
    "papermill": {
     "duration": 0.064033,
     "end_time": "2022-09-14T09:24:10.033189",
     "exception": false,
     "start_time": "2022-09-14T09:24:09.969156",
     "status": "completed"
    },
    "tags": []
   },
   "outputs": [
    {
     "name": "stdout",
     "output_type": "stream",
     "text": [
      "<class 'pandas.core.frame.DataFrame'>\n",
      "RangeIndex: 418 entries, 0 to 417\n",
      "Data columns (total 11 columns):\n",
      " #   Column       Non-Null Count  Dtype  \n",
      "---  ------       --------------  -----  \n",
      " 0   PassengerId  418 non-null    int64  \n",
      " 1   Pclass       418 non-null    int64  \n",
      " 2   Name         418 non-null    object \n",
      " 3   Sex          418 non-null    object \n",
      " 4   Age          332 non-null    float64\n",
      " 5   SibSp        418 non-null    int64  \n",
      " 6   Parch        418 non-null    int64  \n",
      " 7   Ticket       418 non-null    object \n",
      " 8   Fare         417 non-null    float64\n",
      " 9   Cabin        91 non-null     object \n",
      " 10  Embarked     418 non-null    object \n",
      "dtypes: float64(2), int64(4), object(5)\n",
      "memory usage: 36.0+ KB\n"
     ]
    }
   ],
   "source": [
    "test_data = pd.read_csv(\"/kaggle/input/titanic/test.csv\")\n",
    "test_data.info()"
   ]
  },
  {
   "cell_type": "markdown",
   "id": "32b0838b",
   "metadata": {
    "papermill": {
     "duration": 0.039379,
     "end_time": "2022-09-14T09:24:10.109600",
     "exception": false,
     "start_time": "2022-09-14T09:24:10.070221",
     "status": "completed"
    },
    "tags": []
   },
   "source": [
    "Join train and test in a dataset"
   ]
  },
  {
   "cell_type": "code",
   "execution_count": 5,
   "id": "76dbb501",
   "metadata": {
    "execution": {
     "iopub.execute_input": "2022-09-14T09:24:10.191877Z",
     "iopub.status.busy": "2022-09-14T09:24:10.191435Z",
     "iopub.status.idle": "2022-09-14T09:24:10.203389Z",
     "shell.execute_reply": "2022-09-14T09:24:10.201898Z"
    },
    "papermill": {
     "duration": 0.05643,
     "end_time": "2022-09-14T09:24:10.206026",
     "exception": false,
     "start_time": "2022-09-14T09:24:10.149596",
     "status": "completed"
    },
    "tags": []
   },
   "outputs": [],
   "source": [
    "titanic = pd.concat([train_data, test_data], ignore_index=True, sort  = False)"
   ]
  },
  {
   "cell_type": "markdown",
   "id": "2f73083c",
   "metadata": {
    "papermill": {
     "duration": 0.038375,
     "end_time": "2022-09-14T09:24:10.281594",
     "exception": false,
     "start_time": "2022-09-14T09:24:10.243219",
     "status": "completed"
    },
    "tags": []
   },
   "source": [
    "# Exploratory Data Analysis"
   ]
  },
  {
   "cell_type": "markdown",
   "id": "a9c847ab",
   "metadata": {
    "papermill": {
     "duration": 0.039127,
     "end_time": "2022-09-14T09:24:10.359965",
     "exception": false,
     "start_time": "2022-09-14T09:24:10.320838",
     "status": "completed"
    },
    "tags": []
   },
   "source": [
    "Quick Look at data structure"
   ]
  },
  {
   "cell_type": "code",
   "execution_count": 6,
   "id": "807a1f32",
   "metadata": {
    "execution": {
     "iopub.execute_input": "2022-09-14T09:24:10.437223Z",
     "iopub.status.busy": "2022-09-14T09:24:10.435881Z",
     "iopub.status.idle": "2022-09-14T09:24:10.461502Z",
     "shell.execute_reply": "2022-09-14T09:24:10.460663Z"
    },
    "papermill": {
     "duration": 0.065507,
     "end_time": "2022-09-14T09:24:10.463703",
     "exception": false,
     "start_time": "2022-09-14T09:24:10.398196",
     "status": "completed"
    },
    "tags": []
   },
   "outputs": [
    {
     "data": {
      "text/html": [
       "<div>\n",
       "<style scoped>\n",
       "    .dataframe tbody tr th:only-of-type {\n",
       "        vertical-align: middle;\n",
       "    }\n",
       "\n",
       "    .dataframe tbody tr th {\n",
       "        vertical-align: top;\n",
       "    }\n",
       "\n",
       "    .dataframe thead th {\n",
       "        text-align: right;\n",
       "    }\n",
       "</style>\n",
       "<table border=\"1\" class=\"dataframe\">\n",
       "  <thead>\n",
       "    <tr style=\"text-align: right;\">\n",
       "      <th></th>\n",
       "      <th>PassengerId</th>\n",
       "      <th>Survived</th>\n",
       "      <th>Pclass</th>\n",
       "      <th>Name</th>\n",
       "      <th>Sex</th>\n",
       "      <th>Age</th>\n",
       "      <th>SibSp</th>\n",
       "      <th>Parch</th>\n",
       "      <th>Ticket</th>\n",
       "      <th>Fare</th>\n",
       "      <th>Cabin</th>\n",
       "      <th>Embarked</th>\n",
       "    </tr>\n",
       "  </thead>\n",
       "  <tbody>\n",
       "    <tr>\n",
       "      <th>0</th>\n",
       "      <td>1</td>\n",
       "      <td>0.0</td>\n",
       "      <td>3</td>\n",
       "      <td>Braund, Mr. Owen Harris</td>\n",
       "      <td>male</td>\n",
       "      <td>22.0</td>\n",
       "      <td>1</td>\n",
       "      <td>0</td>\n",
       "      <td>A/5 21171</td>\n",
       "      <td>7.2500</td>\n",
       "      <td>NaN</td>\n",
       "      <td>S</td>\n",
       "    </tr>\n",
       "    <tr>\n",
       "      <th>1</th>\n",
       "      <td>2</td>\n",
       "      <td>1.0</td>\n",
       "      <td>1</td>\n",
       "      <td>Cumings, Mrs. John Bradley (Florence Briggs Th...</td>\n",
       "      <td>female</td>\n",
       "      <td>38.0</td>\n",
       "      <td>1</td>\n",
       "      <td>0</td>\n",
       "      <td>PC 17599</td>\n",
       "      <td>71.2833</td>\n",
       "      <td>C85</td>\n",
       "      <td>C</td>\n",
       "    </tr>\n",
       "    <tr>\n",
       "      <th>2</th>\n",
       "      <td>3</td>\n",
       "      <td>1.0</td>\n",
       "      <td>3</td>\n",
       "      <td>Heikkinen, Miss. Laina</td>\n",
       "      <td>female</td>\n",
       "      <td>26.0</td>\n",
       "      <td>0</td>\n",
       "      <td>0</td>\n",
       "      <td>STON/O2. 3101282</td>\n",
       "      <td>7.9250</td>\n",
       "      <td>NaN</td>\n",
       "      <td>S</td>\n",
       "    </tr>\n",
       "    <tr>\n",
       "      <th>3</th>\n",
       "      <td>4</td>\n",
       "      <td>1.0</td>\n",
       "      <td>1</td>\n",
       "      <td>Futrelle, Mrs. Jacques Heath (Lily May Peel)</td>\n",
       "      <td>female</td>\n",
       "      <td>35.0</td>\n",
       "      <td>1</td>\n",
       "      <td>0</td>\n",
       "      <td>113803</td>\n",
       "      <td>53.1000</td>\n",
       "      <td>C123</td>\n",
       "      <td>S</td>\n",
       "    </tr>\n",
       "    <tr>\n",
       "      <th>4</th>\n",
       "      <td>5</td>\n",
       "      <td>0.0</td>\n",
       "      <td>3</td>\n",
       "      <td>Allen, Mr. William Henry</td>\n",
       "      <td>male</td>\n",
       "      <td>35.0</td>\n",
       "      <td>0</td>\n",
       "      <td>0</td>\n",
       "      <td>373450</td>\n",
       "      <td>8.0500</td>\n",
       "      <td>NaN</td>\n",
       "      <td>S</td>\n",
       "    </tr>\n",
       "  </tbody>\n",
       "</table>\n",
       "</div>"
      ],
      "text/plain": [
       "   PassengerId  Survived  Pclass  \\\n",
       "0            1       0.0       3   \n",
       "1            2       1.0       1   \n",
       "2            3       1.0       3   \n",
       "3            4       1.0       1   \n",
       "4            5       0.0       3   \n",
       "\n",
       "                                                Name     Sex   Age  SibSp  \\\n",
       "0                            Braund, Mr. Owen Harris    male  22.0      1   \n",
       "1  Cumings, Mrs. John Bradley (Florence Briggs Th...  female  38.0      1   \n",
       "2                             Heikkinen, Miss. Laina  female  26.0      0   \n",
       "3       Futrelle, Mrs. Jacques Heath (Lily May Peel)  female  35.0      1   \n",
       "4                           Allen, Mr. William Henry    male  35.0      0   \n",
       "\n",
       "   Parch            Ticket     Fare Cabin Embarked  \n",
       "0      0         A/5 21171   7.2500   NaN        S  \n",
       "1      0          PC 17599  71.2833   C85        C  \n",
       "2      0  STON/O2. 3101282   7.9250   NaN        S  \n",
       "3      0            113803  53.1000  C123        S  \n",
       "4      0            373450   8.0500   NaN        S  "
      ]
     },
     "execution_count": 6,
     "metadata": {},
     "output_type": "execute_result"
    }
   ],
   "source": [
    "titanic.head()"
   ]
  },
  {
   "cell_type": "code",
   "execution_count": 7,
   "id": "54acd5d3",
   "metadata": {
    "execution": {
     "iopub.execute_input": "2022-09-14T09:24:10.540644Z",
     "iopub.status.busy": "2022-09-14T09:24:10.540117Z",
     "iopub.status.idle": "2022-09-14T09:24:10.559171Z",
     "shell.execute_reply": "2022-09-14T09:24:10.557292Z"
    },
    "papermill": {
     "duration": 0.060342,
     "end_time": "2022-09-14T09:24:10.561845",
     "exception": false,
     "start_time": "2022-09-14T09:24:10.501503",
     "status": "completed"
    },
    "tags": []
   },
   "outputs": [
    {
     "name": "stdout",
     "output_type": "stream",
     "text": [
      "<class 'pandas.core.frame.DataFrame'>\n",
      "RangeIndex: 1309 entries, 0 to 1308\n",
      "Data columns (total 12 columns):\n",
      " #   Column       Non-Null Count  Dtype  \n",
      "---  ------       --------------  -----  \n",
      " 0   PassengerId  1309 non-null   int64  \n",
      " 1   Survived     891 non-null    float64\n",
      " 2   Pclass       1309 non-null   int64  \n",
      " 3   Name         1309 non-null   object \n",
      " 4   Sex          1309 non-null   object \n",
      " 5   Age          1046 non-null   float64\n",
      " 6   SibSp        1309 non-null   int64  \n",
      " 7   Parch        1309 non-null   int64  \n",
      " 8   Ticket       1309 non-null   object \n",
      " 9   Fare         1308 non-null   float64\n",
      " 10  Cabin        295 non-null    object \n",
      " 11  Embarked     1307 non-null   object \n",
      "dtypes: float64(3), int64(4), object(5)\n",
      "memory usage: 122.8+ KB\n"
     ]
    }
   ],
   "source": [
    "titanic.info()"
   ]
  },
  {
   "cell_type": "markdown",
   "id": "38afec20",
   "metadata": {
    "papermill": {
     "duration": 0.038009,
     "end_time": "2022-09-14T09:24:10.637172",
     "exception": false,
     "start_time": "2022-09-14T09:24:10.599163",
     "status": "completed"
    },
    "tags": []
   },
   "source": [
    "We can see the missing value : Cabin, Age, Embark and Fare"
   ]
  },
  {
   "cell_type": "code",
   "execution_count": 8,
   "id": "44c7ceea",
   "metadata": {
    "execution": {
     "iopub.execute_input": "2022-09-14T09:24:10.714941Z",
     "iopub.status.busy": "2022-09-14T09:24:10.714478Z",
     "iopub.status.idle": "2022-09-14T09:24:11.055062Z",
     "shell.execute_reply": "2022-09-14T09:24:11.053557Z"
    },
    "papermill": {
     "duration": 0.383334,
     "end_time": "2022-09-14T09:24:11.058009",
     "exception": false,
     "start_time": "2022-09-14T09:24:10.674675",
     "status": "completed"
    },
    "tags": []
   },
   "outputs": [
    {
     "data": {
      "text/plain": [
       "Text(0.5, 1.0, 'Missing values heatmap')"
      ]
     },
     "execution_count": 8,
     "metadata": {},
     "output_type": "execute_result"
    },
    {
     "data": {
      "image/png": "[encoded data removed]",
      "text/plain": [
       "<Figure size 432x288 with 1 Axes>"
      ]
     },
     "metadata": {
      "needs_background": "light"
     },
     "output_type": "display_data"
    }
   ],
   "source": [
    "sns.heatmap(titanic.isnull(), cbar = False).set_title(\"Missing values heatmap\")"
   ]
  },
  {
   "cell_type": "markdown",
   "id": "a5ae8537",
   "metadata": {
    "papermill": {
     "duration": 0.042763,
     "end_time": "2022-09-14T09:24:11.140737",
     "exception": false,
     "start_time": "2022-09-14T09:24:11.097974",
     "status": "completed"
    },
    "tags": []
   },
   "source": []
  },
  {
   "cell_type": "code",
   "execution_count": 9,
   "id": "1b2c618b",
   "metadata": {
    "execution": {
     "iopub.execute_input": "2022-09-14T09:24:11.219958Z",
     "iopub.status.busy": "2022-09-14T09:24:11.219133Z",
     "iopub.status.idle": "2022-09-14T09:24:11.257054Z",
     "shell.execute_reply": "2022-09-14T09:24:11.255595Z"
    },
    "papermill": {
     "duration": 0.079898,
     "end_time": "2022-09-14T09:24:11.259971",
     "exception": false,
     "start_time": "2022-09-14T09:24:11.180073",
     "status": "completed"
    },
    "tags": []
   },
   "outputs": [
    {
     "data": {
      "text/html": [
       "<div>\n",
       "<style scoped>\n",
       "    .dataframe tbody tr th:only-of-type {\n",
       "        vertical-align: middle;\n",
       "    }\n",
       "\n",
       "    .dataframe tbody tr th {\n",
       "        vertical-align: top;\n",
       "    }\n",
       "\n",
       "    .dataframe thead th {\n",
       "        text-align: right;\n",
       "    }\n",
       "</style>\n",
       "<table border=\"1\" class=\"dataframe\">\n",
       "  <thead>\n",
       "    <tr style=\"text-align: right;\">\n",
       "      <th></th>\n",
       "      <th>PassengerId</th>\n",
       "      <th>Survived</th>\n",
       "      <th>Pclass</th>\n",
       "      <th>Age</th>\n",
       "      <th>SibSp</th>\n",
       "      <th>Parch</th>\n",
       "      <th>Fare</th>\n",
       "    </tr>\n",
       "  </thead>\n",
       "  <tbody>\n",
       "    <tr>\n",
       "      <th>count</th>\n",
       "      <td>891.000000</td>\n",
       "      <td>891.000000</td>\n",
       "      <td>891.000000</td>\n",
       "      <td>714.000000</td>\n",
       "      <td>891.000000</td>\n",
       "      <td>891.000000</td>\n",
       "      <td>891.000000</td>\n",
       "    </tr>\n",
       "    <tr>\n",
       "      <th>mean</th>\n",
       "      <td>446.000000</td>\n",
       "      <td>0.383838</td>\n",
       "      <td>2.308642</td>\n",
       "      <td>29.699118</td>\n",
       "      <td>0.523008</td>\n",
       "      <td>0.381594</td>\n",
       "      <td>32.204208</td>\n",
       "    </tr>\n",
       "    <tr>\n",
       "      <th>std</th>\n",
       "      <td>257.353842</td>\n",
       "      <td>0.486592</td>\n",
       "      <td>0.836071</td>\n",
       "      <td>14.526497</td>\n",
       "      <td>1.102743</td>\n",
       "      <td>0.806057</td>\n",
       "      <td>49.693429</td>\n",
       "    </tr>\n",
       "    <tr>\n",
       "      <th>min</th>\n",
       "      <td>1.000000</td>\n",
       "      <td>0.000000</td>\n",
       "      <td>1.000000</td>\n",
       "      <td>0.420000</td>\n",
       "      <td>0.000000</td>\n",
       "      <td>0.000000</td>\n",
       "      <td>0.000000</td>\n",
       "    </tr>\n",
       "    <tr>\n",
       "      <th>25%</th>\n",
       "      <td>223.500000</td>\n",
       "      <td>0.000000</td>\n",
       "      <td>2.000000</td>\n",
       "      <td>20.125000</td>\n",
       "      <td>0.000000</td>\n",
       "      <td>0.000000</td>\n",
       "      <td>7.910400</td>\n",
       "    </tr>\n",
       "    <tr>\n",
       "      <th>50%</th>\n",
       "      <td>446.000000</td>\n",
       "      <td>0.000000</td>\n",
       "      <td>3.000000</td>\n",
       "      <td>28.000000</td>\n",
       "      <td>0.000000</td>\n",
       "      <td>0.000000</td>\n",
       "      <td>14.454200</td>\n",
       "    </tr>\n",
       "    <tr>\n",
       "      <th>75%</th>\n",
       "      <td>668.500000</td>\n",
       "      <td>1.000000</td>\n",
       "      <td>3.000000</td>\n",
       "      <td>38.000000</td>\n",
       "      <td>1.000000</td>\n",
       "      <td>0.000000</td>\n",
       "      <td>31.000000</td>\n",
       "    </tr>\n",
       "    <tr>\n",
       "      <th>max</th>\n",
       "      <td>891.000000</td>\n",
       "      <td>1.000000</td>\n",
       "      <td>3.000000</td>\n",
       "      <td>80.000000</td>\n",
       "      <td>8.000000</td>\n",
       "      <td>6.000000</td>\n",
       "      <td>512.329200</td>\n",
       "    </tr>\n",
       "  </tbody>\n",
       "</table>\n",
       "</div>"
      ],
      "text/plain": [
       "       PassengerId    Survived      Pclass         Age       SibSp  \\\n",
       "count   891.000000  891.000000  891.000000  714.000000  891.000000   \n",
       "mean    446.000000    0.383838    2.308642   29.699118    0.523008   \n",
       "std     257.353842    0.486592    0.836071   14.526497    1.102743   \n",
       "min       1.000000    0.000000    1.000000    0.420000    0.000000   \n",
       "25%     223.500000    0.000000    2.000000   20.125000    0.000000   \n",
       "50%     446.000000    0.000000    3.000000   28.000000    0.000000   \n",
       "75%     668.500000    1.000000    3.000000   38.000000    1.000000   \n",
       "max     891.000000    1.000000    3.000000   80.000000    8.000000   \n",
       "\n",
       "            Parch        Fare  \n",
       "count  891.000000  891.000000  \n",
       "mean     0.381594   32.204208  \n",
       "std      0.806057   49.693429  \n",
       "min      0.000000    0.000000  \n",
       "25%      0.000000    7.910400  \n",
       "50%      0.000000   14.454200  \n",
       "75%      0.000000   31.000000  \n",
       "max      6.000000  512.329200  "
      ]
     },
     "execution_count": 9,
     "metadata": {},
     "output_type": "execute_result"
    }
   ],
   "source": [
    "train_data.describe()"
   ]
  },
  {
   "cell_type": "markdown",
   "id": "f9cf2bc4",
   "metadata": {
    "papermill": {
     "duration": 0.040443,
     "end_time": "2022-09-14T09:24:11.340112",
     "exception": false,
     "start_time": "2022-09-14T09:24:11.299669",
     "status": "completed"
    },
    "tags": []
   },
   "source": [
    "Feature types\n",
    "- Numeric\n",
    "    - Discret: Age\n",
    "    - Continuos: Fare\n",
    "- Categorical\n",
    "    - Nominal: Sex, Embarked\n",
    "    - Binary: Survived\n",
    "    - Ordinal: PassengerId, Pclass"
   ]
  },
  {
   "cell_type": "code",
   "execution_count": 10,
   "id": "7a39960f",
   "metadata": {
    "execution": {
     "iopub.execute_input": "2022-09-14T09:24:11.424602Z",
     "iopub.status.busy": "2022-09-14T09:24:11.423744Z",
     "iopub.status.idle": "2022-09-14T09:24:11.431482Z",
     "shell.execute_reply": "2022-09-14T09:24:11.430436Z"
    },
    "papermill": {
     "duration": 0.05195,
     "end_time": "2022-09-14T09:24:11.434158",
     "exception": false,
     "start_time": "2022-09-14T09:24:11.382208",
     "status": "completed"
    },
    "tags": []
   },
   "outputs": [],
   "source": [
    "df_num = train_data[['Age','SibSp','Parch','Fare']]\n",
    "df_cat = train_data[['Survived','Pclass','Sex','Ticket','Cabin','Embarked']]"
   ]
  },
  {
   "cell_type": "code",
   "execution_count": 11,
   "id": "e04fc549",
   "metadata": {
    "execution": {
     "iopub.execute_input": "2022-09-14T09:24:11.520415Z",
     "iopub.status.busy": "2022-09-14T09:24:11.519146Z",
     "iopub.status.idle": "2022-09-14T09:24:11.764184Z",
     "shell.execute_reply": "2022-09-14T09:24:11.762935Z"
    },
    "papermill": {
     "duration": 0.291661,
     "end_time": "2022-09-14T09:24:11.767544",
     "exception": false,
     "start_time": "2022-09-14T09:24:11.475883",
     "status": "completed"
    },
    "tags": []
   },
   "outputs": [
    {
     "name": "stdout",
     "output_type": "stream",
     "text": [
      "            Age     SibSp     Parch      Fare\n",
      "Age    1.000000 -0.308247 -0.189119  0.096067\n",
      "SibSp -0.308247  1.000000  0.414838  0.159651\n",
      "Parch -0.189119  0.414838  1.000000  0.216225\n",
      "Fare   0.096067  0.159651  0.216225  1.000000\n"
     ]
    },
    {
     "data": {
      "text/plain": [
       "<AxesSubplot:>"
      ]
     },
     "execution_count": 11,
     "metadata": {},
     "output_type": "execute_result"
    },
    {
     "data": {
      "image/png": "[encoded data removed]",
      "text/plain": [
       "<Figure size 432x288 with 2 Axes>"
      ]
     },
     "metadata": {
      "needs_background": "light"
     },
     "output_type": "display_data"
    }
   ],
   "source": [
    "print(df_num.corr())\n",
    "sns.heatmap(df_num.corr())"
   ]
  },
  {
   "cell_type": "code",
   "execution_count": 12,
   "id": "e40c8aab",
   "metadata": {
    "execution": {
     "iopub.execute_input": "2022-09-14T09:24:11.853618Z",
     "iopub.status.busy": "2022-09-14T09:24:11.853156Z",
     "iopub.status.idle": "2022-09-14T09:24:11.884166Z",
     "shell.execute_reply": "2022-09-14T09:24:11.882607Z"
    },
    "papermill": {
     "duration": 0.07844,
     "end_time": "2022-09-14T09:24:11.887163",
     "exception": false,
     "start_time": "2022-09-14T09:24:11.808723",
     "status": "completed"
    },
    "tags": []
   },
   "outputs": [
    {
     "data": {
      "text/html": [
       "<div>\n",
       "<style scoped>\n",
       "    .dataframe tbody tr th:only-of-type {\n",
       "        vertical-align: middle;\n",
       "    }\n",
       "\n",
       "    .dataframe tbody tr th {\n",
       "        vertical-align: top;\n",
       "    }\n",
       "\n",
       "    .dataframe thead th {\n",
       "        text-align: right;\n",
       "    }\n",
       "</style>\n",
       "<table border=\"1\" class=\"dataframe\">\n",
       "  <thead>\n",
       "    <tr style=\"text-align: right;\">\n",
       "      <th></th>\n",
       "      <th>Age</th>\n",
       "      <th>Fare</th>\n",
       "      <th>Parch</th>\n",
       "      <th>SibSp</th>\n",
       "    </tr>\n",
       "    <tr>\n",
       "      <th>Survived</th>\n",
       "      <th></th>\n",
       "      <th></th>\n",
       "      <th></th>\n",
       "      <th></th>\n",
       "    </tr>\n",
       "  </thead>\n",
       "  <tbody>\n",
       "    <tr>\n",
       "      <th>0</th>\n",
       "      <td>30.626179</td>\n",
       "      <td>22.117887</td>\n",
       "      <td>0.329690</td>\n",
       "      <td>0.553734</td>\n",
       "    </tr>\n",
       "    <tr>\n",
       "      <th>1</th>\n",
       "      <td>28.343690</td>\n",
       "      <td>48.395408</td>\n",
       "      <td>0.464912</td>\n",
       "      <td>0.473684</td>\n",
       "    </tr>\n",
       "  </tbody>\n",
       "</table>\n",
       "</div>"
      ],
      "text/plain": [
       "                Age       Fare     Parch     SibSp\n",
       "Survived                                          \n",
       "0         30.626179  22.117887  0.329690  0.553734\n",
       "1         28.343690  48.395408  0.464912  0.473684"
      ]
     },
     "execution_count": 12,
     "metadata": {},
     "output_type": "execute_result"
    }
   ],
   "source": [
    "pd.pivot_table(train_data, index = 'Survived', values = ['Age','SibSp','Parch','Fare'])"
   ]
  },
  {
   "cell_type": "code",
   "execution_count": 13,
   "id": "e403222a",
   "metadata": {
    "execution": {
     "iopub.execute_input": "2022-09-14T09:24:11.972430Z",
     "iopub.status.busy": "2022-09-14T09:24:11.971339Z",
     "iopub.status.idle": "2022-09-14T09:24:11.985505Z",
     "shell.execute_reply": "2022-09-14T09:24:11.984496Z"
    },
    "papermill": {
     "duration": 0.059278,
     "end_time": "2022-09-14T09:24:11.988005",
     "exception": false,
     "start_time": "2022-09-14T09:24:11.928727",
     "status": "completed"
    },
    "tags": []
   },
   "outputs": [
    {
     "data": {
      "text/plain": [
       "Cabin          77.1\n",
       "Age            19.9\n",
       "Embarked        0.2\n",
       "PassengerId     0.0\n",
       "Survived        0.0\n",
       "Pclass          0.0\n",
       "Name            0.0\n",
       "Sex             0.0\n",
       "SibSp           0.0\n",
       "Parch           0.0\n",
       "Ticket          0.0\n",
       "Fare            0.0\n",
       "dtype: float64"
      ]
     },
     "execution_count": 13,
     "metadata": {},
     "output_type": "execute_result"
    }
   ],
   "source": [
    "round (train_data.isnull().sum().sort_values(ascending=False)/len(train_data)*100,1)"
   ]
  },
  {
   "cell_type": "markdown",
   "id": "c7cdf612",
   "metadata": {
    "papermill": {
     "duration": 0.037441,
     "end_time": "2022-09-14T09:24:12.069559",
     "exception": false,
     "start_time": "2022-09-14T09:24:12.032118",
     "status": "completed"
    },
    "tags": []
   },
   "source": [
    "Cabin look useless but could be transformed in other variable\n",
    "Age is the main problem, filling that could be key.\n",
    "Embarked and Fare can be filled with mean or median value.\n"
   ]
  },
  {
   "cell_type": "markdown",
   "id": "7fcd5b60",
   "metadata": {
    "papermill": {
     "duration": 0.039611,
     "end_time": "2022-09-14T09:24:12.149276",
     "exception": false,
     "start_time": "2022-09-14T09:24:12.109665",
     "status": "completed"
    },
    "tags": []
   },
   "source": [
    "### Survived\n",
    "Only survived 38,4% of passengers."
   ]
  },
  {
   "cell_type": "code",
   "execution_count": 14,
   "id": "36ba39af",
   "metadata": {
    "execution": {
     "iopub.execute_input": "2022-09-14T09:24:12.228263Z",
     "iopub.status.busy": "2022-09-14T09:24:12.227868Z",
     "iopub.status.idle": "2022-09-14T09:24:12.238776Z",
     "shell.execute_reply": "2022-09-14T09:24:12.237591Z"
    },
    "papermill": {
     "duration": 0.052734,
     "end_time": "2022-09-14T09:24:12.241095",
     "exception": false,
     "start_time": "2022-09-14T09:24:12.188361",
     "status": "completed"
    },
    "tags": []
   },
   "outputs": [
    {
     "data": {
      "text/plain": [
       "Survived    38.4\n",
       "dtype: float64"
      ]
     },
     "execution_count": 14,
     "metadata": {},
     "output_type": "execute_result"
    }
   ],
   "source": [
    "round(train_data[['Survived']].mean()*100,1)"
   ]
  },
  {
   "cell_type": "markdown",
   "id": "e4d2996b",
   "metadata": {
    "papermill": {
     "duration": 0.038602,
     "end_time": "2022-09-14T09:24:12.319121",
     "exception": false,
     "start_time": "2022-09-14T09:24:12.280519",
     "status": "completed"
    },
    "tags": []
   },
   "source": [
    "### Pclass"
   ]
  },
  {
   "cell_type": "code",
   "execution_count": 15,
   "id": "bcc69268",
   "metadata": {
    "execution": {
     "iopub.execute_input": "2022-09-14T09:24:12.399897Z",
     "iopub.status.busy": "2022-09-14T09:24:12.398595Z",
     "iopub.status.idle": "2022-09-14T09:24:12.421385Z",
     "shell.execute_reply": "2022-09-14T09:24:12.420053Z"
    },
    "papermill": {
     "duration": 0.065727,
     "end_time": "2022-09-14T09:24:12.424129",
     "exception": false,
     "start_time": "2022-09-14T09:24:12.358402",
     "status": "completed"
    },
    "tags": []
   },
   "outputs": [
    {
     "data": {
      "text/html": [
       "<div>\n",
       "<style scoped>\n",
       "    .dataframe tbody tr th:only-of-type {\n",
       "        vertical-align: middle;\n",
       "    }\n",
       "\n",
       "    .dataframe tbody tr th {\n",
       "        vertical-align: top;\n",
       "    }\n",
       "\n",
       "    .dataframe thead tr th {\n",
       "        text-align: left;\n",
       "    }\n",
       "\n",
       "    .dataframe thead tr:last-of-type th {\n",
       "        text-align: right;\n",
       "    }\n",
       "</style>\n",
       "<table border=\"1\" class=\"dataframe\">\n",
       "  <thead>\n",
       "    <tr>\n",
       "      <th></th>\n",
       "      <th colspan=\"2\" halign=\"left\">Survived</th>\n",
       "    </tr>\n",
       "    <tr>\n",
       "      <th></th>\n",
       "      <th>count</th>\n",
       "      <th>mean</th>\n",
       "    </tr>\n",
       "    <tr>\n",
       "      <th>Pclass</th>\n",
       "      <th></th>\n",
       "      <th></th>\n",
       "    </tr>\n",
       "  </thead>\n",
       "  <tbody>\n",
       "    <tr>\n",
       "      <th>1</th>\n",
       "      <td>216</td>\n",
       "      <td>0.630</td>\n",
       "    </tr>\n",
       "    <tr>\n",
       "      <th>2</th>\n",
       "      <td>184</td>\n",
       "      <td>0.473</td>\n",
       "    </tr>\n",
       "    <tr>\n",
       "      <th>3</th>\n",
       "      <td>491</td>\n",
       "      <td>0.242</td>\n",
       "    </tr>\n",
       "  </tbody>\n",
       "</table>\n",
       "</div>"
      ],
      "text/plain": [
       "       Survived       \n",
       "          count   mean\n",
       "Pclass                \n",
       "1           216  0.630\n",
       "2           184  0.473\n",
       "3           491  0.242"
      ]
     },
     "execution_count": 15,
     "metadata": {},
     "output_type": "execute_result"
    }
   ],
   "source": [
    "round(train_data[['Pclass','Survived']].groupby('Pclass').agg(['count','mean']),3)"
   ]
  },
  {
   "cell_type": "code",
   "execution_count": 16,
   "id": "0fb8158a",
   "metadata": {
    "execution": {
     "iopub.execute_input": "2022-09-14T09:24:12.504223Z",
     "iopub.status.busy": "2022-09-14T09:24:12.502862Z",
     "iopub.status.idle": "2022-09-14T09:24:12.812606Z",
     "shell.execute_reply": "2022-09-14T09:24:12.811386Z"
    },
    "papermill": {
     "duration": 0.352127,
     "end_time": "2022-09-14T09:24:12.815114",
     "exception": false,
     "start_time": "2022-09-14T09:24:12.462987",
     "status": "completed"
    },
    "tags": []
   },
   "outputs": [
    {
     "data": {
      "text/plain": [
       "<AxesSubplot:xlabel='Pclass', ylabel='Count'>"
      ]
     },
     "execution_count": 16,
     "metadata": {},
     "output_type": "execute_result"
    },
    {
     "data": {
      "image/png": "[encoded data removed]",
      "text/plain": [
       "<Figure size 432x288 with 1 Axes>"
      ]
     },
     "metadata": {
      "needs_background": "light"
     },
     "output_type": "display_data"
    }
   ],
   "source": [
    "sns.histplot(x='Pclass', data=train_data, hue='Survived', multiple='fill')"
   ]
  },
  {
   "cell_type": "markdown",
   "id": "b0f63142",
   "metadata": {
    "papermill": {
     "duration": 0.038116,
     "end_time": "2022-09-14T09:24:12.892894",
     "exception": false,
     "start_time": "2022-09-14T09:24:12.854778",
     "status": "completed"
    },
    "tags": []
   },
   "source": [
    "### Sex"
   ]
  },
  {
   "cell_type": "code",
   "execution_count": 17,
   "id": "1c8bcd3f",
   "metadata": {
    "execution": {
     "iopub.execute_input": "2022-09-14T09:24:12.971490Z",
     "iopub.status.busy": "2022-09-14T09:24:12.970666Z",
     "iopub.status.idle": "2022-09-14T09:24:12.990134Z",
     "shell.execute_reply": "2022-09-14T09:24:12.988982Z"
    },
    "papermill": {
     "duration": 0.06162,
     "end_time": "2022-09-14T09:24:12.992708",
     "exception": false,
     "start_time": "2022-09-14T09:24:12.931088",
     "status": "completed"
    },
    "tags": []
   },
   "outputs": [
    {
     "data": {
      "text/html": [
       "<div>\n",
       "<style scoped>\n",
       "    .dataframe tbody tr th:only-of-type {\n",
       "        vertical-align: middle;\n",
       "    }\n",
       "\n",
       "    .dataframe tbody tr th {\n",
       "        vertical-align: top;\n",
       "    }\n",
       "\n",
       "    .dataframe thead tr th {\n",
       "        text-align: left;\n",
       "    }\n",
       "\n",
       "    .dataframe thead tr:last-of-type th {\n",
       "        text-align: right;\n",
       "    }\n",
       "</style>\n",
       "<table border=\"1\" class=\"dataframe\">\n",
       "  <thead>\n",
       "    <tr>\n",
       "      <th></th>\n",
       "      <th colspan=\"2\" halign=\"left\">Survived</th>\n",
       "    </tr>\n",
       "    <tr>\n",
       "      <th></th>\n",
       "      <th>count</th>\n",
       "      <th>mean</th>\n",
       "    </tr>\n",
       "    <tr>\n",
       "      <th>Sex</th>\n",
       "      <th></th>\n",
       "      <th></th>\n",
       "    </tr>\n",
       "  </thead>\n",
       "  <tbody>\n",
       "    <tr>\n",
       "      <th>female</th>\n",
       "      <td>314</td>\n",
       "      <td>0.742</td>\n",
       "    </tr>\n",
       "    <tr>\n",
       "      <th>male</th>\n",
       "      <td>577</td>\n",
       "      <td>0.189</td>\n",
       "    </tr>\n",
       "  </tbody>\n",
       "</table>\n",
       "</div>"
      ],
      "text/plain": [
       "       Survived       \n",
       "          count   mean\n",
       "Sex                   \n",
       "female      314  0.742\n",
       "male        577  0.189"
      ]
     },
     "execution_count": 17,
     "metadata": {},
     "output_type": "execute_result"
    }
   ],
   "source": [
    "round(train_data [['Sex','Survived']].groupby(['Sex']).agg(['count','mean']),3)"
   ]
  },
  {
   "cell_type": "code",
   "execution_count": 18,
   "id": "961f399b",
   "metadata": {
    "execution": {
     "iopub.execute_input": "2022-09-14T09:24:13.071772Z",
     "iopub.status.busy": "2022-09-14T09:24:13.071258Z",
     "iopub.status.idle": "2022-09-14T09:24:13.307665Z",
     "shell.execute_reply": "2022-09-14T09:24:13.306269Z"
    },
    "papermill": {
     "duration": 0.279554,
     "end_time": "2022-09-14T09:24:13.310792",
     "exception": false,
     "start_time": "2022-09-14T09:24:13.031238",
     "status": "completed"
    },
    "tags": []
   },
   "outputs": [
    {
     "data": {
      "text/plain": [
       "<AxesSubplot:xlabel='Sex', ylabel='Count'>"
      ]
     },
     "execution_count": 18,
     "metadata": {},
     "output_type": "execute_result"
    },
    {
     "data": {
      "image/png": "[encoded data removed]",
      "text/plain": [
       "<Figure size 432x288 with 1 Axes>"
      ]
     },
     "metadata": {
      "needs_background": "light"
     },
     "output_type": "display_data"
    }
   ],
   "source": [
    "sns.histplot(x='Sex', data=train_data, hue='Survived', multiple='fill')"
   ]
  },
  {
   "cell_type": "markdown",
   "id": "d3942f3f",
   "metadata": {
    "papermill": {
     "duration": 0.038518,
     "end_time": "2022-09-14T09:24:13.388124",
     "exception": false,
     "start_time": "2022-09-14T09:24:13.349606",
     "status": "completed"
    },
    "tags": []
   },
   "source": [
    "Sex-Pclass Interaction"
   ]
  },
  {
   "cell_type": "code",
   "execution_count": 19,
   "id": "060a3def",
   "metadata": {
    "execution": {
     "iopub.execute_input": "2022-09-14T09:24:13.469245Z",
     "iopub.status.busy": "2022-09-14T09:24:13.468196Z",
     "iopub.status.idle": "2022-09-14T09:24:13.488867Z",
     "shell.execute_reply": "2022-09-14T09:24:13.487979Z"
    },
    "papermill": {
     "duration": 0.062799,
     "end_time": "2022-09-14T09:24:13.491148",
     "exception": false,
     "start_time": "2022-09-14T09:24:13.428349",
     "status": "completed"
    },
    "tags": []
   },
   "outputs": [
    {
     "data": {
      "text/html": [
       "<div>\n",
       "<style scoped>\n",
       "    .dataframe tbody tr th:only-of-type {\n",
       "        vertical-align: middle;\n",
       "    }\n",
       "\n",
       "    .dataframe tbody tr th {\n",
       "        vertical-align: top;\n",
       "    }\n",
       "\n",
       "    .dataframe thead tr th {\n",
       "        text-align: left;\n",
       "    }\n",
       "\n",
       "    .dataframe thead tr:last-of-type th {\n",
       "        text-align: right;\n",
       "    }\n",
       "</style>\n",
       "<table border=\"1\" class=\"dataframe\">\n",
       "  <thead>\n",
       "    <tr>\n",
       "      <th></th>\n",
       "      <th></th>\n",
       "      <th colspan=\"2\" halign=\"left\">Survived</th>\n",
       "    </tr>\n",
       "    <tr>\n",
       "      <th></th>\n",
       "      <th></th>\n",
       "      <th>count</th>\n",
       "      <th>mean</th>\n",
       "    </tr>\n",
       "    <tr>\n",
       "      <th>Pclass</th>\n",
       "      <th>Sex</th>\n",
       "      <th></th>\n",
       "      <th></th>\n",
       "    </tr>\n",
       "  </thead>\n",
       "  <tbody>\n",
       "    <tr>\n",
       "      <th rowspan=\"2\" valign=\"top\">1</th>\n",
       "      <th>female</th>\n",
       "      <td>94</td>\n",
       "      <td>0.968</td>\n",
       "    </tr>\n",
       "    <tr>\n",
       "      <th>male</th>\n",
       "      <td>122</td>\n",
       "      <td>0.369</td>\n",
       "    </tr>\n",
       "    <tr>\n",
       "      <th rowspan=\"2\" valign=\"top\">2</th>\n",
       "      <th>female</th>\n",
       "      <td>76</td>\n",
       "      <td>0.921</td>\n",
       "    </tr>\n",
       "    <tr>\n",
       "      <th>male</th>\n",
       "      <td>108</td>\n",
       "      <td>0.157</td>\n",
       "    </tr>\n",
       "    <tr>\n",
       "      <th rowspan=\"2\" valign=\"top\">3</th>\n",
       "      <th>female</th>\n",
       "      <td>144</td>\n",
       "      <td>0.500</td>\n",
       "    </tr>\n",
       "    <tr>\n",
       "      <th>male</th>\n",
       "      <td>347</td>\n",
       "      <td>0.135</td>\n",
       "    </tr>\n",
       "  </tbody>\n",
       "</table>\n",
       "</div>"
      ],
      "text/plain": [
       "              Survived       \n",
       "                 count   mean\n",
       "Pclass Sex                   \n",
       "1      female       94  0.968\n",
       "       male        122  0.369\n",
       "2      female       76  0.921\n",
       "       male        108  0.157\n",
       "3      female      144  0.500\n",
       "       male        347  0.135"
      ]
     },
     "execution_count": 19,
     "metadata": {},
     "output_type": "execute_result"
    }
   ],
   "source": [
    "round(train_data [['Sex', 'Pclass','Survived']].groupby(['Pclass', 'Sex']).agg(['count','mean']),3)"
   ]
  },
  {
   "cell_type": "code",
   "execution_count": 20,
   "id": "be25572c",
   "metadata": {
    "execution": {
     "iopub.execute_input": "2022-09-14T09:24:13.571489Z",
     "iopub.status.busy": "2022-09-14T09:24:13.570758Z",
     "iopub.status.idle": "2022-09-14T09:24:13.881884Z",
     "shell.execute_reply": "2022-09-14T09:24:13.880742Z"
    },
    "papermill": {
     "duration": 0.353976,
     "end_time": "2022-09-14T09:24:13.884614",
     "exception": false,
     "start_time": "2022-09-14T09:24:13.530638",
     "status": "completed"
    },
    "tags": []
   },
   "outputs": [
    {
     "data": {
      "text/plain": [
       "<AxesSubplot:xlabel='Pclass', ylabel='Count'>"
      ]
     },
     "execution_count": 20,
     "metadata": {},
     "output_type": "execute_result"
    },
    {
     "data": {
      "image/png": "[encoded data removed]",
      "text/plain": [
       "<Figure size 432x288 with 1 Axes>"
      ]
     },
     "metadata": {
      "needs_background": "light"
     },
     "output_type": "display_data"
    }
   ],
   "source": [
    "sns.histplot(x='Pclass', data=train_data, hue='Sex', multiple='fill', palette={\"male\": \"cyan\", \"female\": \"pink\"})"
   ]
  },
  {
   "cell_type": "markdown",
   "id": "702ce693",
   "metadata": {
    "papermill": {
     "duration": 0.03913,
     "end_time": "2022-09-14T09:24:13.963253",
     "exception": false,
     "start_time": "2022-09-14T09:24:13.924123",
     "status": "completed"
    },
    "tags": []
   },
   "source": [
    "### Age"
   ]
  },
  {
   "cell_type": "code",
   "execution_count": 21,
   "id": "86bc839a",
   "metadata": {
    "execution": {
     "iopub.execute_input": "2022-09-14T09:24:14.044560Z",
     "iopub.status.busy": "2022-09-14T09:24:14.043744Z",
     "iopub.status.idle": "2022-09-14T09:24:14.667866Z",
     "shell.execute_reply": "2022-09-14T09:24:14.666793Z"
    },
    "papermill": {
     "duration": 0.667615,
     "end_time": "2022-09-14T09:24:14.670459",
     "exception": false,
     "start_time": "2022-09-14T09:24:14.002844",
     "status": "completed"
    },
    "tags": []
   },
   "outputs": [
    {
     "data": {
      "text/plain": [
       "<AxesSubplot:xlabel='Age', ylabel='Count'>"
      ]
     },
     "execution_count": 21,
     "metadata": {},
     "output_type": "execute_result"
    },
    {
     "data": {
      "image/png": "[encoded data removed]",
      "text/plain": [
       "<Figure size 432x288 with 1 Axes>"
      ]
     },
     "metadata": {
      "needs_background": "light"
     },
     "output_type": "display_data"
    }
   ],
   "source": [
    "sns.histplot(x='Age', data=train_data, hue='Survived', multiple='dodge', binwidth=1, kde=True)"
   ]
  },
  {
   "cell_type": "code",
   "execution_count": 22,
   "id": "437aa7dc",
   "metadata": {
    "execution": {
     "iopub.execute_input": "2022-09-14T09:24:14.752741Z",
     "iopub.status.busy": "2022-09-14T09:24:14.751903Z",
     "iopub.status.idle": "2022-09-14T09:24:15.353550Z",
     "shell.execute_reply": "2022-09-14T09:24:15.352404Z"
    },
    "papermill": {
     "duration": 0.645972,
     "end_time": "2022-09-14T09:24:15.356467",
     "exception": false,
     "start_time": "2022-09-14T09:24:14.710495",
     "status": "completed"
    },
    "tags": []
   },
   "outputs": [
    {
     "data": {
      "text/plain": [
       "<AxesSubplot:xlabel='Age', ylabel='Count'>"
      ]
     },
     "execution_count": 22,
     "metadata": {},
     "output_type": "execute_result"
    },
    {
     "data": {
      "image/png": "[encoded data removed]",
      "text/plain": [
       "<Figure size 432x288 with 1 Axes>"
      ]
     },
     "metadata": {
      "needs_background": "light"
     },
     "output_type": "display_data"
    }
   ],
   "source": [
    "sns.histplot(x='Age', data=train_data, hue='Survived', multiple='fill', binwidth=1)"
   ]
  },
  {
   "cell_type": "markdown",
   "id": "43e50831",
   "metadata": {
    "papermill": {
     "duration": 0.040121,
     "end_time": "2022-09-14T09:24:15.437290",
     "exception": false,
     "start_time": "2022-09-14T09:24:15.397169",
     "status": "completed"
    },
    "tags": []
   },
   "source": [
    "Age-Pclass Interaction"
   ]
  },
  {
   "cell_type": "code",
   "execution_count": 23,
   "id": "7a761480",
   "metadata": {
    "execution": {
     "iopub.execute_input": "2022-09-14T09:24:15.520758Z",
     "iopub.status.busy": "2022-09-14T09:24:15.519606Z",
     "iopub.status.idle": "2022-09-14T09:24:15.921005Z",
     "shell.execute_reply": "2022-09-14T09:24:15.919838Z"
    },
    "papermill": {
     "duration": 0.445614,
     "end_time": "2022-09-14T09:24:15.923625",
     "exception": false,
     "start_time": "2022-09-14T09:24:15.478011",
     "status": "completed"
    },
    "tags": []
   },
   "outputs": [
    {
     "data": {
      "text/plain": [
       "<AxesSubplot:xlabel='Age', ylabel='Count'>"
      ]
     },
     "execution_count": 23,
     "metadata": {},
     "output_type": "execute_result"
    },
    {
     "data": {
      "image/png": "[encoded data removed]",
      "text/plain": [
       "<Figure size 432x288 with 1 Axes>"
      ]
     },
     "metadata": {
      "needs_background": "light"
     },
     "output_type": "display_data"
    }
   ],
   "source": [
    "sns.histplot(x='Age', data=train_data, hue='Pclass', multiple='dodge', binwidth=5, kde=True)"
   ]
  },
  {
   "cell_type": "code",
   "execution_count": 24,
   "id": "8f01a03a",
   "metadata": {
    "execution": {
     "iopub.execute_input": "2022-09-14T09:24:16.007663Z",
     "iopub.status.busy": "2022-09-14T09:24:16.006798Z",
     "iopub.status.idle": "2022-09-14T09:24:16.429283Z",
     "shell.execute_reply": "2022-09-14T09:24:16.428195Z"
    },
    "papermill": {
     "duration": 0.467293,
     "end_time": "2022-09-14T09:24:16.431766",
     "exception": false,
     "start_time": "2022-09-14T09:24:15.964473",
     "status": "completed"
    },
    "tags": []
   },
   "outputs": [
    {
     "data": {
      "text/plain": [
       "<AxesSubplot:xlabel='Pclass', ylabel='Age'>"
      ]
     },
     "execution_count": 24,
     "metadata": {},
     "output_type": "execute_result"
    },
    {
     "data": {
      "image/png": "[encoded data removed]",
      "text/plain": [
       "<Figure size 432x288 with 1 Axes>"
      ]
     },
     "metadata": {
      "needs_background": "light"
     },
     "output_type": "display_data"
    }
   ],
   "source": [
    "sns.violinplot(x='Pclass', y='Age', hue='Survived', split=True ,data=train_data , cut=0)"
   ]
  },
  {
   "cell_type": "markdown",
   "id": "e7adf9b9",
   "metadata": {
    "papermill": {
     "duration": 0.041105,
     "end_time": "2022-09-14T09:24:16.514199",
     "exception": false,
     "start_time": "2022-09-14T09:24:16.473094",
     "status": "completed"
    },
    "tags": []
   },
   "source": [
    "Age-Sex Interaction"
   ]
  },
  {
   "cell_type": "code",
   "execution_count": 25,
   "id": "e9224e55",
   "metadata": {
    "execution": {
     "iopub.execute_input": "2022-09-14T09:24:16.600978Z",
     "iopub.status.busy": "2022-09-14T09:24:16.600159Z",
     "iopub.status.idle": "2022-09-14T09:24:16.931889Z",
     "shell.execute_reply": "2022-09-14T09:24:16.930702Z"
    },
    "papermill": {
     "duration": 0.377972,
     "end_time": "2022-09-14T09:24:16.934652",
     "exception": false,
     "start_time": "2022-09-14T09:24:16.556680",
     "status": "completed"
    },
    "tags": []
   },
   "outputs": [
    {
     "data": {
      "text/plain": [
       "<AxesSubplot:xlabel='Age', ylabel='Count'>"
      ]
     },
     "execution_count": 25,
     "metadata": {},
     "output_type": "execute_result"
    },
    {
     "data": {
      "image/png": "[encoded data removed]",
      "text/plain": [
       "<Figure size 432x288 with 1 Axes>"
      ]
     },
     "metadata": {
      "needs_background": "light"
     },
     "output_type": "display_data"
    }
   ],
   "source": [
    "sns.histplot(x='Age', data=train_data, hue='Sex', multiple='fill', binwidth=5, palette={\"male\": \"cyan\", \"female\": \"pink\"})"
   ]
  },
  {
   "cell_type": "code",
   "execution_count": 26,
   "id": "147f6eb4",
   "metadata": {
    "execution": {
     "iopub.execute_input": "2022-09-14T09:24:17.022660Z",
     "iopub.status.busy": "2022-09-14T09:24:17.021875Z",
     "iopub.status.idle": "2022-09-14T09:24:17.373836Z",
     "shell.execute_reply": "2022-09-14T09:24:17.372865Z"
    },
    "papermill": {
     "duration": 0.398913,
     "end_time": "2022-09-14T09:24:17.376295",
     "exception": false,
     "start_time": "2022-09-14T09:24:16.977382",
     "status": "completed"
    },
    "tags": []
   },
   "outputs": [
    {
     "data": {
      "text/plain": [
       "<AxesSubplot:xlabel='Age', ylabel='Count'>"
      ]
     },
     "execution_count": 26,
     "metadata": {},
     "output_type": "execute_result"
    },
    {
     "data": {
      "image/png": "[encoded data removed]",
      "text/plain": [
       "<Figure size 432x288 with 1 Axes>"
      ]
     },
     "metadata": {
      "needs_background": "light"
     },
     "output_type": "display_data"
    }
   ],
   "source": [
    "sns.histplot(x='Age', data=train_data, hue='Sex', multiple='dodge', binwidth=5, kde=True,palette={\"male\": \"cyan\", \"female\": \"pink\"})"
   ]
  },
  {
   "cell_type": "code",
   "execution_count": 27,
   "id": "36b853e1",
   "metadata": {
    "execution": {
     "iopub.execute_input": "2022-09-14T09:24:17.462729Z",
     "iopub.status.busy": "2022-09-14T09:24:17.462260Z",
     "iopub.status.idle": "2022-09-14T09:24:17.721621Z",
     "shell.execute_reply": "2022-09-14T09:24:17.719973Z"
    },
    "papermill": {
     "duration": 0.305838,
     "end_time": "2022-09-14T09:24:17.724215",
     "exception": false,
     "start_time": "2022-09-14T09:24:17.418377",
     "status": "completed"
    },
    "tags": []
   },
   "outputs": [
    {
     "data": {
      "text/plain": [
       "<AxesSubplot:xlabel='Sex', ylabel='Age'>"
      ]
     },
     "execution_count": 27,
     "metadata": {},
     "output_type": "execute_result"
    },
    {
     "data": {
      "image/png": "[encoded data removed]",
      "text/plain": [
       "<Figure size 432x288 with 1 Axes>"
      ]
     },
     "metadata": {
      "needs_background": "light"
     },
     "output_type": "display_data"
    }
   ],
   "source": [
    "sns.violinplot(x='Sex', y='Age', hue='Survived', split=True ,data=train_data, cut=0 )"
   ]
  },
  {
   "cell_type": "markdown",
   "id": "5367c9b2",
   "metadata": {
    "execution": {
     "iopub.execute_input": "2022-09-08T11:31:50.112130Z",
     "iopub.status.busy": "2022-09-08T11:31:50.111006Z",
     "iopub.status.idle": "2022-09-08T11:31:50.120688Z",
     "shell.execute_reply": "2022-09-08T11:31:50.118874Z",
     "shell.execute_reply.started": "2022-09-08T11:31:50.112067Z"
    },
    "papermill": {
     "duration": 0.043526,
     "end_time": "2022-09-14T09:24:17.810582",
     "exception": false,
     "start_time": "2022-09-14T09:24:17.767056",
     "status": "completed"
    },
    "tags": []
   },
   "source": [
    "Age-Pclass-Sex Interaction"
   ]
  },
  {
   "cell_type": "code",
   "execution_count": 28,
   "id": "8e84be47",
   "metadata": {
    "execution": {
     "iopub.execute_input": "2022-09-14T09:24:17.901230Z",
     "iopub.status.busy": "2022-09-14T09:24:17.900459Z",
     "iopub.status.idle": "2022-09-14T09:24:18.452335Z",
     "shell.execute_reply": "2022-09-14T09:24:18.451477Z"
    },
    "papermill": {
     "duration": 0.599881,
     "end_time": "2022-09-14T09:24:18.454597",
     "exception": false,
     "start_time": "2022-09-14T09:24:17.854716",
     "status": "completed"
    },
    "tags": []
   },
   "outputs": [
    {
     "data": {
      "text/plain": [
       "<seaborn.axisgrid.FacetGrid at 0x7f5695717410>"
      ]
     },
     "execution_count": 28,
     "metadata": {},
     "output_type": "execute_result"
    },
    {
     "data": {
      "image/png": "[encoded data removed]",
      "text/plain": [
       "<Figure size 216x432 with 2 Axes>"
      ]
     },
     "metadata": {
      "needs_background": "light"
     },
     "output_type": "display_data"
    }
   ],
   "source": [
    "sns.FacetGrid(train_data, row='Sex').map(sns.violinplot, 'Pclass', 'Age', 'Survived', split=True, order=[1,2,3], hue_order=[0, 1], cut=0)"
   ]
  },
  {
   "cell_type": "code",
   "execution_count": 29,
   "id": "b86cd792",
   "metadata": {
    "execution": {
     "iopub.execute_input": "2022-09-14T09:24:18.543902Z",
     "iopub.status.busy": "2022-09-14T09:24:18.543083Z",
     "iopub.status.idle": "2022-09-14T09:24:18.557816Z",
     "shell.execute_reply": "2022-09-14T09:24:18.556814Z"
    },
    "papermill": {
     "duration": 0.062052,
     "end_time": "2022-09-14T09:24:18.560116",
     "exception": false,
     "start_time": "2022-09-14T09:24:18.498064",
     "status": "completed"
    },
    "tags": []
   },
   "outputs": [
    {
     "name": "stdout",
     "output_type": "stream",
     "text": [
      "Pclass 2 adult male survivors: 6.2 %\n",
      "Pclass 3 adult male survivors: 13.7 %\n"
     ]
    }
   ],
   "source": [
    "print('Pclass 2 adult male survivors:',round(len(train_data[(train_data['Pclass']==2) & \\\n",
    "        (train_data['Age']>19) & (train_data['Sex']=='male') & (train_data['Survived'] \\\n",
    "        == True)])/len(train_data[(train_data['Pclass']==2) & (train_data['Age']>19) & \\\n",
    "        (train_data['Sex']=='male')])*100,1),'%')\n",
    "\n",
    "print('Pclass 3 adult male survivors:',round(len(train_data[(train_data['Pclass']==3) & \\\n",
    "        (train_data['Age']>19) & (train_data['Sex']=='male') & (train_data['Survived'] \\\n",
    "        == True)])/len(train_data[(train_data['Pclass']==3) & (train_data['Age']>19) & \\\n",
    "        (train_data['Sex']=='male')])*100,1),'%')"
   ]
  },
  {
   "cell_type": "code",
   "execution_count": 30,
   "id": "27039df2",
   "metadata": {
    "execution": {
     "iopub.execute_input": "2022-09-14T09:24:18.649120Z",
     "iopub.status.busy": "2022-09-14T09:24:18.648161Z",
     "iopub.status.idle": "2022-09-14T09:24:18.670125Z",
     "shell.execute_reply": "2022-09-14T09:24:18.668832Z"
    },
    "papermill": {
     "duration": 0.069104,
     "end_time": "2022-09-14T09:24:18.672728",
     "exception": false,
     "start_time": "2022-09-14T09:24:18.603624",
     "status": "completed"
    },
    "tags": []
   },
   "outputs": [
    {
     "data": {
      "text/html": [
       "<div>\n",
       "<style scoped>\n",
       "    .dataframe tbody tr th:only-of-type {\n",
       "        vertical-align: middle;\n",
       "    }\n",
       "\n",
       "    .dataframe tbody tr th {\n",
       "        vertical-align: top;\n",
       "    }\n",
       "\n",
       "    .dataframe thead tr th {\n",
       "        text-align: left;\n",
       "    }\n",
       "\n",
       "    .dataframe thead tr:last-of-type th {\n",
       "        text-align: right;\n",
       "    }\n",
       "</style>\n",
       "<table border=\"1\" class=\"dataframe\">\n",
       "  <thead>\n",
       "    <tr>\n",
       "      <th></th>\n",
       "      <th></th>\n",
       "      <th colspan=\"2\" halign=\"left\">Survived</th>\n",
       "    </tr>\n",
       "    <tr>\n",
       "      <th></th>\n",
       "      <th></th>\n",
       "      <th>count</th>\n",
       "      <th>mean</th>\n",
       "    </tr>\n",
       "    <tr>\n",
       "      <th>Pclass</th>\n",
       "      <th>Sex</th>\n",
       "      <th></th>\n",
       "      <th></th>\n",
       "    </tr>\n",
       "  </thead>\n",
       "  <tbody>\n",
       "    <tr>\n",
       "      <th rowspan=\"2\" valign=\"top\">1</th>\n",
       "      <th>female</th>\n",
       "      <td>94</td>\n",
       "      <td>0.968</td>\n",
       "    </tr>\n",
       "    <tr>\n",
       "      <th>male</th>\n",
       "      <td>122</td>\n",
       "      <td>0.369</td>\n",
       "    </tr>\n",
       "    <tr>\n",
       "      <th rowspan=\"2\" valign=\"top\">2</th>\n",
       "      <th>female</th>\n",
       "      <td>76</td>\n",
       "      <td>0.921</td>\n",
       "    </tr>\n",
       "    <tr>\n",
       "      <th>male</th>\n",
       "      <td>108</td>\n",
       "      <td>0.157</td>\n",
       "    </tr>\n",
       "    <tr>\n",
       "      <th rowspan=\"2\" valign=\"top\">3</th>\n",
       "      <th>female</th>\n",
       "      <td>144</td>\n",
       "      <td>0.500</td>\n",
       "    </tr>\n",
       "    <tr>\n",
       "      <th>male</th>\n",
       "      <td>347</td>\n",
       "      <td>0.135</td>\n",
       "    </tr>\n",
       "  </tbody>\n",
       "</table>\n",
       "</div>"
      ],
      "text/plain": [
       "              Survived       \n",
       "                 count   mean\n",
       "Pclass Sex                   \n",
       "1      female       94  0.968\n",
       "       male        122  0.369\n",
       "2      female       76  0.921\n",
       "       male        108  0.157\n",
       "3      female      144  0.500\n",
       "       male        347  0.135"
      ]
     },
     "execution_count": 30,
     "metadata": {},
     "output_type": "execute_result"
    }
   ],
   "source": [
    "round(train_data [['Sex', 'Pclass','Survived']].groupby(['Pclass', 'Sex']).agg(['count','mean']),3)"
   ]
  },
  {
   "cell_type": "markdown",
   "id": "ca4b3599",
   "metadata": {
    "papermill": {
     "duration": 0.043349,
     "end_time": "2022-09-14T09:24:18.759957",
     "exception": false,
     "start_time": "2022-09-14T09:24:18.716608",
     "status": "completed"
    },
    "tags": []
   },
   "source": [
    "SibSp"
   ]
  },
  {
   "cell_type": "code",
   "execution_count": 31,
   "id": "6ee96f79",
   "metadata": {
    "execution": {
     "iopub.execute_input": "2022-09-14T09:24:18.852391Z",
     "iopub.status.busy": "2022-09-14T09:24:18.851987Z",
     "iopub.status.idle": "2022-09-14T09:24:19.249688Z",
     "shell.execute_reply": "2022-09-14T09:24:19.248475Z"
    },
    "papermill": {
     "duration": 0.449413,
     "end_time": "2022-09-14T09:24:19.252666",
     "exception": false,
     "start_time": "2022-09-14T09:24:18.803253",
     "status": "completed"
    },
    "tags": []
   },
   "outputs": [
    {
     "data": {
      "text/plain": [
       "<AxesSubplot:xlabel='SibSp', ylabel='Count'>"
      ]
     },
     "execution_count": 31,
     "metadata": {},
     "output_type": "execute_result"
    },
    {
     "data": {
      "image/png": "[encoded data removed]",
      "text/plain": [
       "<Figure size 432x288 with 1 Axes>"
      ]
     },
     "metadata": {
      "needs_background": "light"
     },
     "output_type": "display_data"
    }
   ],
   "source": [
    "sns.histplot(x='SibSp', data=titanic, hue='Survived', multiple='dodge')"
   ]
  },
  {
   "cell_type": "markdown",
   "id": "610b726e",
   "metadata": {
    "papermill": {
     "duration": 0.044087,
     "end_time": "2022-09-14T09:24:19.341226",
     "exception": false,
     "start_time": "2022-09-14T09:24:19.297139",
     "status": "completed"
    },
    "tags": []
   },
   "source": [
    "Parch"
   ]
  },
  {
   "cell_type": "code",
   "execution_count": 32,
   "id": "ee258141",
   "metadata": {
    "execution": {
     "iopub.execute_input": "2022-09-14T09:24:19.431495Z",
     "iopub.status.busy": "2022-09-14T09:24:19.431066Z",
     "iopub.status.idle": "2022-09-14T09:24:19.722591Z",
     "shell.execute_reply": "2022-09-14T09:24:19.721504Z"
    },
    "papermill": {
     "duration": 0.339743,
     "end_time": "2022-09-14T09:24:19.725174",
     "exception": false,
     "start_time": "2022-09-14T09:24:19.385431",
     "status": "completed"
    },
    "tags": []
   },
   "outputs": [
    {
     "data": {
      "text/plain": [
       "<AxesSubplot:xlabel='Parch', ylabel='Count'>"
      ]
     },
     "execution_count": 32,
     "metadata": {},
     "output_type": "execute_result"
    },
    {
     "data": {
      "image/png": "[encoded data removed]",
      "text/plain": [
       "<Figure size 432x288 with 1 Axes>"
      ]
     },
     "metadata": {
      "needs_background": "light"
     },
     "output_type": "display_data"
    }
   ],
   "source": [
    "sns.histplot(x='Parch', data=titanic, hue='Survived', multiple='dodge')"
   ]
  },
  {
   "cell_type": "markdown",
   "id": "a720d529",
   "metadata": {
    "papermill": {
     "duration": 0.044634,
     "end_time": "2022-09-14T09:24:19.814855",
     "exception": false,
     "start_time": "2022-09-14T09:24:19.770221",
     "status": "completed"
    },
    "tags": []
   },
   "source": [
    "### Fare"
   ]
  },
  {
   "cell_type": "code",
   "execution_count": 33,
   "id": "bf97c2ad",
   "metadata": {
    "execution": {
     "iopub.execute_input": "2022-09-14T09:24:19.907432Z",
     "iopub.status.busy": "2022-09-14T09:24:19.906593Z",
     "iopub.status.idle": "2022-09-14T09:24:20.181017Z",
     "shell.execute_reply": "2022-09-14T09:24:20.179516Z"
    },
    "papermill": {
     "duration": 0.32408,
     "end_time": "2022-09-14T09:24:20.184133",
     "exception": false,
     "start_time": "2022-09-14T09:24:19.860053",
     "status": "completed"
    },
    "tags": []
   },
   "outputs": [
    {
     "data": {
      "text/plain": [
       "<AxesSubplot:xlabel='Fare', ylabel='Density'>"
      ]
     },
     "execution_count": 33,
     "metadata": {},
     "output_type": "execute_result"
    },
    {
     "data": {
      "image/png": "[encoded data removed]",
      "text/plain": [
       "<Figure size 432x288 with 1 Axes>"
      ]
     },
     "metadata": {
      "needs_background": "light"
     },
     "output_type": "display_data"
    }
   ],
   "source": [
    "sns.kdeplot(x='Fare', data=train_data, hue='Survived')"
   ]
  },
  {
   "cell_type": "code",
   "execution_count": 34,
   "id": "5694affa",
   "metadata": {
    "execution": {
     "iopub.execute_input": "2022-09-14T09:24:20.277607Z",
     "iopub.status.busy": "2022-09-14T09:24:20.276977Z",
     "iopub.status.idle": "2022-09-14T09:24:20.297838Z",
     "shell.execute_reply": "2022-09-14T09:24:20.296700Z"
    },
    "papermill": {
     "duration": 0.070904,
     "end_time": "2022-09-14T09:24:20.300789",
     "exception": false,
     "start_time": "2022-09-14T09:24:20.229885",
     "status": "completed"
    },
    "tags": []
   },
   "outputs": [
    {
     "data": {
      "text/html": [
       "<div>\n",
       "<style scoped>\n",
       "    .dataframe tbody tr th:only-of-type {\n",
       "        vertical-align: middle;\n",
       "    }\n",
       "\n",
       "    .dataframe tbody tr th {\n",
       "        vertical-align: top;\n",
       "    }\n",
       "\n",
       "    .dataframe thead th {\n",
       "        text-align: right;\n",
       "    }\n",
       "</style>\n",
       "<table border=\"1\" class=\"dataframe\">\n",
       "  <thead>\n",
       "    <tr style=\"text-align: right;\">\n",
       "      <th></th>\n",
       "      <th>PassengerId</th>\n",
       "      <th>Survived</th>\n",
       "      <th>Pclass</th>\n",
       "      <th>Name</th>\n",
       "      <th>Sex</th>\n",
       "      <th>Age</th>\n",
       "      <th>SibSp</th>\n",
       "      <th>Parch</th>\n",
       "      <th>Ticket</th>\n",
       "      <th>Fare</th>\n",
       "      <th>Cabin</th>\n",
       "      <th>Embarked</th>\n",
       "    </tr>\n",
       "  </thead>\n",
       "  <tbody>\n",
       "    <tr>\n",
       "      <th>179</th>\n",
       "      <td>180</td>\n",
       "      <td>0</td>\n",
       "      <td>3</td>\n",
       "      <td>Leonard, Mr. Lionel</td>\n",
       "      <td>male</td>\n",
       "      <td>36.0</td>\n",
       "      <td>0</td>\n",
       "      <td>0</td>\n",
       "      <td>LINE</td>\n",
       "      <td>0.0</td>\n",
       "      <td>NaN</td>\n",
       "      <td>S</td>\n",
       "    </tr>\n",
       "    <tr>\n",
       "      <th>263</th>\n",
       "      <td>264</td>\n",
       "      <td>0</td>\n",
       "      <td>1</td>\n",
       "      <td>Harrison, Mr. William</td>\n",
       "      <td>male</td>\n",
       "      <td>40.0</td>\n",
       "      <td>0</td>\n",
       "      <td>0</td>\n",
       "      <td>112059</td>\n",
       "      <td>0.0</td>\n",
       "      <td>B94</td>\n",
       "      <td>S</td>\n",
       "    </tr>\n",
       "    <tr>\n",
       "      <th>271</th>\n",
       "      <td>272</td>\n",
       "      <td>1</td>\n",
       "      <td>3</td>\n",
       "      <td>Tornquist, Mr. William Henry</td>\n",
       "      <td>male</td>\n",
       "      <td>25.0</td>\n",
       "      <td>0</td>\n",
       "      <td>0</td>\n",
       "      <td>LINE</td>\n",
       "      <td>0.0</td>\n",
       "      <td>NaN</td>\n",
       "      <td>S</td>\n",
       "    </tr>\n",
       "    <tr>\n",
       "      <th>277</th>\n",
       "      <td>278</td>\n",
       "      <td>0</td>\n",
       "      <td>2</td>\n",
       "      <td>Parkes, Mr. Francis \"Frank\"</td>\n",
       "      <td>male</td>\n",
       "      <td>NaN</td>\n",
       "      <td>0</td>\n",
       "      <td>0</td>\n",
       "      <td>239853</td>\n",
       "      <td>0.0</td>\n",
       "      <td>NaN</td>\n",
       "      <td>S</td>\n",
       "    </tr>\n",
       "    <tr>\n",
       "      <th>302</th>\n",
       "      <td>303</td>\n",
       "      <td>0</td>\n",
       "      <td>3</td>\n",
       "      <td>Johnson, Mr. William Cahoone Jr</td>\n",
       "      <td>male</td>\n",
       "      <td>19.0</td>\n",
       "      <td>0</td>\n",
       "      <td>0</td>\n",
       "      <td>LINE</td>\n",
       "      <td>0.0</td>\n",
       "      <td>NaN</td>\n",
       "      <td>S</td>\n",
       "    </tr>\n",
       "    <tr>\n",
       "      <th>413</th>\n",
       "      <td>414</td>\n",
       "      <td>0</td>\n",
       "      <td>2</td>\n",
       "      <td>Cunningham, Mr. Alfred Fleming</td>\n",
       "      <td>male</td>\n",
       "      <td>NaN</td>\n",
       "      <td>0</td>\n",
       "      <td>0</td>\n",
       "      <td>239853</td>\n",
       "      <td>0.0</td>\n",
       "      <td>NaN</td>\n",
       "      <td>S</td>\n",
       "    </tr>\n",
       "    <tr>\n",
       "      <th>466</th>\n",
       "      <td>467</td>\n",
       "      <td>0</td>\n",
       "      <td>2</td>\n",
       "      <td>Campbell, Mr. William</td>\n",
       "      <td>male</td>\n",
       "      <td>NaN</td>\n",
       "      <td>0</td>\n",
       "      <td>0</td>\n",
       "      <td>239853</td>\n",
       "      <td>0.0</td>\n",
       "      <td>NaN</td>\n",
       "      <td>S</td>\n",
       "    </tr>\n",
       "    <tr>\n",
       "      <th>481</th>\n",
       "      <td>482</td>\n",
       "      <td>0</td>\n",
       "      <td>2</td>\n",
       "      <td>Frost, Mr. Anthony Wood \"Archie\"</td>\n",
       "      <td>male</td>\n",
       "      <td>NaN</td>\n",
       "      <td>0</td>\n",
       "      <td>0</td>\n",
       "      <td>239854</td>\n",
       "      <td>0.0</td>\n",
       "      <td>NaN</td>\n",
       "      <td>S</td>\n",
       "    </tr>\n",
       "    <tr>\n",
       "      <th>597</th>\n",
       "      <td>598</td>\n",
       "      <td>0</td>\n",
       "      <td>3</td>\n",
       "      <td>Johnson, Mr. Alfred</td>\n",
       "      <td>male</td>\n",
       "      <td>49.0</td>\n",
       "      <td>0</td>\n",
       "      <td>0</td>\n",
       "      <td>LINE</td>\n",
       "      <td>0.0</td>\n",
       "      <td>NaN</td>\n",
       "      <td>S</td>\n",
       "    </tr>\n",
       "    <tr>\n",
       "      <th>633</th>\n",
       "      <td>634</td>\n",
       "      <td>0</td>\n",
       "      <td>1</td>\n",
       "      <td>Parr, Mr. William Henry Marsh</td>\n",
       "      <td>male</td>\n",
       "      <td>NaN</td>\n",
       "      <td>0</td>\n",
       "      <td>0</td>\n",
       "      <td>112052</td>\n",
       "      <td>0.0</td>\n",
       "      <td>NaN</td>\n",
       "      <td>S</td>\n",
       "    </tr>\n",
       "    <tr>\n",
       "      <th>674</th>\n",
       "      <td>675</td>\n",
       "      <td>0</td>\n",
       "      <td>2</td>\n",
       "      <td>Watson, Mr. Ennis Hastings</td>\n",
       "      <td>male</td>\n",
       "      <td>NaN</td>\n",
       "      <td>0</td>\n",
       "      <td>0</td>\n",
       "      <td>239856</td>\n",
       "      <td>0.0</td>\n",
       "      <td>NaN</td>\n",
       "      <td>S</td>\n",
       "    </tr>\n",
       "    <tr>\n",
       "      <th>732</th>\n",
       "      <td>733</td>\n",
       "      <td>0</td>\n",
       "      <td>2</td>\n",
       "      <td>Knight, Mr. Robert J</td>\n",
       "      <td>male</td>\n",
       "      <td>NaN</td>\n",
       "      <td>0</td>\n",
       "      <td>0</td>\n",
       "      <td>239855</td>\n",
       "      <td>0.0</td>\n",
       "      <td>NaN</td>\n",
       "      <td>S</td>\n",
       "    </tr>\n",
       "    <tr>\n",
       "      <th>806</th>\n",
       "      <td>807</td>\n",
       "      <td>0</td>\n",
       "      <td>1</td>\n",
       "      <td>Andrews, Mr. Thomas Jr</td>\n",
       "      <td>male</td>\n",
       "      <td>39.0</td>\n",
       "      <td>0</td>\n",
       "      <td>0</td>\n",
       "      <td>112050</td>\n",
       "      <td>0.0</td>\n",
       "      <td>A36</td>\n",
       "      <td>S</td>\n",
       "    </tr>\n",
       "    <tr>\n",
       "      <th>815</th>\n",
       "      <td>816</td>\n",
       "      <td>0</td>\n",
       "      <td>1</td>\n",
       "      <td>Fry, Mr. Richard</td>\n",
       "      <td>male</td>\n",
       "      <td>NaN</td>\n",
       "      <td>0</td>\n",
       "      <td>0</td>\n",
       "      <td>112058</td>\n",
       "      <td>0.0</td>\n",
       "      <td>B102</td>\n",
       "      <td>S</td>\n",
       "    </tr>\n",
       "    <tr>\n",
       "      <th>822</th>\n",
       "      <td>823</td>\n",
       "      <td>0</td>\n",
       "      <td>1</td>\n",
       "      <td>Reuchlin, Jonkheer. John George</td>\n",
       "      <td>male</td>\n",
       "      <td>38.0</td>\n",
       "      <td>0</td>\n",
       "      <td>0</td>\n",
       "      <td>19972</td>\n",
       "      <td>0.0</td>\n",
       "      <td>NaN</td>\n",
       "      <td>S</td>\n",
       "    </tr>\n",
       "  </tbody>\n",
       "</table>\n",
       "</div>"
      ],
      "text/plain": [
       "     PassengerId  Survived  Pclass                              Name   Sex  \\\n",
       "179          180         0       3               Leonard, Mr. Lionel  male   \n",
       "263          264         0       1             Harrison, Mr. William  male   \n",
       "271          272         1       3      Tornquist, Mr. William Henry  male   \n",
       "277          278         0       2       Parkes, Mr. Francis \"Frank\"  male   \n",
       "302          303         0       3   Johnson, Mr. William Cahoone Jr  male   \n",
       "413          414         0       2    Cunningham, Mr. Alfred Fleming  male   \n",
       "466          467         0       2             Campbell, Mr. William  male   \n",
       "481          482         0       2  Frost, Mr. Anthony Wood \"Archie\"  male   \n",
       "597          598         0       3               Johnson, Mr. Alfred  male   \n",
       "633          634         0       1     Parr, Mr. William Henry Marsh  male   \n",
       "674          675         0       2        Watson, Mr. Ennis Hastings  male   \n",
       "732          733         0       2              Knight, Mr. Robert J  male   \n",
       "806          807         0       1            Andrews, Mr. Thomas Jr  male   \n",
       "815          816         0       1                  Fry, Mr. Richard  male   \n",
       "822          823         0       1   Reuchlin, Jonkheer. John George  male   \n",
       "\n",
       "      Age  SibSp  Parch  Ticket  Fare Cabin Embarked  \n",
       "179  36.0      0      0    LINE   0.0   NaN        S  \n",
       "263  40.0      0      0  112059   0.0   B94        S  \n",
       "271  25.0      0      0    LINE   0.0   NaN        S  \n",
       "277   NaN      0      0  239853   0.0   NaN        S  \n",
       "302  19.0      0      0    LINE   0.0   NaN        S  \n",
       "413   NaN      0      0  239853   0.0   NaN        S  \n",
       "466   NaN      0      0  239853   0.0   NaN        S  \n",
       "481   NaN      0      0  239854   0.0   NaN        S  \n",
       "597  49.0      0      0    LINE   0.0   NaN        S  \n",
       "633   NaN      0      0  112052   0.0   NaN        S  \n",
       "674   NaN      0      0  239856   0.0   NaN        S  \n",
       "732   NaN      0      0  239855   0.0   NaN        S  \n",
       "806  39.0      0      0  112050   0.0   A36        S  \n",
       "815   NaN      0      0  112058   0.0  B102        S  \n",
       "822  38.0      0      0   19972   0.0   NaN        S  "
      ]
     },
     "execution_count": 34,
     "metadata": {},
     "output_type": "execute_result"
    }
   ],
   "source": [
    "train_data[(train_data['Fare']==0)]"
   ]
  },
  {
   "cell_type": "code",
   "execution_count": 35,
   "id": "23b44655",
   "metadata": {
    "execution": {
     "iopub.execute_input": "2022-09-14T09:24:20.395735Z",
     "iopub.status.busy": "2022-09-14T09:24:20.394951Z",
     "iopub.status.idle": "2022-09-14T09:24:20.411823Z",
     "shell.execute_reply": "2022-09-14T09:24:20.410578Z"
    },
    "papermill": {
     "duration": 0.067147,
     "end_time": "2022-09-14T09:24:20.414262",
     "exception": false,
     "start_time": "2022-09-14T09:24:20.347115",
     "status": "completed"
    },
    "tags": []
   },
   "outputs": [
    {
     "data": {
      "text/html": [
       "<div>\n",
       "<style scoped>\n",
       "    .dataframe tbody tr th:only-of-type {\n",
       "        vertical-align: middle;\n",
       "    }\n",
       "\n",
       "    .dataframe tbody tr th {\n",
       "        vertical-align: top;\n",
       "    }\n",
       "\n",
       "    .dataframe thead th {\n",
       "        text-align: right;\n",
       "    }\n",
       "</style>\n",
       "<table border=\"1\" class=\"dataframe\">\n",
       "  <thead>\n",
       "    <tr style=\"text-align: right;\">\n",
       "      <th></th>\n",
       "      <th>PassengerId</th>\n",
       "      <th>Survived</th>\n",
       "      <th>Name</th>\n",
       "      <th>Sex</th>\n",
       "      <th>Age</th>\n",
       "      <th>SibSp</th>\n",
       "      <th>Parch</th>\n",
       "      <th>Ticket</th>\n",
       "      <th>Fare</th>\n",
       "      <th>Cabin</th>\n",
       "      <th>Embarked</th>\n",
       "    </tr>\n",
       "    <tr>\n",
       "      <th>Pclass</th>\n",
       "      <th></th>\n",
       "      <th></th>\n",
       "      <th></th>\n",
       "      <th></th>\n",
       "      <th></th>\n",
       "      <th></th>\n",
       "      <th></th>\n",
       "      <th></th>\n",
       "      <th></th>\n",
       "      <th></th>\n",
       "      <th></th>\n",
       "    </tr>\n",
       "  </thead>\n",
       "  <tbody>\n",
       "    <tr>\n",
       "      <th>1</th>\n",
       "      <td>5</td>\n",
       "      <td>5</td>\n",
       "      <td>5</td>\n",
       "      <td>5</td>\n",
       "      <td>3</td>\n",
       "      <td>5</td>\n",
       "      <td>5</td>\n",
       "      <td>5</td>\n",
       "      <td>5</td>\n",
       "      <td>3</td>\n",
       "      <td>5</td>\n",
       "    </tr>\n",
       "    <tr>\n",
       "      <th>2</th>\n",
       "      <td>6</td>\n",
       "      <td>6</td>\n",
       "      <td>6</td>\n",
       "      <td>6</td>\n",
       "      <td>0</td>\n",
       "      <td>6</td>\n",
       "      <td>6</td>\n",
       "      <td>6</td>\n",
       "      <td>6</td>\n",
       "      <td>0</td>\n",
       "      <td>6</td>\n",
       "    </tr>\n",
       "    <tr>\n",
       "      <th>3</th>\n",
       "      <td>4</td>\n",
       "      <td>4</td>\n",
       "      <td>4</td>\n",
       "      <td>4</td>\n",
       "      <td>4</td>\n",
       "      <td>4</td>\n",
       "      <td>4</td>\n",
       "      <td>4</td>\n",
       "      <td>4</td>\n",
       "      <td>0</td>\n",
       "      <td>4</td>\n",
       "    </tr>\n",
       "  </tbody>\n",
       "</table>\n",
       "</div>"
      ],
      "text/plain": [
       "        PassengerId  Survived  Name  Sex  Age  SibSp  Parch  Ticket  Fare  \\\n",
       "Pclass                                                                      \n",
       "1                 5         5     5    5    3      5      5       5     5   \n",
       "2                 6         6     6    6    0      6      6       6     6   \n",
       "3                 4         4     4    4    4      4      4       4     4   \n",
       "\n",
       "        Cabin  Embarked  \n",
       "Pclass                   \n",
       "1           3         5  \n",
       "2           0         6  \n",
       "3           0         4  "
      ]
     },
     "execution_count": 35,
     "metadata": {},
     "output_type": "execute_result"
    }
   ],
   "source": [
    "train_data[(train_data['Fare']==0)].groupby('Pclass').agg('count')"
   ]
  },
  {
   "cell_type": "code",
   "execution_count": 36,
   "id": "3f07f494",
   "metadata": {
    "execution": {
     "iopub.execute_input": "2022-09-14T09:24:20.507913Z",
     "iopub.status.busy": "2022-09-14T09:24:20.507052Z",
     "iopub.status.idle": "2022-09-14T09:24:20.525459Z",
     "shell.execute_reply": "2022-09-14T09:24:20.524428Z"
    },
    "papermill": {
     "duration": 0.068072,
     "end_time": "2022-09-14T09:24:20.528000",
     "exception": false,
     "start_time": "2022-09-14T09:24:20.459928",
     "status": "completed"
    },
    "tags": []
   },
   "outputs": [
    {
     "data": {
      "text/html": [
       "<div>\n",
       "<style scoped>\n",
       "    .dataframe tbody tr th:only-of-type {\n",
       "        vertical-align: middle;\n",
       "    }\n",
       "\n",
       "    .dataframe tbody tr th {\n",
       "        vertical-align: top;\n",
       "    }\n",
       "\n",
       "    .dataframe thead th {\n",
       "        text-align: right;\n",
       "    }\n",
       "</style>\n",
       "<table border=\"1\" class=\"dataframe\">\n",
       "  <thead>\n",
       "    <tr style=\"text-align: right;\">\n",
       "      <th></th>\n",
       "      <th></th>\n",
       "      <th>PassengerId</th>\n",
       "      <th>Survived</th>\n",
       "      <th>Name</th>\n",
       "      <th>Sex</th>\n",
       "      <th>Age</th>\n",
       "      <th>SibSp</th>\n",
       "      <th>Parch</th>\n",
       "      <th>Fare</th>\n",
       "      <th>Cabin</th>\n",
       "      <th>Embarked</th>\n",
       "    </tr>\n",
       "    <tr>\n",
       "      <th>Pclass</th>\n",
       "      <th>Ticket</th>\n",
       "      <th></th>\n",
       "      <th></th>\n",
       "      <th></th>\n",
       "      <th></th>\n",
       "      <th></th>\n",
       "      <th></th>\n",
       "      <th></th>\n",
       "      <th></th>\n",
       "      <th></th>\n",
       "      <th></th>\n",
       "    </tr>\n",
       "  </thead>\n",
       "  <tbody>\n",
       "    <tr>\n",
       "      <th rowspan=\"5\" valign=\"top\">1</th>\n",
       "      <th>112050</th>\n",
       "      <td>1</td>\n",
       "      <td>1</td>\n",
       "      <td>1</td>\n",
       "      <td>1</td>\n",
       "      <td>1</td>\n",
       "      <td>1</td>\n",
       "      <td>1</td>\n",
       "      <td>1</td>\n",
       "      <td>1</td>\n",
       "      <td>1</td>\n",
       "    </tr>\n",
       "    <tr>\n",
       "      <th>112052</th>\n",
       "      <td>1</td>\n",
       "      <td>1</td>\n",
       "      <td>1</td>\n",
       "      <td>1</td>\n",
       "      <td>0</td>\n",
       "      <td>1</td>\n",
       "      <td>1</td>\n",
       "      <td>1</td>\n",
       "      <td>0</td>\n",
       "      <td>1</td>\n",
       "    </tr>\n",
       "    <tr>\n",
       "      <th>112058</th>\n",
       "      <td>1</td>\n",
       "      <td>1</td>\n",
       "      <td>1</td>\n",
       "      <td>1</td>\n",
       "      <td>0</td>\n",
       "      <td>1</td>\n",
       "      <td>1</td>\n",
       "      <td>1</td>\n",
       "      <td>1</td>\n",
       "      <td>1</td>\n",
       "    </tr>\n",
       "    <tr>\n",
       "      <th>112059</th>\n",
       "      <td>1</td>\n",
       "      <td>1</td>\n",
       "      <td>1</td>\n",
       "      <td>1</td>\n",
       "      <td>1</td>\n",
       "      <td>1</td>\n",
       "      <td>1</td>\n",
       "      <td>1</td>\n",
       "      <td>1</td>\n",
       "      <td>1</td>\n",
       "    </tr>\n",
       "    <tr>\n",
       "      <th>19972</th>\n",
       "      <td>1</td>\n",
       "      <td>1</td>\n",
       "      <td>1</td>\n",
       "      <td>1</td>\n",
       "      <td>1</td>\n",
       "      <td>1</td>\n",
       "      <td>1</td>\n",
       "      <td>1</td>\n",
       "      <td>0</td>\n",
       "      <td>1</td>\n",
       "    </tr>\n",
       "    <tr>\n",
       "      <th rowspan=\"4\" valign=\"top\">2</th>\n",
       "      <th>239853</th>\n",
       "      <td>3</td>\n",
       "      <td>3</td>\n",
       "      <td>3</td>\n",
       "      <td>3</td>\n",
       "      <td>0</td>\n",
       "      <td>3</td>\n",
       "      <td>3</td>\n",
       "      <td>3</td>\n",
       "      <td>0</td>\n",
       "      <td>3</td>\n",
       "    </tr>\n",
       "    <tr>\n",
       "      <th>239854</th>\n",
       "      <td>1</td>\n",
       "      <td>1</td>\n",
       "      <td>1</td>\n",
       "      <td>1</td>\n",
       "      <td>0</td>\n",
       "      <td>1</td>\n",
       "      <td>1</td>\n",
       "      <td>1</td>\n",
       "      <td>0</td>\n",
       "      <td>1</td>\n",
       "    </tr>\n",
       "    <tr>\n",
       "      <th>239855</th>\n",
       "      <td>1</td>\n",
       "      <td>1</td>\n",
       "      <td>1</td>\n",
       "      <td>1</td>\n",
       "      <td>0</td>\n",
       "      <td>1</td>\n",
       "      <td>1</td>\n",
       "      <td>1</td>\n",
       "      <td>0</td>\n",
       "      <td>1</td>\n",
       "    </tr>\n",
       "    <tr>\n",
       "      <th>239856</th>\n",
       "      <td>1</td>\n",
       "      <td>1</td>\n",
       "      <td>1</td>\n",
       "      <td>1</td>\n",
       "      <td>0</td>\n",
       "      <td>1</td>\n",
       "      <td>1</td>\n",
       "      <td>1</td>\n",
       "      <td>0</td>\n",
       "      <td>1</td>\n",
       "    </tr>\n",
       "    <tr>\n",
       "      <th>3</th>\n",
       "      <th>LINE</th>\n",
       "      <td>4</td>\n",
       "      <td>4</td>\n",
       "      <td>4</td>\n",
       "      <td>4</td>\n",
       "      <td>4</td>\n",
       "      <td>4</td>\n",
       "      <td>4</td>\n",
       "      <td>4</td>\n",
       "      <td>0</td>\n",
       "      <td>4</td>\n",
       "    </tr>\n",
       "  </tbody>\n",
       "</table>\n",
       "</div>"
      ],
      "text/plain": [
       "               PassengerId  Survived  Name  Sex  Age  SibSp  Parch  Fare  \\\n",
       "Pclass Ticket                                                              \n",
       "1      112050            1         1     1    1    1      1      1     1   \n",
       "       112052            1         1     1    1    0      1      1     1   \n",
       "       112058            1         1     1    1    0      1      1     1   \n",
       "       112059            1         1     1    1    1      1      1     1   \n",
       "       19972             1         1     1    1    1      1      1     1   \n",
       "2      239853            3         3     3    3    0      3      3     3   \n",
       "       239854            1         1     1    1    0      1      1     1   \n",
       "       239855            1         1     1    1    0      1      1     1   \n",
       "       239856            1         1     1    1    0      1      1     1   \n",
       "3      LINE              4         4     4    4    4      4      4     4   \n",
       "\n",
       "               Cabin  Embarked  \n",
       "Pclass Ticket                   \n",
       "1      112050      1         1  \n",
       "       112052      0         1  \n",
       "       112058      1         1  \n",
       "       112059      1         1  \n",
       "       19972       0         1  \n",
       "2      239853      0         3  \n",
       "       239854      0         1  \n",
       "       239855      0         1  \n",
       "       239856      0         1  \n",
       "3      LINE        0         4  "
      ]
     },
     "execution_count": 36,
     "metadata": {},
     "output_type": "execute_result"
    }
   ],
   "source": [
    "train_data[(train_data['Fare']==0)].groupby(['Pclass', 'Ticket']).agg('count')"
   ]
  },
  {
   "cell_type": "markdown",
   "id": "bec6f90f",
   "metadata": {
    "papermill": {
     "duration": 0.045638,
     "end_time": "2022-09-14T09:24:20.620964",
     "exception": false,
     "start_time": "2022-09-14T09:24:20.575326",
     "status": "completed"
    },
    "tags": []
   },
   "source": [
    "### Embarked"
   ]
  },
  {
   "cell_type": "code",
   "execution_count": 37,
   "id": "e0ea416b",
   "metadata": {
    "execution": {
     "iopub.execute_input": "2022-09-14T09:24:20.716146Z",
     "iopub.status.busy": "2022-09-14T09:24:20.715400Z",
     "iopub.status.idle": "2022-09-14T09:24:20.732970Z",
     "shell.execute_reply": "2022-09-14T09:24:20.731881Z"
    },
    "papermill": {
     "duration": 0.068542,
     "end_time": "2022-09-14T09:24:20.735332",
     "exception": false,
     "start_time": "2022-09-14T09:24:20.666790",
     "status": "completed"
    },
    "tags": []
   },
   "outputs": [
    {
     "data": {
      "text/html": [
       "<div>\n",
       "<style scoped>\n",
       "    .dataframe tbody tr th:only-of-type {\n",
       "        vertical-align: middle;\n",
       "    }\n",
       "\n",
       "    .dataframe tbody tr th {\n",
       "        vertical-align: top;\n",
       "    }\n",
       "\n",
       "    .dataframe thead tr th {\n",
       "        text-align: left;\n",
       "    }\n",
       "\n",
       "    .dataframe thead tr:last-of-type th {\n",
       "        text-align: right;\n",
       "    }\n",
       "</style>\n",
       "<table border=\"1\" class=\"dataframe\">\n",
       "  <thead>\n",
       "    <tr>\n",
       "      <th></th>\n",
       "      <th colspan=\"2\" halign=\"left\">Survived</th>\n",
       "    </tr>\n",
       "    <tr>\n",
       "      <th></th>\n",
       "      <th>count</th>\n",
       "      <th>mean</th>\n",
       "    </tr>\n",
       "    <tr>\n",
       "      <th>Embarked</th>\n",
       "      <th></th>\n",
       "      <th></th>\n",
       "    </tr>\n",
       "  </thead>\n",
       "  <tbody>\n",
       "    <tr>\n",
       "      <th>C</th>\n",
       "      <td>168</td>\n",
       "      <td>0.554</td>\n",
       "    </tr>\n",
       "    <tr>\n",
       "      <th>Q</th>\n",
       "      <td>77</td>\n",
       "      <td>0.390</td>\n",
       "    </tr>\n",
       "    <tr>\n",
       "      <th>S</th>\n",
       "      <td>644</td>\n",
       "      <td>0.337</td>\n",
       "    </tr>\n",
       "  </tbody>\n",
       "</table>\n",
       "</div>"
      ],
      "text/plain": [
       "         Survived       \n",
       "            count   mean\n",
       "Embarked                \n",
       "C             168  0.554\n",
       "Q              77  0.390\n",
       "S             644  0.337"
      ]
     },
     "execution_count": 37,
     "metadata": {},
     "output_type": "execute_result"
    }
   ],
   "source": [
    "round(train_data[['Embarked','Survived']].groupby('Embarked').agg(['count','mean']),3)"
   ]
  },
  {
   "cell_type": "code",
   "execution_count": 38,
   "id": "d494c3b1",
   "metadata": {
    "execution": {
     "iopub.execute_input": "2022-09-14T09:24:20.830765Z",
     "iopub.status.busy": "2022-09-14T09:24:20.829937Z",
     "iopub.status.idle": "2022-09-14T09:24:21.080536Z",
     "shell.execute_reply": "2022-09-14T09:24:21.079123Z"
    },
    "papermill": {
     "duration": 0.301815,
     "end_time": "2022-09-14T09:24:21.083308",
     "exception": false,
     "start_time": "2022-09-14T09:24:20.781493",
     "status": "completed"
    },
    "tags": []
   },
   "outputs": [
    {
     "data": {
      "text/plain": [
       "<AxesSubplot:xlabel='Embarked', ylabel='Count'>"
      ]
     },
     "execution_count": 38,
     "metadata": {},
     "output_type": "execute_result"
    },
    {
     "data": {
      "image/png": "[encoded data removed]",
      "text/plain": [
       "<Figure size 432x288 with 1 Axes>"
      ]
     },
     "metadata": {
      "needs_background": "light"
     },
     "output_type": "display_data"
    }
   ],
   "source": [
    "sns.histplot(x='Embarked', data=titanic, hue='Survived', multiple='dodge')"
   ]
  },
  {
   "cell_type": "markdown",
   "id": "5afb4989",
   "metadata": {
    "papermill": {
     "duration": 0.047506,
     "end_time": "2022-09-14T09:24:21.177924",
     "exception": false,
     "start_time": "2022-09-14T09:24:21.130418",
     "status": "completed"
    },
    "tags": []
   },
   "source": [
    "Embarked-Pclass Interaction"
   ]
  },
  {
   "cell_type": "code",
   "execution_count": 39,
   "id": "3449643c",
   "metadata": {
    "execution": {
     "iopub.execute_input": "2022-09-14T09:24:21.273927Z",
     "iopub.status.busy": "2022-09-14T09:24:21.272706Z",
     "iopub.status.idle": "2022-09-14T09:24:21.294603Z",
     "shell.execute_reply": "2022-09-14T09:24:21.293359Z"
    },
    "papermill": {
     "duration": 0.072376,
     "end_time": "2022-09-14T09:24:21.296933",
     "exception": false,
     "start_time": "2022-09-14T09:24:21.224557",
     "status": "completed"
    },
    "tags": []
   },
   "outputs": [
    {
     "data": {
      "text/html": [
       "<div>\n",
       "<style scoped>\n",
       "    .dataframe tbody tr th:only-of-type {\n",
       "        vertical-align: middle;\n",
       "    }\n",
       "\n",
       "    .dataframe tbody tr th {\n",
       "        vertical-align: top;\n",
       "    }\n",
       "\n",
       "    .dataframe thead tr th {\n",
       "        text-align: left;\n",
       "    }\n",
       "\n",
       "    .dataframe thead tr:last-of-type th {\n",
       "        text-align: right;\n",
       "    }\n",
       "</style>\n",
       "<table border=\"1\" class=\"dataframe\">\n",
       "  <thead>\n",
       "    <tr>\n",
       "      <th></th>\n",
       "      <th></th>\n",
       "      <th colspan=\"2\" halign=\"left\">Survived</th>\n",
       "    </tr>\n",
       "    <tr>\n",
       "      <th></th>\n",
       "      <th></th>\n",
       "      <th>count</th>\n",
       "      <th>mean</th>\n",
       "    </tr>\n",
       "    <tr>\n",
       "      <th>Pclass</th>\n",
       "      <th>Embarked</th>\n",
       "      <th></th>\n",
       "      <th></th>\n",
       "    </tr>\n",
       "  </thead>\n",
       "  <tbody>\n",
       "    <tr>\n",
       "      <th rowspan=\"3\" valign=\"top\">1</th>\n",
       "      <th>C</th>\n",
       "      <td>85</td>\n",
       "      <td>0.69</td>\n",
       "    </tr>\n",
       "    <tr>\n",
       "      <th>Q</th>\n",
       "      <td>2</td>\n",
       "      <td>0.50</td>\n",
       "    </tr>\n",
       "    <tr>\n",
       "      <th>S</th>\n",
       "      <td>127</td>\n",
       "      <td>0.58</td>\n",
       "    </tr>\n",
       "    <tr>\n",
       "      <th rowspan=\"3\" valign=\"top\">2</th>\n",
       "      <th>C</th>\n",
       "      <td>17</td>\n",
       "      <td>0.53</td>\n",
       "    </tr>\n",
       "    <tr>\n",
       "      <th>Q</th>\n",
       "      <td>3</td>\n",
       "      <td>0.67</td>\n",
       "    </tr>\n",
       "    <tr>\n",
       "      <th>S</th>\n",
       "      <td>164</td>\n",
       "      <td>0.46</td>\n",
       "    </tr>\n",
       "    <tr>\n",
       "      <th rowspan=\"3\" valign=\"top\">3</th>\n",
       "      <th>C</th>\n",
       "      <td>66</td>\n",
       "      <td>0.38</td>\n",
       "    </tr>\n",
       "    <tr>\n",
       "      <th>Q</th>\n",
       "      <td>72</td>\n",
       "      <td>0.38</td>\n",
       "    </tr>\n",
       "    <tr>\n",
       "      <th>S</th>\n",
       "      <td>353</td>\n",
       "      <td>0.19</td>\n",
       "    </tr>\n",
       "  </tbody>\n",
       "</table>\n",
       "</div>"
      ],
      "text/plain": [
       "                Survived      \n",
       "                   count  mean\n",
       "Pclass Embarked               \n",
       "1      C              85  0.69\n",
       "       Q               2  0.50\n",
       "       S             127  0.58\n",
       "2      C              17  0.53\n",
       "       Q               3  0.67\n",
       "       S             164  0.46\n",
       "3      C              66  0.38\n",
       "       Q              72  0.38\n",
       "       S             353  0.19"
      ]
     },
     "execution_count": 39,
     "metadata": {},
     "output_type": "execute_result"
    }
   ],
   "source": [
    "round(train_data [['Embarked', 'Pclass','Survived']].groupby(['Pclass', 'Embarked']).agg(['count','mean']),2)"
   ]
  },
  {
   "cell_type": "code",
   "execution_count": 40,
   "id": "4d8172e2",
   "metadata": {
    "execution": {
     "iopub.execute_input": "2022-09-14T09:24:21.392391Z",
     "iopub.status.busy": "2022-09-14T09:24:21.391689Z",
     "iopub.status.idle": "2022-09-14T09:24:21.649494Z",
     "shell.execute_reply": "2022-09-14T09:24:21.648372Z"
    },
    "papermill": {
     "duration": 0.308567,
     "end_time": "2022-09-14T09:24:21.652047",
     "exception": false,
     "start_time": "2022-09-14T09:24:21.343480",
     "status": "completed"
    },
    "tags": []
   },
   "outputs": [
    {
     "data": {
      "text/plain": [
       "<AxesSubplot:xlabel='Embarked', ylabel='Count'>"
      ]
     },
     "execution_count": 40,
     "metadata": {},
     "output_type": "execute_result"
    },
    {
     "data": {
      "image/png": "[encoded data removed]",
      "text/plain": [
       "<Figure size 432x288 with 1 Axes>"
      ]
     },
     "metadata": {
      "needs_background": "light"
     },
     "output_type": "display_data"
    }
   ],
   "source": [
    "sns.histplot(x='Embarked', data=train_data, hue='Pclass', multiple='stack')"
   ]
  },
  {
   "cell_type": "markdown",
   "id": "5da2fc59",
   "metadata": {
    "papermill": {
     "duration": 0.047907,
     "end_time": "2022-09-14T09:24:21.747697",
     "exception": false,
     "start_time": "2022-09-14T09:24:21.699790",
     "status": "completed"
    },
    "tags": []
   },
   "source": [
    "Embarked-Sex Interaction"
   ]
  },
  {
   "cell_type": "code",
   "execution_count": 41,
   "id": "d7af686c",
   "metadata": {
    "execution": {
     "iopub.execute_input": "2022-09-14T09:24:21.844153Z",
     "iopub.status.busy": "2022-09-14T09:24:21.843699Z",
     "iopub.status.idle": "2022-09-14T09:24:21.868851Z",
     "shell.execute_reply": "2022-09-14T09:24:21.867591Z"
    },
    "papermill": {
     "duration": 0.076023,
     "end_time": "2022-09-14T09:24:21.871443",
     "exception": false,
     "start_time": "2022-09-14T09:24:21.795420",
     "status": "completed"
    },
    "tags": []
   },
   "outputs": [
    {
     "data": {
      "text/html": [
       "<div>\n",
       "<style scoped>\n",
       "    .dataframe tbody tr th:only-of-type {\n",
       "        vertical-align: middle;\n",
       "    }\n",
       "\n",
       "    .dataframe tbody tr th {\n",
       "        vertical-align: top;\n",
       "    }\n",
       "\n",
       "    .dataframe thead tr th {\n",
       "        text-align: left;\n",
       "    }\n",
       "\n",
       "    .dataframe thead tr:last-of-type th {\n",
       "        text-align: right;\n",
       "    }\n",
       "</style>\n",
       "<table border=\"1\" class=\"dataframe\">\n",
       "  <thead>\n",
       "    <tr>\n",
       "      <th></th>\n",
       "      <th></th>\n",
       "      <th colspan=\"2\" halign=\"left\">Survived</th>\n",
       "    </tr>\n",
       "    <tr>\n",
       "      <th></th>\n",
       "      <th></th>\n",
       "      <th>count</th>\n",
       "      <th>mean</th>\n",
       "    </tr>\n",
       "    <tr>\n",
       "      <th>Sex</th>\n",
       "      <th>Embarked</th>\n",
       "      <th></th>\n",
       "      <th></th>\n",
       "    </tr>\n",
       "  </thead>\n",
       "  <tbody>\n",
       "    <tr>\n",
       "      <th rowspan=\"3\" valign=\"top\">female</th>\n",
       "      <th>C</th>\n",
       "      <td>73</td>\n",
       "      <td>0.88</td>\n",
       "    </tr>\n",
       "    <tr>\n",
       "      <th>Q</th>\n",
       "      <td>36</td>\n",
       "      <td>0.75</td>\n",
       "    </tr>\n",
       "    <tr>\n",
       "      <th>S</th>\n",
       "      <td>203</td>\n",
       "      <td>0.69</td>\n",
       "    </tr>\n",
       "    <tr>\n",
       "      <th rowspan=\"3\" valign=\"top\">male</th>\n",
       "      <th>C</th>\n",
       "      <td>95</td>\n",
       "      <td>0.31</td>\n",
       "    </tr>\n",
       "    <tr>\n",
       "      <th>Q</th>\n",
       "      <td>41</td>\n",
       "      <td>0.07</td>\n",
       "    </tr>\n",
       "    <tr>\n",
       "      <th>S</th>\n",
       "      <td>441</td>\n",
       "      <td>0.17</td>\n",
       "    </tr>\n",
       "  </tbody>\n",
       "</table>\n",
       "</div>"
      ],
      "text/plain": [
       "                Survived      \n",
       "                   count  mean\n",
       "Sex    Embarked               \n",
       "female C              73  0.88\n",
       "       Q              36  0.75\n",
       "       S             203  0.69\n",
       "male   C              95  0.31\n",
       "       Q              41  0.07\n",
       "       S             441  0.17"
      ]
     },
     "execution_count": 41,
     "metadata": {},
     "output_type": "execute_result"
    }
   ],
   "source": [
    "round(train_data [['Embarked', 'Sex','Survived']].groupby(['Sex', 'Embarked']).agg(['count','mean']),2)"
   ]
  },
  {
   "cell_type": "code",
   "execution_count": 42,
   "id": "0ef07012",
   "metadata": {
    "execution": {
     "iopub.execute_input": "2022-09-14T09:24:21.970602Z",
     "iopub.status.busy": "2022-09-14T09:24:21.970107Z",
     "iopub.status.idle": "2022-09-14T09:24:22.215450Z",
     "shell.execute_reply": "2022-09-14T09:24:22.214591Z"
    },
    "papermill": {
     "duration": 0.298349,
     "end_time": "2022-09-14T09:24:22.218021",
     "exception": false,
     "start_time": "2022-09-14T09:24:21.919672",
     "status": "completed"
    },
    "tags": []
   },
   "outputs": [
    {
     "data": {
      "text/plain": [
       "<AxesSubplot:xlabel='Embarked', ylabel='Count'>"
      ]
     },
     "execution_count": 42,
     "metadata": {},
     "output_type": "execute_result"
    },
    {
     "data": {
      "image/png": "[encoded data removed]",
      "text/plain": [
       "<Figure size 432x288 with 1 Axes>"
      ]
     },
     "metadata": {
      "needs_background": "light"
     },
     "output_type": "display_data"
    }
   ],
   "source": [
    "sns.histplot(x='Embarked', data=train_data, hue='Sex', multiple='stack')"
   ]
  },
  {
   "cell_type": "markdown",
   "id": "8c5c8d99",
   "metadata": {
    "papermill": {
     "duration": 0.047308,
     "end_time": "2022-09-14T09:24:22.313577",
     "exception": false,
     "start_time": "2022-09-14T09:24:22.266269",
     "status": "completed"
    },
    "tags": []
   },
   "source": [
    "Embarked-Age Interaction"
   ]
  },
  {
   "cell_type": "code",
   "execution_count": 43,
   "id": "2e9dd4c1",
   "metadata": {
    "execution": {
     "iopub.execute_input": "2022-09-14T09:24:22.412493Z",
     "iopub.status.busy": "2022-09-14T09:24:22.411877Z",
     "iopub.status.idle": "2022-09-14T09:24:22.818285Z",
     "shell.execute_reply": "2022-09-14T09:24:22.817074Z"
    },
    "papermill": {
     "duration": 0.459959,
     "end_time": "2022-09-14T09:24:22.821037",
     "exception": false,
     "start_time": "2022-09-14T09:24:22.361078",
     "status": "completed"
    },
    "tags": []
   },
   "outputs": [
    {
     "data": {
      "text/plain": [
       "<AxesSubplot:xlabel='Age', ylabel='Count'>"
      ]
     },
     "execution_count": 43,
     "metadata": {},
     "output_type": "execute_result"
    },
    {
     "data": {
      "image/png": "[encoded data removed]",
      "text/plain": [
       "<Figure size 432x288 with 1 Axes>"
      ]
     },
     "metadata": {
      "needs_background": "light"
     },
     "output_type": "display_data"
    }
   ],
   "source": [
    "sns.histplot(x='Age', data=train_data, hue='Embarked', multiple='dodge', binwidth=5, kde=True)"
   ]
  },
  {
   "cell_type": "code",
   "execution_count": 44,
   "id": "3b982b09",
   "metadata": {
    "execution": {
     "iopub.execute_input": "2022-09-14T09:24:22.921874Z",
     "iopub.status.busy": "2022-09-14T09:24:22.920690Z",
     "iopub.status.idle": "2022-09-14T09:24:23.210607Z",
     "shell.execute_reply": "2022-09-14T09:24:23.209318Z"
    },
    "papermill": {
     "duration": 0.343491,
     "end_time": "2022-09-14T09:24:23.213392",
     "exception": false,
     "start_time": "2022-09-14T09:24:22.869901",
     "status": "completed"
    },
    "tags": []
   },
   "outputs": [
    {
     "data": {
      "text/plain": [
       "<AxesSubplot:xlabel='Embarked', ylabel='Age'>"
      ]
     },
     "execution_count": 44,
     "metadata": {},
     "output_type": "execute_result"
    },
    {
     "data": {
      "image/png": "[encoded data removed]",
      "text/plain": [
       "<Figure size 432x288 with 1 Axes>"
      ]
     },
     "metadata": {
      "needs_background": "light"
     },
     "output_type": "display_data"
    }
   ],
   "source": [
    "sns.violinplot(x='Embarked', y='Age', hue='Survived', split=True ,data=train_data, cut=0 )"
   ]
  },
  {
   "cell_type": "markdown",
   "id": "96edb01a",
   "metadata": {
    "papermill": {
     "duration": 0.050292,
     "end_time": "2022-09-14T09:24:23.314273",
     "exception": false,
     "start_time": "2022-09-14T09:24:23.263981",
     "status": "completed"
    },
    "tags": []
   },
   "source": [
    "## Feature Engineering and missing imputation"
   ]
  },
  {
   "cell_type": "markdown",
   "id": "1a56bdc4",
   "metadata": {
    "papermill": {
     "duration": 0.049006,
     "end_time": "2022-09-14T09:24:23.412142",
     "exception": false,
     "start_time": "2022-09-14T09:24:23.363136",
     "status": "completed"
    },
    "tags": []
   },
   "source": [
    "Feature Engineering"
   ]
  },
  {
   "cell_type": "markdown",
   "id": "a113bd48",
   "metadata": {
    "papermill": {
     "duration": 0.04901,
     "end_time": "2022-09-14T09:24:23.509933",
     "exception": false,
     "start_time": "2022-09-14T09:24:23.460923",
     "status": "completed"
    },
    "tags": []
   },
   "source": [
    "### Family"
   ]
  },
  {
   "cell_type": "code",
   "execution_count": 45,
   "id": "3980d89e",
   "metadata": {
    "execution": {
     "iopub.execute_input": "2022-09-14T09:24:23.609556Z",
     "iopub.status.busy": "2022-09-14T09:24:23.609114Z",
     "iopub.status.idle": "2022-09-14T09:24:23.616976Z",
     "shell.execute_reply": "2022-09-14T09:24:23.615737Z"
    },
    "papermill": {
     "duration": 0.060335,
     "end_time": "2022-09-14T09:24:23.619220",
     "exception": false,
     "start_time": "2022-09-14T09:24:23.558885",
     "status": "completed"
    },
    "tags": []
   },
   "outputs": [],
   "source": [
    "train_data['Family']= train_data.Parch + train_data.SibSp + 1\n",
    "test_data['Family']= test_data.Parch + test_data.SibSp + 1"
   ]
  },
  {
   "cell_type": "code",
   "execution_count": 46,
   "id": "1e9abdfa",
   "metadata": {
    "execution": {
     "iopub.execute_input": "2022-09-14T09:24:23.720120Z",
     "iopub.status.busy": "2022-09-14T09:24:23.719048Z",
     "iopub.status.idle": "2022-09-14T09:24:23.739469Z",
     "shell.execute_reply": "2022-09-14T09:24:23.738277Z"
    },
    "papermill": {
     "duration": 0.07325,
     "end_time": "2022-09-14T09:24:23.742000",
     "exception": false,
     "start_time": "2022-09-14T09:24:23.668750",
     "status": "completed"
    },
    "tags": []
   },
   "outputs": [
    {
     "data": {
      "text/html": [
       "<div>\n",
       "<style scoped>\n",
       "    .dataframe tbody tr th:only-of-type {\n",
       "        vertical-align: middle;\n",
       "    }\n",
       "\n",
       "    .dataframe tbody tr th {\n",
       "        vertical-align: top;\n",
       "    }\n",
       "\n",
       "    .dataframe thead tr th {\n",
       "        text-align: left;\n",
       "    }\n",
       "\n",
       "    .dataframe thead tr:last-of-type th {\n",
       "        text-align: right;\n",
       "    }\n",
       "</style>\n",
       "<table border=\"1\" class=\"dataframe\">\n",
       "  <thead>\n",
       "    <tr>\n",
       "      <th></th>\n",
       "      <th colspan=\"2\" halign=\"left\">Survived</th>\n",
       "    </tr>\n",
       "    <tr>\n",
       "      <th></th>\n",
       "      <th>count</th>\n",
       "      <th>mean</th>\n",
       "    </tr>\n",
       "    <tr>\n",
       "      <th>Family</th>\n",
       "      <th></th>\n",
       "      <th></th>\n",
       "    </tr>\n",
       "  </thead>\n",
       "  <tbody>\n",
       "    <tr>\n",
       "      <th>1</th>\n",
       "      <td>537</td>\n",
       "      <td>0.304</td>\n",
       "    </tr>\n",
       "    <tr>\n",
       "      <th>2</th>\n",
       "      <td>161</td>\n",
       "      <td>0.553</td>\n",
       "    </tr>\n",
       "    <tr>\n",
       "      <th>3</th>\n",
       "      <td>102</td>\n",
       "      <td>0.578</td>\n",
       "    </tr>\n",
       "    <tr>\n",
       "      <th>4</th>\n",
       "      <td>29</td>\n",
       "      <td>0.724</td>\n",
       "    </tr>\n",
       "    <tr>\n",
       "      <th>5</th>\n",
       "      <td>15</td>\n",
       "      <td>0.200</td>\n",
       "    </tr>\n",
       "    <tr>\n",
       "      <th>6</th>\n",
       "      <td>22</td>\n",
       "      <td>0.136</td>\n",
       "    </tr>\n",
       "    <tr>\n",
       "      <th>7</th>\n",
       "      <td>12</td>\n",
       "      <td>0.333</td>\n",
       "    </tr>\n",
       "    <tr>\n",
       "      <th>8</th>\n",
       "      <td>6</td>\n",
       "      <td>0.000</td>\n",
       "    </tr>\n",
       "    <tr>\n",
       "      <th>11</th>\n",
       "      <td>7</td>\n",
       "      <td>0.000</td>\n",
       "    </tr>\n",
       "  </tbody>\n",
       "</table>\n",
       "</div>"
      ],
      "text/plain": [
       "       Survived       \n",
       "          count   mean\n",
       "Family                \n",
       "1           537  0.304\n",
       "2           161  0.553\n",
       "3           102  0.578\n",
       "4            29  0.724\n",
       "5            15  0.200\n",
       "6            22  0.136\n",
       "7            12  0.333\n",
       "8             6  0.000\n",
       "11            7  0.000"
      ]
     },
     "execution_count": 46,
     "metadata": {},
     "output_type": "execute_result"
    }
   ],
   "source": [
    "round(train_data [['Family','Survived']].groupby(['Family']).agg(['count','mean']),3)"
   ]
  },
  {
   "cell_type": "code",
   "execution_count": 47,
   "id": "67c6e1bc",
   "metadata": {
    "execution": {
     "iopub.execute_input": "2022-09-14T09:24:23.846804Z",
     "iopub.status.busy": "2022-09-14T09:24:23.845987Z",
     "iopub.status.idle": "2022-09-14T09:24:24.302968Z",
     "shell.execute_reply": "2022-09-14T09:24:24.301835Z"
    },
    "papermill": {
     "duration": 0.513547,
     "end_time": "2022-09-14T09:24:24.305687",
     "exception": false,
     "start_time": "2022-09-14T09:24:23.792140",
     "status": "completed"
    },
    "tags": []
   },
   "outputs": [
    {
     "data": {
      "text/plain": [
       "<AxesSubplot:xlabel='Family', ylabel='Count'>"
      ]
     },
     "execution_count": 47,
     "metadata": {},
     "output_type": "execute_result"
    },
    {
     "data": {
      "image/png": "[encoded data removed]",
      "text/plain": [
       "<Figure size 432x288 with 1 Axes>"
      ]
     },
     "metadata": {
      "needs_background": "light"
     },
     "output_type": "display_data"
    }
   ],
   "source": [
    "sns.histplot(x='Family', data=train_data, hue='Survived', multiple='fill')"
   ]
  },
  {
   "cell_type": "markdown",
   "id": "a44f6441",
   "metadata": {
    "papermill": {
     "duration": 0.050272,
     "end_time": "2022-09-14T09:24:24.405694",
     "exception": false,
     "start_time": "2022-09-14T09:24:24.355422",
     "status": "completed"
    },
    "tags": []
   },
   "source": [
    "### Num_ticket"
   ]
  },
  {
   "cell_type": "code",
   "execution_count": 48,
   "id": "3a959905",
   "metadata": {
    "execution": {
     "iopub.execute_input": "2022-09-14T09:24:24.505817Z",
     "iopub.status.busy": "2022-09-14T09:24:24.504975Z",
     "iopub.status.idle": "2022-09-14T09:24:24.523733Z",
     "shell.execute_reply": "2022-09-14T09:24:24.522687Z"
    },
    "papermill": {
     "duration": 0.071932,
     "end_time": "2022-09-14T09:24:24.526573",
     "exception": false,
     "start_time": "2022-09-14T09:24:24.454641",
     "status": "completed"
    },
    "tags": []
   },
   "outputs": [],
   "source": [
    "num_tickets = titanic.groupby(['Ticket']).size()\n",
    "num_tickets.name='Num_Ticket'\n",
    "num_tickets = num_tickets.reset_index()\n",
    "\n",
    "train_data = train_data.merge(num_tickets, on='Ticket')\n",
    "test_data = test_data.merge(num_tickets, on='Ticket')"
   ]
  },
  {
   "cell_type": "code",
   "execution_count": 49,
   "id": "e73d5ae4",
   "metadata": {
    "execution": {
     "iopub.execute_input": "2022-09-14T09:24:24.628689Z",
     "iopub.status.busy": "2022-09-14T09:24:24.627916Z",
     "iopub.status.idle": "2022-09-14T09:24:24.647810Z",
     "shell.execute_reply": "2022-09-14T09:24:24.646828Z"
    },
    "papermill": {
     "duration": 0.073203,
     "end_time": "2022-09-14T09:24:24.650057",
     "exception": false,
     "start_time": "2022-09-14T09:24:24.576854",
     "status": "completed"
    },
    "tags": []
   },
   "outputs": [
    {
     "data": {
      "text/html": [
       "<div>\n",
       "<style scoped>\n",
       "    .dataframe tbody tr th:only-of-type {\n",
       "        vertical-align: middle;\n",
       "    }\n",
       "\n",
       "    .dataframe tbody tr th {\n",
       "        vertical-align: top;\n",
       "    }\n",
       "\n",
       "    .dataframe thead tr th {\n",
       "        text-align: left;\n",
       "    }\n",
       "\n",
       "    .dataframe thead tr:last-of-type th {\n",
       "        text-align: right;\n",
       "    }\n",
       "</style>\n",
       "<table border=\"1\" class=\"dataframe\">\n",
       "  <thead>\n",
       "    <tr>\n",
       "      <th></th>\n",
       "      <th colspan=\"2\" halign=\"left\">Survived</th>\n",
       "    </tr>\n",
       "    <tr>\n",
       "      <th></th>\n",
       "      <th>count</th>\n",
       "      <th>mean</th>\n",
       "    </tr>\n",
       "    <tr>\n",
       "      <th>Num_Ticket</th>\n",
       "      <th></th>\n",
       "      <th></th>\n",
       "    </tr>\n",
       "  </thead>\n",
       "  <tbody>\n",
       "    <tr>\n",
       "      <th>1</th>\n",
       "      <td>481</td>\n",
       "      <td>0.270</td>\n",
       "    </tr>\n",
       "    <tr>\n",
       "      <th>2</th>\n",
       "      <td>181</td>\n",
       "      <td>0.514</td>\n",
       "    </tr>\n",
       "    <tr>\n",
       "      <th>3</th>\n",
       "      <td>101</td>\n",
       "      <td>0.653</td>\n",
       "    </tr>\n",
       "    <tr>\n",
       "      <th>4</th>\n",
       "      <td>44</td>\n",
       "      <td>0.727</td>\n",
       "    </tr>\n",
       "    <tr>\n",
       "      <th>5</th>\n",
       "      <td>21</td>\n",
       "      <td>0.333</td>\n",
       "    </tr>\n",
       "    <tr>\n",
       "      <th>6</th>\n",
       "      <td>19</td>\n",
       "      <td>0.211</td>\n",
       "    </tr>\n",
       "    <tr>\n",
       "      <th>7</th>\n",
       "      <td>24</td>\n",
       "      <td>0.208</td>\n",
       "    </tr>\n",
       "    <tr>\n",
       "      <th>8</th>\n",
       "      <td>13</td>\n",
       "      <td>0.385</td>\n",
       "    </tr>\n",
       "    <tr>\n",
       "      <th>11</th>\n",
       "      <td>7</td>\n",
       "      <td>0.000</td>\n",
       "    </tr>\n",
       "  </tbody>\n",
       "</table>\n",
       "</div>"
      ],
      "text/plain": [
       "           Survived       \n",
       "              count   mean\n",
       "Num_Ticket                \n",
       "1               481  0.270\n",
       "2               181  0.514\n",
       "3               101  0.653\n",
       "4                44  0.727\n",
       "5                21  0.333\n",
       "6                19  0.211\n",
       "7                24  0.208\n",
       "8                13  0.385\n",
       "11                7  0.000"
      ]
     },
     "execution_count": 49,
     "metadata": {},
     "output_type": "execute_result"
    }
   ],
   "source": [
    "round(train_data [['Num_Ticket','Survived']].groupby(['Num_Ticket']).agg(['count','mean']),3)"
   ]
  },
  {
   "cell_type": "code",
   "execution_count": 50,
   "id": "5b85a528",
   "metadata": {
    "execution": {
     "iopub.execute_input": "2022-09-14T09:24:24.750979Z",
     "iopub.status.busy": "2022-09-14T09:24:24.750127Z",
     "iopub.status.idle": "2022-09-14T09:24:25.105887Z",
     "shell.execute_reply": "2022-09-14T09:24:25.104828Z"
    },
    "papermill": {
     "duration": 0.409129,
     "end_time": "2022-09-14T09:24:25.108466",
     "exception": false,
     "start_time": "2022-09-14T09:24:24.699337",
     "status": "completed"
    },
    "tags": []
   },
   "outputs": [
    {
     "data": {
      "text/plain": [
       "<AxesSubplot:xlabel='Num_Ticket', ylabel='Count'>"
      ]
     },
     "execution_count": 50,
     "metadata": {},
     "output_type": "execute_result"
    },
    {
     "data": {
      "image/png": "[encoded data removed]",
      "text/plain": [
       "<Figure size 432x288 with 1 Axes>"
      ]
     },
     "metadata": {
      "needs_background": "light"
     },
     "output_type": "display_data"
    }
   ],
   "source": [
    "sns.histplot(x='Num_Ticket', data=train_data, hue='Survived', multiple='dodge')"
   ]
  },
  {
   "cell_type": "markdown",
   "id": "3a89c88d",
   "metadata": {
    "papermill": {
     "duration": 0.051977,
     "end_time": "2022-09-14T09:24:25.211036",
     "exception": false,
     "start_time": "2022-09-14T09:24:25.159059",
     "status": "completed"
    },
    "tags": []
   },
   "source": [
    "### Ind_Fare"
   ]
  },
  {
   "cell_type": "code",
   "execution_count": 51,
   "id": "f7655809",
   "metadata": {
    "execution": {
     "iopub.execute_input": "2022-09-14T09:24:25.314347Z",
     "iopub.status.busy": "2022-09-14T09:24:25.313902Z",
     "iopub.status.idle": "2022-09-14T09:24:25.322089Z",
     "shell.execute_reply": "2022-09-14T09:24:25.320884Z"
    },
    "papermill": {
     "duration": 0.062988,
     "end_time": "2022-09-14T09:24:25.324698",
     "exception": false,
     "start_time": "2022-09-14T09:24:25.261710",
     "status": "completed"
    },
    "tags": []
   },
   "outputs": [],
   "source": [
    "train_data['Ind_Fare']= train_data.Fare / train_data.Num_Ticket\n",
    "test_data['Ind_Fare']= test_data.Fare / test_data.Num_Ticket"
   ]
  },
  {
   "cell_type": "code",
   "execution_count": 52,
   "id": "d6e3ce5c",
   "metadata": {
    "execution": {
     "iopub.execute_input": "2022-09-14T09:24:25.426790Z",
     "iopub.status.busy": "2022-09-14T09:24:25.426298Z",
     "iopub.status.idle": "2022-09-14T09:24:25.960050Z",
     "shell.execute_reply": "2022-09-14T09:24:25.958625Z"
    },
    "papermill": {
     "duration": 0.587624,
     "end_time": "2022-09-14T09:24:25.962602",
     "exception": false,
     "start_time": "2022-09-14T09:24:25.374978",
     "status": "completed"
    },
    "tags": []
   },
   "outputs": [
    {
     "data": {
      "text/plain": [
       "<AxesSubplot:xlabel='Ind_Fare', ylabel='Count'>"
      ]
     },
     "execution_count": 52,
     "metadata": {},
     "output_type": "execute_result"
    },
    {
     "data": {
      "image/png": "[encoded data removed]",
      "text/plain": [
       "<Figure size 432x288 with 1 Axes>"
      ]
     },
     "metadata": {
      "needs_background": "light"
     },
     "output_type": "display_data"
    }
   ],
   "source": [
    "sns.histplot(x='Ind_Fare', data=train_data, hue='Survived', multiple='fill', binwidth=5)"
   ]
  },
  {
   "cell_type": "markdown",
   "id": "6ca5e3bf",
   "metadata": {
    "papermill": {
     "duration": 0.049844,
     "end_time": "2022-09-14T09:24:26.064419",
     "exception": false,
     "start_time": "2022-09-14T09:24:26.014575",
     "status": "completed"
    },
    "tags": []
   },
   "source": [
    "### Title"
   ]
  },
  {
   "cell_type": "code",
   "execution_count": 53,
   "id": "cb100f0d",
   "metadata": {
    "execution": {
     "iopub.execute_input": "2022-09-14T09:24:26.171144Z",
     "iopub.status.busy": "2022-09-14T09:24:26.170722Z",
     "iopub.status.idle": "2022-09-14T09:24:26.203179Z",
     "shell.execute_reply": "2022-09-14T09:24:26.202125Z"
    },
    "papermill": {
     "duration": 0.089259,
     "end_time": "2022-09-14T09:24:26.205926",
     "exception": false,
     "start_time": "2022-09-14T09:24:26.116667",
     "status": "completed"
    },
    "tags": []
   },
   "outputs": [],
   "source": [
    "train_data['Title'] = train_data.Name.apply(lambda name: name.split(',')[1].split('.')[0].strip())\n",
    "test_data['Title'] = test_data.Name.apply(lambda name: name.split(',')[1].split('.')[0].strip())\n",
    "\n",
    "def replace_titles(x):\n",
    "    title=x['Title']\n",
    "    if title in ['Mme']:\n",
    "        return 'Mrs'\n",
    "    elif title in ['Mlle', 'Ms']:\n",
    "        return 'Miss'\n",
    "    elif title in ['Capt','Col','Major']:\n",
    "        return 'Officer'\n",
    "    elif title in ['Jonkheer', 'Don', 'Sir', 'Rev', 'Dr', 'the Countess', 'Dona', 'Lady']:\n",
    "        return 'Royalty'\n",
    "    elif title =='Dr':\n",
    "        if x['Sex']=='Male':\n",
    "            return 'Mr'\n",
    "        else:\n",
    "            return 'Mrs'\n",
    "    else:\n",
    "        return title\n",
    "    \n",
    "train_data['Title']=train_data.apply(replace_titles, axis=1)\n",
    "test_data['Title']=test_data.apply(replace_titles, axis=1)"
   ]
  },
  {
   "cell_type": "code",
   "execution_count": 54,
   "id": "6d2af952",
   "metadata": {
    "execution": {
     "iopub.execute_input": "2022-09-14T09:24:26.311155Z",
     "iopub.status.busy": "2022-09-14T09:24:26.309679Z",
     "iopub.status.idle": "2022-09-14T09:24:26.328494Z",
     "shell.execute_reply": "2022-09-14T09:24:26.327373Z"
    },
    "papermill": {
     "duration": 0.073103,
     "end_time": "2022-09-14T09:24:26.330759",
     "exception": false,
     "start_time": "2022-09-14T09:24:26.257656",
     "status": "completed"
    },
    "tags": []
   },
   "outputs": [
    {
     "data": {
      "text/html": [
       "<div>\n",
       "<style scoped>\n",
       "    .dataframe tbody tr th:only-of-type {\n",
       "        vertical-align: middle;\n",
       "    }\n",
       "\n",
       "    .dataframe tbody tr th {\n",
       "        vertical-align: top;\n",
       "    }\n",
       "\n",
       "    .dataframe thead tr th {\n",
       "        text-align: left;\n",
       "    }\n",
       "\n",
       "    .dataframe thead tr:last-of-type th {\n",
       "        text-align: right;\n",
       "    }\n",
       "</style>\n",
       "<table border=\"1\" class=\"dataframe\">\n",
       "  <thead>\n",
       "    <tr>\n",
       "      <th></th>\n",
       "      <th colspan=\"2\" halign=\"left\">Survived</th>\n",
       "    </tr>\n",
       "    <tr>\n",
       "      <th></th>\n",
       "      <th>count</th>\n",
       "      <th>mean</th>\n",
       "    </tr>\n",
       "    <tr>\n",
       "      <th>Title</th>\n",
       "      <th></th>\n",
       "      <th></th>\n",
       "    </tr>\n",
       "  </thead>\n",
       "  <tbody>\n",
       "    <tr>\n",
       "      <th>Master</th>\n",
       "      <td>40</td>\n",
       "      <td>0.575</td>\n",
       "    </tr>\n",
       "    <tr>\n",
       "      <th>Miss</th>\n",
       "      <td>185</td>\n",
       "      <td>0.703</td>\n",
       "    </tr>\n",
       "    <tr>\n",
       "      <th>Mr</th>\n",
       "      <td>517</td>\n",
       "      <td>0.157</td>\n",
       "    </tr>\n",
       "    <tr>\n",
       "      <th>Mrs</th>\n",
       "      <td>126</td>\n",
       "      <td>0.794</td>\n",
       "    </tr>\n",
       "    <tr>\n",
       "      <th>Officer</th>\n",
       "      <td>5</td>\n",
       "      <td>0.400</td>\n",
       "    </tr>\n",
       "    <tr>\n",
       "      <th>Royalty</th>\n",
       "      <td>18</td>\n",
       "      <td>0.333</td>\n",
       "    </tr>\n",
       "  </tbody>\n",
       "</table>\n",
       "</div>"
      ],
      "text/plain": [
       "        Survived       \n",
       "           count   mean\n",
       "Title                  \n",
       "Master        40  0.575\n",
       "Miss         185  0.703\n",
       "Mr           517  0.157\n",
       "Mrs          126  0.794\n",
       "Officer        5  0.400\n",
       "Royalty       18  0.333"
      ]
     },
     "execution_count": 54,
     "metadata": {},
     "output_type": "execute_result"
    }
   ],
   "source": [
    "round(train_data [['Title','Survived']].groupby(['Title']).agg(['count','mean']),3)"
   ]
  },
  {
   "cell_type": "code",
   "execution_count": 55,
   "id": "e7e21e33",
   "metadata": {
    "execution": {
     "iopub.execute_input": "2022-09-14T09:24:26.434283Z",
     "iopub.status.busy": "2022-09-14T09:24:26.432797Z",
     "iopub.status.idle": "2022-09-14T09:24:26.640680Z",
     "shell.execute_reply": "2022-09-14T09:24:26.639196Z"
    },
    "papermill": {
     "duration": 0.262207,
     "end_time": "2022-09-14T09:24:26.643346",
     "exception": false,
     "start_time": "2022-09-14T09:24:26.381139",
     "status": "completed"
    },
    "tags": []
   },
   "outputs": [
    {
     "data": {
      "text/plain": [
       "<AxesSubplot:xlabel='Title', ylabel='Count'>"
      ]
     },
     "execution_count": 55,
     "metadata": {},
     "output_type": "execute_result"
    },
    {
     "data": {
      "image/png": "[encoded data removed]",
      "text/plain": [
       "<Figure size 432x288 with 1 Axes>"
      ]
     },
     "metadata": {
      "needs_background": "light"
     },
     "output_type": "display_data"
    }
   ],
   "source": [
    "sns.histplot(x='Title', data=train_data, hue='Survived', multiple='dodge', binwidth=5)"
   ]
  },
  {
   "cell_type": "markdown",
   "id": "87f610bd",
   "metadata": {
    "papermill": {
     "duration": 0.050501,
     "end_time": "2022-09-14T09:24:26.745000",
     "exception": false,
     "start_time": "2022-09-14T09:24:26.694499",
     "status": "completed"
    },
    "tags": []
   },
   "source": [
    "### Deck"
   ]
  },
  {
   "cell_type": "code",
   "execution_count": 56,
   "id": "d968b5de",
   "metadata": {
    "execution": {
     "iopub.execute_input": "2022-09-14T09:24:26.849204Z",
     "iopub.status.busy": "2022-09-14T09:24:26.848790Z",
     "iopub.status.idle": "2022-09-14T09:24:26.858408Z",
     "shell.execute_reply": "2022-09-14T09:24:26.857576Z"
    },
    "papermill": {
     "duration": 0.064832,
     "end_time": "2022-09-14T09:24:26.860821",
     "exception": false,
     "start_time": "2022-09-14T09:24:26.795989",
     "status": "completed"
    },
    "tags": []
   },
   "outputs": [],
   "source": [
    "train_data['Deck']=train_data.Cabin.str[0]\n",
    "#train_data['Missing_Deck']= train_data.Deck.isnull()\n",
    "train_data['Deck']=train_data.Deck.fillna('NA')\n",
    "\n",
    "test_data['Deck']=test_data.Cabin.str[0]\n",
    "test_data['Deck']=test_data.Deck.fillna('NA')"
   ]
  },
  {
   "cell_type": "code",
   "execution_count": 57,
   "id": "a42d3f99",
   "metadata": {
    "execution": {
     "iopub.execute_input": "2022-09-14T09:24:26.966030Z",
     "iopub.status.busy": "2022-09-14T09:24:26.965407Z",
     "iopub.status.idle": "2022-09-14T09:24:26.983428Z",
     "shell.execute_reply": "2022-09-14T09:24:26.982624Z"
    },
    "papermill": {
     "duration": 0.072997,
     "end_time": "2022-09-14T09:24:26.985667",
     "exception": false,
     "start_time": "2022-09-14T09:24:26.912670",
     "status": "completed"
    },
    "tags": []
   },
   "outputs": [
    {
     "data": {
      "text/html": [
       "<div>\n",
       "<style scoped>\n",
       "    .dataframe tbody tr th:only-of-type {\n",
       "        vertical-align: middle;\n",
       "    }\n",
       "\n",
       "    .dataframe tbody tr th {\n",
       "        vertical-align: top;\n",
       "    }\n",
       "\n",
       "    .dataframe thead tr th {\n",
       "        text-align: left;\n",
       "    }\n",
       "\n",
       "    .dataframe thead tr:last-of-type th {\n",
       "        text-align: right;\n",
       "    }\n",
       "</style>\n",
       "<table border=\"1\" class=\"dataframe\">\n",
       "  <thead>\n",
       "    <tr>\n",
       "      <th></th>\n",
       "      <th colspan=\"2\" halign=\"left\">Survived</th>\n",
       "    </tr>\n",
       "    <tr>\n",
       "      <th></th>\n",
       "      <th>count</th>\n",
       "      <th>mean</th>\n",
       "    </tr>\n",
       "    <tr>\n",
       "      <th>Deck</th>\n",
       "      <th></th>\n",
       "      <th></th>\n",
       "    </tr>\n",
       "  </thead>\n",
       "  <tbody>\n",
       "    <tr>\n",
       "      <th>A</th>\n",
       "      <td>15</td>\n",
       "      <td>0.467</td>\n",
       "    </tr>\n",
       "    <tr>\n",
       "      <th>B</th>\n",
       "      <td>47</td>\n",
       "      <td>0.745</td>\n",
       "    </tr>\n",
       "    <tr>\n",
       "      <th>C</th>\n",
       "      <td>59</td>\n",
       "      <td>0.593</td>\n",
       "    </tr>\n",
       "    <tr>\n",
       "      <th>D</th>\n",
       "      <td>33</td>\n",
       "      <td>0.758</td>\n",
       "    </tr>\n",
       "    <tr>\n",
       "      <th>E</th>\n",
       "      <td>32</td>\n",
       "      <td>0.750</td>\n",
       "    </tr>\n",
       "    <tr>\n",
       "      <th>F</th>\n",
       "      <td>13</td>\n",
       "      <td>0.615</td>\n",
       "    </tr>\n",
       "    <tr>\n",
       "      <th>G</th>\n",
       "      <td>4</td>\n",
       "      <td>0.500</td>\n",
       "    </tr>\n",
       "    <tr>\n",
       "      <th>NA</th>\n",
       "      <td>687</td>\n",
       "      <td>0.300</td>\n",
       "    </tr>\n",
       "    <tr>\n",
       "      <th>T</th>\n",
       "      <td>1</td>\n",
       "      <td>0.000</td>\n",
       "    </tr>\n",
       "  </tbody>\n",
       "</table>\n",
       "</div>"
      ],
      "text/plain": [
       "     Survived       \n",
       "        count   mean\n",
       "Deck                \n",
       "A          15  0.467\n",
       "B          47  0.745\n",
       "C          59  0.593\n",
       "D          33  0.758\n",
       "E          32  0.750\n",
       "F          13  0.615\n",
       "G           4  0.500\n",
       "NA        687  0.300\n",
       "T           1  0.000"
      ]
     },
     "execution_count": 57,
     "metadata": {},
     "output_type": "execute_result"
    }
   ],
   "source": [
    "round(train_data [['Deck','Survived']].groupby(['Deck']).agg(['count','mean']),3)"
   ]
  },
  {
   "cell_type": "code",
   "execution_count": 58,
   "id": "1329f056",
   "metadata": {
    "execution": {
     "iopub.execute_input": "2022-09-14T09:24:27.095090Z",
     "iopub.status.busy": "2022-09-14T09:24:27.094319Z",
     "iopub.status.idle": "2022-09-14T09:24:27.321233Z",
     "shell.execute_reply": "2022-09-14T09:24:27.319983Z"
    },
    "papermill": {
     "duration": 0.284931,
     "end_time": "2022-09-14T09:24:27.323837",
     "exception": false,
     "start_time": "2022-09-14T09:24:27.038906",
     "status": "completed"
    },
    "tags": []
   },
   "outputs": [
    {
     "data": {
      "text/plain": [
       "<AxesSubplot:xlabel='Deck', ylabel='Count'>"
      ]
     },
     "execution_count": 58,
     "metadata": {},
     "output_type": "execute_result"
    },
    {
     "data": {
      "image/png": "[encoded data removed]",
      "text/plain": [
       "<Figure size 432x288 with 1 Axes>"
      ]
     },
     "metadata": {
      "needs_background": "light"
     },
     "output_type": "display_data"
    }
   ],
   "source": [
    "sns.histplot(x='Deck', data=train_data, hue='Survived', multiple='fill', binwidth=5)"
   ]
  },
  {
   "cell_type": "markdown",
   "id": "8a1edacd",
   "metadata": {
    "papermill": {
     "duration": 0.051353,
     "end_time": "2022-09-14T09:24:27.426837",
     "exception": false,
     "start_time": "2022-09-14T09:24:27.375484",
     "status": "completed"
    },
    "tags": []
   },
   "source": [
    "Missing Value imputation"
   ]
  },
  {
   "cell_type": "markdown",
   "id": "c77a61c8",
   "metadata": {
    "execution": {
     "iopub.execute_input": "2022-09-09T16:30:21.600077Z",
     "iopub.status.busy": "2022-09-09T16:30:21.599660Z",
     "iopub.status.idle": "2022-09-09T16:30:21.618003Z",
     "shell.execute_reply": "2022-09-09T16:30:21.616419Z",
     "shell.execute_reply.started": "2022-09-09T16:30:21.600050Z"
    },
    "papermill": {
     "duration": 0.051676,
     "end_time": "2022-09-14T09:24:27.531474",
     "exception": false,
     "start_time": "2022-09-14T09:24:27.479798",
     "status": "completed"
    },
    "tags": []
   },
   "source": [
    "Age"
   ]
  },
  {
   "cell_type": "code",
   "execution_count": 59,
   "id": "1e628232",
   "metadata": {
    "execution": {
     "iopub.execute_input": "2022-09-14T09:24:27.637358Z",
     "iopub.status.busy": "2022-09-14T09:24:27.636920Z",
     "iopub.status.idle": "2022-09-14T09:24:27.660984Z",
     "shell.execute_reply": "2022-09-14T09:24:27.659751Z"
    },
    "papermill": {
     "duration": 0.080692,
     "end_time": "2022-09-14T09:24:27.663746",
     "exception": false,
     "start_time": "2022-09-14T09:24:27.583054",
     "status": "completed"
    },
    "tags": []
   },
   "outputs": [
    {
     "data": {
      "text/html": [
       "<div>\n",
       "<style scoped>\n",
       "    .dataframe tbody tr th:only-of-type {\n",
       "        vertical-align: middle;\n",
       "    }\n",
       "\n",
       "    .dataframe tbody tr th {\n",
       "        vertical-align: top;\n",
       "    }\n",
       "\n",
       "    .dataframe thead tr th {\n",
       "        text-align: left;\n",
       "    }\n",
       "\n",
       "    .dataframe thead tr:last-of-type th {\n",
       "        text-align: right;\n",
       "    }\n",
       "</style>\n",
       "<table border=\"1\" class=\"dataframe\">\n",
       "  <thead>\n",
       "    <tr>\n",
       "      <th></th>\n",
       "      <th></th>\n",
       "      <th colspan=\"2\" halign=\"left\">Age</th>\n",
       "    </tr>\n",
       "    <tr>\n",
       "      <th></th>\n",
       "      <th></th>\n",
       "      <th>count</th>\n",
       "      <th>mean</th>\n",
       "    </tr>\n",
       "    <tr>\n",
       "      <th>Title</th>\n",
       "      <th>Pclass</th>\n",
       "      <th></th>\n",
       "      <th></th>\n",
       "    </tr>\n",
       "  </thead>\n",
       "  <tbody>\n",
       "    <tr>\n",
       "      <th rowspan=\"3\" valign=\"top\">Master</th>\n",
       "      <th>1</th>\n",
       "      <td>3</td>\n",
       "      <td>5.307</td>\n",
       "    </tr>\n",
       "    <tr>\n",
       "      <th>2</th>\n",
       "      <td>9</td>\n",
       "      <td>2.259</td>\n",
       "    </tr>\n",
       "    <tr>\n",
       "      <th>3</th>\n",
       "      <td>24</td>\n",
       "      <td>5.351</td>\n",
       "    </tr>\n",
       "    <tr>\n",
       "      <th rowspan=\"3\" valign=\"top\">Miss</th>\n",
       "      <th>1</th>\n",
       "      <td>47</td>\n",
       "      <td>29.745</td>\n",
       "    </tr>\n",
       "    <tr>\n",
       "      <th>2</th>\n",
       "      <td>33</td>\n",
       "      <td>22.561</td>\n",
       "    </tr>\n",
       "    <tr>\n",
       "      <th>3</th>\n",
       "      <td>69</td>\n",
       "      <td>16.123</td>\n",
       "    </tr>\n",
       "    <tr>\n",
       "      <th rowspan=\"3\" valign=\"top\">Mr</th>\n",
       "      <th>1</th>\n",
       "      <td>87</td>\n",
       "      <td>41.580</td>\n",
       "    </tr>\n",
       "    <tr>\n",
       "      <th>2</th>\n",
       "      <td>82</td>\n",
       "      <td>32.768</td>\n",
       "    </tr>\n",
       "    <tr>\n",
       "      <th>3</th>\n",
       "      <td>229</td>\n",
       "      <td>28.725</td>\n",
       "    </tr>\n",
       "    <tr>\n",
       "      <th rowspan=\"3\" valign=\"top\">Mrs</th>\n",
       "      <th>1</th>\n",
       "      <td>35</td>\n",
       "      <td>40.400</td>\n",
       "    </tr>\n",
       "    <tr>\n",
       "      <th>2</th>\n",
       "      <td>41</td>\n",
       "      <td>33.683</td>\n",
       "    </tr>\n",
       "    <tr>\n",
       "      <th>3</th>\n",
       "      <td>33</td>\n",
       "      <td>33.515</td>\n",
       "    </tr>\n",
       "    <tr>\n",
       "      <th>Officer</th>\n",
       "      <th>1</th>\n",
       "      <td>5</td>\n",
       "      <td>56.600</td>\n",
       "    </tr>\n",
       "    <tr>\n",
       "      <th rowspan=\"2\" valign=\"top\">Royalty</th>\n",
       "      <th>1</th>\n",
       "      <td>9</td>\n",
       "      <td>42.556</td>\n",
       "    </tr>\n",
       "    <tr>\n",
       "      <th>2</th>\n",
       "      <td>8</td>\n",
       "      <td>42.000</td>\n",
       "    </tr>\n",
       "  </tbody>\n",
       "</table>\n",
       "</div>"
      ],
      "text/plain": [
       "                 Age        \n",
       "               count    mean\n",
       "Title   Pclass              \n",
       "Master  1          3   5.307\n",
       "        2          9   2.259\n",
       "        3         24   5.351\n",
       "Miss    1         47  29.745\n",
       "        2         33  22.561\n",
       "        3         69  16.123\n",
       "Mr      1         87  41.580\n",
       "        2         82  32.768\n",
       "        3        229  28.725\n",
       "Mrs     1         35  40.400\n",
       "        2         41  33.683\n",
       "        3         33  33.515\n",
       "Officer 1          5  56.600\n",
       "Royalty 1          9  42.556\n",
       "        2          8  42.000"
      ]
     },
     "execution_count": 59,
     "metadata": {},
     "output_type": "execute_result"
    }
   ],
   "source": [
    "round(train_data [['Title','Pclass','Age']].groupby(['Title','Pclass']).agg(['count','mean']),3)"
   ]
  },
  {
   "cell_type": "code",
   "execution_count": 60,
   "id": "83cf5432",
   "metadata": {
    "execution": {
     "iopub.execute_input": "2022-09-14T09:24:27.770172Z",
     "iopub.status.busy": "2022-09-14T09:24:27.769745Z",
     "iopub.status.idle": "2022-09-14T09:24:27.782619Z",
     "shell.execute_reply": "2022-09-14T09:24:27.781276Z"
    },
    "papermill": {
     "duration": 0.069406,
     "end_time": "2022-09-14T09:24:27.785262",
     "exception": false,
     "start_time": "2022-09-14T09:24:27.715856",
     "status": "completed"
    },
    "tags": []
   },
   "outputs": [
    {
     "name": "stdout",
     "output_type": "stream",
     "text": [
      "Avg age of 'Miss' Title 22\n",
      "Avg age of 'Miss' Title travelling without Parents 28\n",
      "Avg age of 'Miss' Title travelling with Parents 12 \n",
      "\n"
     ]
    }
   ],
   "source": [
    "print (\"Avg age of 'Miss' Title\", round(train_data[train_data.Title==\"Miss\"]['Age'].mean()))\n",
    "\n",
    "print (\"Avg age of 'Miss' Title travelling without Parents\", round(train_data[(train_data.Title==\"Miss\") & (train_data.Parch==0)]['Age'].mean()))\n",
    "\n",
    "print (\"Avg age of 'Miss' Title travelling with Parents\", round(train_data[(train_data.Title==\"Miss\") & (train_data.Parch!=0)]['Age'].mean()), '\\n')"
   ]
  },
  {
   "cell_type": "code",
   "execution_count": 61,
   "id": "35a0c618",
   "metadata": {
    "execution": {
     "iopub.execute_input": "2022-09-14T09:24:27.893414Z",
     "iopub.status.busy": "2022-09-14T09:24:27.893009Z",
     "iopub.status.idle": "2022-09-14T09:24:27.907052Z",
     "shell.execute_reply": "2022-09-14T09:24:27.905719Z"
    },
    "papermill": {
     "duration": 0.071965,
     "end_time": "2022-09-14T09:24:27.909849",
     "exception": false,
     "start_time": "2022-09-14T09:24:27.837884",
     "status": "completed"
    },
    "tags": []
   },
   "outputs": [
    {
     "data": {
      "text/plain": [
       "[None, None]"
      ]
     },
     "execution_count": 61,
     "metadata": {},
     "output_type": "execute_result"
    }
   ],
   "source": [
    "[df['Age'].fillna(df.groupby(['Pclass','Sex','Title'])['Age'].transform('mean'), inplace=True) for df in [train_data, test_data]]"
   ]
  },
  {
   "cell_type": "code",
   "execution_count": 62,
   "id": "15ae4327",
   "metadata": {
    "execution": {
     "iopub.execute_input": "2022-09-14T09:24:28.016955Z",
     "iopub.status.busy": "2022-09-14T09:24:28.016484Z",
     "iopub.status.idle": "2022-09-14T09:24:28.037098Z",
     "shell.execute_reply": "2022-09-14T09:24:28.035818Z"
    },
    "papermill": {
     "duration": 0.077202,
     "end_time": "2022-09-14T09:24:28.039962",
     "exception": false,
     "start_time": "2022-09-14T09:24:27.962760",
     "status": "completed"
    },
    "tags": []
   },
   "outputs": [
    {
     "data": {
      "text/html": [
       "<div>\n",
       "<style scoped>\n",
       "    .dataframe tbody tr th:only-of-type {\n",
       "        vertical-align: middle;\n",
       "    }\n",
       "\n",
       "    .dataframe tbody tr th {\n",
       "        vertical-align: top;\n",
       "    }\n",
       "\n",
       "    .dataframe thead th {\n",
       "        text-align: right;\n",
       "    }\n",
       "</style>\n",
       "<table border=\"1\" class=\"dataframe\">\n",
       "  <thead>\n",
       "    <tr style=\"text-align: right;\">\n",
       "      <th></th>\n",
       "      <th>PassengerId</th>\n",
       "      <th>Survived</th>\n",
       "      <th>Pclass</th>\n",
       "      <th>Name</th>\n",
       "      <th>Sex</th>\n",
       "      <th>Age</th>\n",
       "      <th>SibSp</th>\n",
       "      <th>Parch</th>\n",
       "      <th>Ticket</th>\n",
       "      <th>Fare</th>\n",
       "      <th>Cabin</th>\n",
       "      <th>Embarked</th>\n",
       "    </tr>\n",
       "  </thead>\n",
       "  <tbody>\n",
       "    <tr>\n",
       "      <th>783</th>\n",
       "      <td>784</td>\n",
       "      <td>0.0</td>\n",
       "      <td>3</td>\n",
       "      <td>Johnston, Mr. Andrew G</td>\n",
       "      <td>male</td>\n",
       "      <td>NaN</td>\n",
       "      <td>1</td>\n",
       "      <td>2</td>\n",
       "      <td>W./C. 6607</td>\n",
       "      <td>23.45</td>\n",
       "      <td>NaN</td>\n",
       "      <td>S</td>\n",
       "    </tr>\n",
       "    <tr>\n",
       "      <th>888</th>\n",
       "      <td>889</td>\n",
       "      <td>0.0</td>\n",
       "      <td>3</td>\n",
       "      <td>Johnston, Miss. Catherine Helen \"Carrie\"</td>\n",
       "      <td>female</td>\n",
       "      <td>NaN</td>\n",
       "      <td>1</td>\n",
       "      <td>2</td>\n",
       "      <td>W./C. 6607</td>\n",
       "      <td>23.45</td>\n",
       "      <td>NaN</td>\n",
       "      <td>S</td>\n",
       "    </tr>\n",
       "    <tr>\n",
       "      <th>924</th>\n",
       "      <td>925</td>\n",
       "      <td>NaN</td>\n",
       "      <td>3</td>\n",
       "      <td>Johnston, Mrs. Andrew G (Elizabeth Lily\" Watson)\"</td>\n",
       "      <td>female</td>\n",
       "      <td>NaN</td>\n",
       "      <td>1</td>\n",
       "      <td>2</td>\n",
       "      <td>W./C. 6607</td>\n",
       "      <td>23.45</td>\n",
       "      <td>NaN</td>\n",
       "      <td>S</td>\n",
       "    </tr>\n",
       "    <tr>\n",
       "      <th>1135</th>\n",
       "      <td>1136</td>\n",
       "      <td>NaN</td>\n",
       "      <td>3</td>\n",
       "      <td>Johnston, Master. William Arthur Willie\"\"</td>\n",
       "      <td>male</td>\n",
       "      <td>NaN</td>\n",
       "      <td>1</td>\n",
       "      <td>2</td>\n",
       "      <td>W./C. 6607</td>\n",
       "      <td>23.45</td>\n",
       "      <td>NaN</td>\n",
       "      <td>S</td>\n",
       "    </tr>\n",
       "  </tbody>\n",
       "</table>\n",
       "</div>"
      ],
      "text/plain": [
       "      PassengerId  Survived  Pclass  \\\n",
       "783           784       0.0       3   \n",
       "888           889       0.0       3   \n",
       "924           925       NaN       3   \n",
       "1135         1136       NaN       3   \n",
       "\n",
       "                                                   Name     Sex  Age  SibSp  \\\n",
       "783                              Johnston, Mr. Andrew G    male  NaN      1   \n",
       "888            Johnston, Miss. Catherine Helen \"Carrie\"  female  NaN      1   \n",
       "924   Johnston, Mrs. Andrew G (Elizabeth Lily\" Watson)\"  female  NaN      1   \n",
       "1135          Johnston, Master. William Arthur Willie\"\"    male  NaN      1   \n",
       "\n",
       "      Parch      Ticket   Fare Cabin Embarked  \n",
       "783       2  W./C. 6607  23.45   NaN        S  \n",
       "888       2  W./C. 6607  23.45   NaN        S  \n",
       "924       2  W./C. 6607  23.45   NaN        S  \n",
       "1135      2  W./C. 6607  23.45   NaN        S  "
      ]
     },
     "metadata": {},
     "output_type": "display_data"
    }
   ],
   "source": [
    "display(titanic[(titanic.Ticket== 'W./C. 6607')])"
   ]
  },
  {
   "cell_type": "markdown",
   "id": "f4494f56",
   "metadata": {
    "papermill": {
     "duration": 0.051504,
     "end_time": "2022-09-14T09:24:28.143456",
     "exception": false,
     "start_time": "2022-09-14T09:24:28.091952",
     "status": "completed"
    },
    "tags": []
   },
   "source": [
    "Fare"
   ]
  },
  {
   "cell_type": "code",
   "execution_count": 63,
   "id": "6564196d",
   "metadata": {
    "execution": {
     "iopub.execute_input": "2022-09-14T09:24:28.249031Z",
     "iopub.status.busy": "2022-09-14T09:24:28.248592Z",
     "iopub.status.idle": "2022-09-14T09:24:28.265194Z",
     "shell.execute_reply": "2022-09-14T09:24:28.264300Z"
    },
    "papermill": {
     "duration": 0.072504,
     "end_time": "2022-09-14T09:24:28.267580",
     "exception": false,
     "start_time": "2022-09-14T09:24:28.195076",
     "status": "completed"
    },
    "tags": []
   },
   "outputs": [
    {
     "data": {
      "text/html": [
       "<div>\n",
       "<style scoped>\n",
       "    .dataframe tbody tr th:only-of-type {\n",
       "        vertical-align: middle;\n",
       "    }\n",
       "\n",
       "    .dataframe tbody tr th {\n",
       "        vertical-align: top;\n",
       "    }\n",
       "\n",
       "    .dataframe thead th {\n",
       "        text-align: right;\n",
       "    }\n",
       "</style>\n",
       "<table border=\"1\" class=\"dataframe\">\n",
       "  <thead>\n",
       "    <tr style=\"text-align: right;\">\n",
       "      <th></th>\n",
       "      <th>PassengerId</th>\n",
       "      <th>Survived</th>\n",
       "      <th>Pclass</th>\n",
       "      <th>Name</th>\n",
       "      <th>Sex</th>\n",
       "      <th>Age</th>\n",
       "      <th>SibSp</th>\n",
       "      <th>Parch</th>\n",
       "      <th>Ticket</th>\n",
       "      <th>Fare</th>\n",
       "      <th>Cabin</th>\n",
       "      <th>Embarked</th>\n",
       "    </tr>\n",
       "  </thead>\n",
       "  <tbody>\n",
       "    <tr>\n",
       "      <th>1043</th>\n",
       "      <td>1044</td>\n",
       "      <td>NaN</td>\n",
       "      <td>3</td>\n",
       "      <td>Storey, Mr. Thomas</td>\n",
       "      <td>male</td>\n",
       "      <td>60.5</td>\n",
       "      <td>0</td>\n",
       "      <td>0</td>\n",
       "      <td>3701</td>\n",
       "      <td>NaN</td>\n",
       "      <td>NaN</td>\n",
       "      <td>S</td>\n",
       "    </tr>\n",
       "  </tbody>\n",
       "</table>\n",
       "</div>"
      ],
      "text/plain": [
       "      PassengerId  Survived  Pclass                Name   Sex   Age  SibSp  \\\n",
       "1043         1044       NaN       3  Storey, Mr. Thomas  male  60.5      0   \n",
       "\n",
       "      Parch Ticket  Fare Cabin Embarked  \n",
       "1043      0   3701   NaN   NaN        S  "
      ]
     },
     "metadata": {},
     "output_type": "display_data"
    }
   ],
   "source": [
    "display(titanic[titanic.Fare.isnull()])"
   ]
  },
  {
   "cell_type": "code",
   "execution_count": 64,
   "id": "3ce92f5f",
   "metadata": {
    "execution": {
     "iopub.execute_input": "2022-09-14T09:24:28.374070Z",
     "iopub.status.busy": "2022-09-14T09:24:28.373587Z",
     "iopub.status.idle": "2022-09-14T09:24:28.382437Z",
     "shell.execute_reply": "2022-09-14T09:24:28.381072Z"
    },
    "papermill": {
     "duration": 0.065321,
     "end_time": "2022-09-14T09:24:28.384944",
     "exception": false,
     "start_time": "2022-09-14T09:24:28.319623",
     "status": "completed"
    },
    "tags": []
   },
   "outputs": [
    {
     "name": "stdout",
     "output_type": "stream",
     "text": [
      "Mean fare for this category:  7.382647773383368\n"
     ]
    }
   ],
   "source": [
    "print('Mean fare for this category: ', train_data[(train_data.Embarked=='S') & (train_data.Pclass==3)]['Ind_Fare'].mean())"
   ]
  },
  {
   "cell_type": "code",
   "execution_count": 65,
   "id": "6ebeec0d",
   "metadata": {
    "execution": {
     "iopub.execute_input": "2022-09-14T09:24:28.491305Z",
     "iopub.status.busy": "2022-09-14T09:24:28.490840Z",
     "iopub.status.idle": "2022-09-14T09:24:28.501755Z",
     "shell.execute_reply": "2022-09-14T09:24:28.500772Z"
    },
    "papermill": {
     "duration": 0.066997,
     "end_time": "2022-09-14T09:24:28.504037",
     "exception": false,
     "start_time": "2022-09-14T09:24:28.437040",
     "status": "completed"
    },
    "tags": []
   },
   "outputs": [],
   "source": [
    "test_data.loc[test_data.Fare.isnull(), ['Fare','Ind_Fare']] = round(train_data[(train_data.Embarked=='S') & (train_data.Pclass==3) & (train_data.Num_Ticket==1)]['Fare'].mean(),1)"
   ]
  },
  {
   "cell_type": "code",
   "execution_count": 66,
   "id": "eb8979f7",
   "metadata": {
    "execution": {
     "iopub.execute_input": "2022-09-14T09:24:28.617492Z",
     "iopub.status.busy": "2022-09-14T09:24:28.616983Z",
     "iopub.status.idle": "2022-09-14T09:24:28.621623Z",
     "shell.execute_reply": "2022-09-14T09:24:28.620759Z"
    },
    "papermill": {
     "duration": 0.066194,
     "end_time": "2022-09-14T09:24:28.623806",
     "exception": false,
     "start_time": "2022-09-14T09:24:28.557612",
     "status": "completed"
    },
    "tags": []
   },
   "outputs": [],
   "source": [
    "#display(test_data[test_data.Fare.isnull()])"
   ]
  },
  {
   "cell_type": "markdown",
   "id": "7193def8",
   "metadata": {
    "papermill": {
     "duration": 0.052778,
     "end_time": "2022-09-14T09:24:28.728744",
     "exception": false,
     "start_time": "2022-09-14T09:24:28.675966",
     "status": "completed"
    },
    "tags": []
   },
   "source": [
    "Embarked"
   ]
  },
  {
   "cell_type": "code",
   "execution_count": 67,
   "id": "cf01441f",
   "metadata": {
    "execution": {
     "iopub.execute_input": "2022-09-14T09:24:28.836543Z",
     "iopub.status.busy": "2022-09-14T09:24:28.836069Z",
     "iopub.status.idle": "2022-09-14T09:24:28.854499Z",
     "shell.execute_reply": "2022-09-14T09:24:28.853391Z"
    },
    "papermill": {
     "duration": 0.0746,
     "end_time": "2022-09-14T09:24:28.856968",
     "exception": false,
     "start_time": "2022-09-14T09:24:28.782368",
     "status": "completed"
    },
    "tags": []
   },
   "outputs": [
    {
     "data": {
      "text/html": [
       "<div>\n",
       "<style scoped>\n",
       "    .dataframe tbody tr th:only-of-type {\n",
       "        vertical-align: middle;\n",
       "    }\n",
       "\n",
       "    .dataframe tbody tr th {\n",
       "        vertical-align: top;\n",
       "    }\n",
       "\n",
       "    .dataframe thead th {\n",
       "        text-align: right;\n",
       "    }\n",
       "</style>\n",
       "<table border=\"1\" class=\"dataframe\">\n",
       "  <thead>\n",
       "    <tr style=\"text-align: right;\">\n",
       "      <th></th>\n",
       "      <th>PassengerId</th>\n",
       "      <th>Survived</th>\n",
       "      <th>Pclass</th>\n",
       "      <th>Name</th>\n",
       "      <th>Sex</th>\n",
       "      <th>Age</th>\n",
       "      <th>SibSp</th>\n",
       "      <th>Parch</th>\n",
       "      <th>Ticket</th>\n",
       "      <th>Fare</th>\n",
       "      <th>Cabin</th>\n",
       "      <th>Embarked</th>\n",
       "    </tr>\n",
       "  </thead>\n",
       "  <tbody>\n",
       "    <tr>\n",
       "      <th>61</th>\n",
       "      <td>62</td>\n",
       "      <td>1.0</td>\n",
       "      <td>1</td>\n",
       "      <td>Icard, Miss. Amelie</td>\n",
       "      <td>female</td>\n",
       "      <td>38.0</td>\n",
       "      <td>0</td>\n",
       "      <td>0</td>\n",
       "      <td>113572</td>\n",
       "      <td>80.0</td>\n",
       "      <td>B28</td>\n",
       "      <td>NaN</td>\n",
       "    </tr>\n",
       "    <tr>\n",
       "      <th>829</th>\n",
       "      <td>830</td>\n",
       "      <td>1.0</td>\n",
       "      <td>1</td>\n",
       "      <td>Stone, Mrs. George Nelson (Martha Evelyn)</td>\n",
       "      <td>female</td>\n",
       "      <td>62.0</td>\n",
       "      <td>0</td>\n",
       "      <td>0</td>\n",
       "      <td>113572</td>\n",
       "      <td>80.0</td>\n",
       "      <td>B28</td>\n",
       "      <td>NaN</td>\n",
       "    </tr>\n",
       "  </tbody>\n",
       "</table>\n",
       "</div>"
      ],
      "text/plain": [
       "     PassengerId  Survived  Pclass                                       Name  \\\n",
       "61            62       1.0       1                        Icard, Miss. Amelie   \n",
       "829          830       1.0       1  Stone, Mrs. George Nelson (Martha Evelyn)   \n",
       "\n",
       "        Sex   Age  SibSp  Parch  Ticket  Fare Cabin Embarked  \n",
       "61   female  38.0      0      0  113572  80.0   B28      NaN  \n",
       "829  female  62.0      0      0  113572  80.0   B28      NaN  "
      ]
     },
     "metadata": {},
     "output_type": "display_data"
    }
   ],
   "source": [
    "display(titanic[titanic.Embarked.isnull()])"
   ]
  },
  {
   "cell_type": "code",
   "execution_count": 68,
   "id": "493b2c5e",
   "metadata": {
    "execution": {
     "iopub.execute_input": "2022-09-14T09:24:28.965344Z",
     "iopub.status.busy": "2022-09-14T09:24:28.964909Z",
     "iopub.status.idle": "2022-09-14T09:24:28.981369Z",
     "shell.execute_reply": "2022-09-14T09:24:28.980511Z"
    },
    "papermill": {
     "duration": 0.072667,
     "end_time": "2022-09-14T09:24:28.983656",
     "exception": false,
     "start_time": "2022-09-14T09:24:28.910989",
     "status": "completed"
    },
    "tags": []
   },
   "outputs": [
    {
     "data": {
      "text/html": [
       "<div>\n",
       "<style scoped>\n",
       "    .dataframe tbody tr th:only-of-type {\n",
       "        vertical-align: middle;\n",
       "    }\n",
       "\n",
       "    .dataframe tbody tr th {\n",
       "        vertical-align: top;\n",
       "    }\n",
       "\n",
       "    .dataframe thead th {\n",
       "        text-align: right;\n",
       "    }\n",
       "</style>\n",
       "<table border=\"1\" class=\"dataframe\">\n",
       "  <thead>\n",
       "    <tr style=\"text-align: right;\">\n",
       "      <th></th>\n",
       "      <th>Ind_Fare</th>\n",
       "      <th>Fare</th>\n",
       "      <th>PassengerId</th>\n",
       "    </tr>\n",
       "    <tr>\n",
       "      <th>Embarked</th>\n",
       "      <th></th>\n",
       "      <th></th>\n",
       "      <th></th>\n",
       "    </tr>\n",
       "  </thead>\n",
       "  <tbody>\n",
       "    <tr>\n",
       "      <th>C</th>\n",
       "      <td>39.179223</td>\n",
       "      <td>104.718529</td>\n",
       "      <td>85</td>\n",
       "    </tr>\n",
       "    <tr>\n",
       "      <th>Q</th>\n",
       "      <td>30.000000</td>\n",
       "      <td>90.000000</td>\n",
       "      <td>2</td>\n",
       "    </tr>\n",
       "    <tr>\n",
       "      <th>S</th>\n",
       "      <td>30.211849</td>\n",
       "      <td>70.364862</td>\n",
       "      <td>127</td>\n",
       "    </tr>\n",
       "  </tbody>\n",
       "</table>\n",
       "</div>"
      ],
      "text/plain": [
       "           Ind_Fare        Fare  PassengerId\n",
       "Embarked                                    \n",
       "C         39.179223  104.718529           85\n",
       "Q         30.000000   90.000000            2\n",
       "S         30.211849   70.364862          127"
      ]
     },
     "execution_count": 68,
     "metadata": {},
     "output_type": "execute_result"
    }
   ],
   "source": [
    "train_data[(train_data.Pclass==1)].groupby('Embarked').agg({'Ind_Fare': 'mean', 'Fare': 'mean', 'PassengerId': 'count'})"
   ]
  },
  {
   "cell_type": "code",
   "execution_count": 69,
   "id": "6ea0720c",
   "metadata": {
    "execution": {
     "iopub.execute_input": "2022-09-14T09:24:29.090749Z",
     "iopub.status.busy": "2022-09-14T09:24:29.090314Z",
     "iopub.status.idle": "2022-09-14T09:24:29.096659Z",
     "shell.execute_reply": "2022-09-14T09:24:29.095277Z"
    },
    "papermill": {
     "duration": 0.062612,
     "end_time": "2022-09-14T09:24:29.099114",
     "exception": false,
     "start_time": "2022-09-14T09:24:29.036502",
     "status": "completed"
    },
    "tags": []
   },
   "outputs": [],
   "source": [
    "train_data.Embarked.fillna('C', inplace=True)"
   ]
  },
  {
   "cell_type": "markdown",
   "id": "038d095d",
   "metadata": {
    "papermill": {
     "duration": 0.051641,
     "end_time": "2022-09-14T09:24:29.273477",
     "exception": false,
     "start_time": "2022-09-14T09:24:29.221836",
     "status": "completed"
    },
    "tags": []
   },
   "source": [
    "Cabin"
   ]
  },
  {
   "cell_type": "code",
   "execution_count": 70,
   "id": "73767f2f",
   "metadata": {
    "execution": {
     "iopub.execute_input": "2022-09-14T09:24:29.379519Z",
     "iopub.status.busy": "2022-09-14T09:24:29.379116Z",
     "iopub.status.idle": "2022-09-14T09:24:29.386883Z",
     "shell.execute_reply": "2022-09-14T09:24:29.385940Z"
    },
    "papermill": {
     "duration": 0.063361,
     "end_time": "2022-09-14T09:24:29.389013",
     "exception": false,
     "start_time": "2022-09-14T09:24:29.325652",
     "status": "completed"
    },
    "tags": []
   },
   "outputs": [],
   "source": [
    "train_data['Cabin']=train_data.Deck.fillna('NA')\n",
    "test_data['Cabin']=train_data.Deck.fillna('NA')"
   ]
  },
  {
   "cell_type": "code",
   "execution_count": 71,
   "id": "499d3522",
   "metadata": {
    "execution": {
     "iopub.execute_input": "2022-09-14T09:24:29.495143Z",
     "iopub.status.busy": "2022-09-14T09:24:29.494695Z",
     "iopub.status.idle": "2022-09-14T09:24:29.512319Z",
     "shell.execute_reply": "2022-09-14T09:24:29.510056Z"
    },
    "papermill": {
     "duration": 0.073814,
     "end_time": "2022-09-14T09:24:29.514820",
     "exception": false,
     "start_time": "2022-09-14T09:24:29.441006",
     "status": "completed"
    },
    "tags": []
   },
   "outputs": [
    {
     "name": "stdout",
     "output_type": "stream",
     "text": [
      "<class 'pandas.core.frame.DataFrame'>\n",
      "Int64Index: 891 entries, 0 to 890\n",
      "Data columns (total 17 columns):\n",
      " #   Column       Non-Null Count  Dtype  \n",
      "---  ------       --------------  -----  \n",
      " 0   PassengerId  891 non-null    int64  \n",
      " 1   Survived     891 non-null    int64  \n",
      " 2   Pclass       891 non-null    int64  \n",
      " 3   Name         891 non-null    object \n",
      " 4   Sex          891 non-null    object \n",
      " 5   Age          891 non-null    float64\n",
      " 6   SibSp        891 non-null    int64  \n",
      " 7   Parch        891 non-null    int64  \n",
      " 8   Ticket       891 non-null    object \n",
      " 9   Fare         891 non-null    float64\n",
      " 10  Cabin        891 non-null    object \n",
      " 11  Embarked     891 non-null    object \n",
      " 12  Family       891 non-null    int64  \n",
      " 13  Num_Ticket   891 non-null    int64  \n",
      " 14  Ind_Fare     891 non-null    float64\n",
      " 15  Title        891 non-null    object \n",
      " 16  Deck         891 non-null    object \n",
      "dtypes: float64(3), int64(7), object(7)\n",
      "memory usage: 157.6+ KB\n"
     ]
    }
   ],
   "source": [
    "train_data.info()"
   ]
  },
  {
   "cell_type": "code",
   "execution_count": 72,
   "id": "d2887b89",
   "metadata": {
    "execution": {
     "iopub.execute_input": "2022-09-14T09:24:29.623931Z",
     "iopub.status.busy": "2022-09-14T09:24:29.623015Z",
     "iopub.status.idle": "2022-09-14T09:24:29.639801Z",
     "shell.execute_reply": "2022-09-14T09:24:29.638577Z"
    },
    "papermill": {
     "duration": 0.073875,
     "end_time": "2022-09-14T09:24:29.642385",
     "exception": false,
     "start_time": "2022-09-14T09:24:29.568510",
     "status": "completed"
    },
    "tags": []
   },
   "outputs": [
    {
     "name": "stdout",
     "output_type": "stream",
     "text": [
      "<class 'pandas.core.frame.DataFrame'>\n",
      "Int64Index: 418 entries, 0 to 417\n",
      "Data columns (total 16 columns):\n",
      " #   Column       Non-Null Count  Dtype  \n",
      "---  ------       --------------  -----  \n",
      " 0   PassengerId  418 non-null    int64  \n",
      " 1   Pclass       418 non-null    int64  \n",
      " 2   Name         418 non-null    object \n",
      " 3   Sex          418 non-null    object \n",
      " 4   Age          418 non-null    float64\n",
      " 5   SibSp        418 non-null    int64  \n",
      " 6   Parch        418 non-null    int64  \n",
      " 7   Ticket       418 non-null    object \n",
      " 8   Fare         418 non-null    float64\n",
      " 9   Cabin        418 non-null    object \n",
      " 10  Embarked     418 non-null    object \n",
      " 11  Family       418 non-null    int64  \n",
      " 12  Num_Ticket   418 non-null    int64  \n",
      " 13  Ind_Fare     418 non-null    float64\n",
      " 14  Title        418 non-null    object \n",
      " 15  Deck         418 non-null    object \n",
      "dtypes: float64(3), int64(6), object(7)\n",
      "memory usage: 55.5+ KB\n"
     ]
    }
   ],
   "source": [
    "test_data.info()"
   ]
  },
  {
   "cell_type": "markdown",
   "id": "3e5ea632",
   "metadata": {
    "papermill": {
     "duration": 0.052019,
     "end_time": "2022-09-14T09:24:29.747251",
     "exception": false,
     "start_time": "2022-09-14T09:24:29.695232",
     "status": "completed"
    },
    "tags": []
   },
   "source": [
    "Interactions"
   ]
  },
  {
   "cell_type": "code",
   "execution_count": 73,
   "id": "7cfa98e8",
   "metadata": {
    "execution": {
     "iopub.execute_input": "2022-09-14T09:24:29.854855Z",
     "iopub.status.busy": "2022-09-14T09:24:29.854426Z",
     "iopub.status.idle": "2022-09-14T09:24:29.859055Z",
     "shell.execute_reply": "2022-09-14T09:24:29.857874Z"
    },
    "papermill": {
     "duration": 0.061931,
     "end_time": "2022-09-14T09:24:29.861361",
     "exception": false,
     "start_time": "2022-09-14T09:24:29.799430",
     "status": "completed"
    },
    "tags": []
   },
   "outputs": [],
   "source": [
    "#titanic=titanic.drop(['PassengerId','Name','Ticket','Cabin'],axis=1)"
   ]
  },
  {
   "cell_type": "code",
   "execution_count": 74,
   "id": "d3f32e2b",
   "metadata": {
    "execution": {
     "iopub.execute_input": "2022-09-14T09:24:29.971824Z",
     "iopub.status.busy": "2022-09-14T09:24:29.971387Z",
     "iopub.status.idle": "2022-09-14T09:24:29.990201Z",
     "shell.execute_reply": "2022-09-14T09:24:29.988897Z"
    },
    "papermill": {
     "duration": 0.076667,
     "end_time": "2022-09-14T09:24:29.992548",
     "exception": false,
     "start_time": "2022-09-14T09:24:29.915881",
     "status": "completed"
    },
    "tags": []
   },
   "outputs": [
    {
     "data": {
      "text/html": [
       "<div>\n",
       "<style scoped>\n",
       "    .dataframe tbody tr th:only-of-type {\n",
       "        vertical-align: middle;\n",
       "    }\n",
       "\n",
       "    .dataframe tbody tr th {\n",
       "        vertical-align: top;\n",
       "    }\n",
       "\n",
       "    .dataframe thead th {\n",
       "        text-align: right;\n",
       "    }\n",
       "</style>\n",
       "<table border=\"1\" class=\"dataframe\">\n",
       "  <thead>\n",
       "    <tr style=\"text-align: right;\">\n",
       "      <th></th>\n",
       "      <th>PassengerId</th>\n",
       "      <th>Survived</th>\n",
       "      <th>Pclass</th>\n",
       "      <th>Name</th>\n",
       "      <th>Sex</th>\n",
       "      <th>Age</th>\n",
       "      <th>SibSp</th>\n",
       "      <th>Parch</th>\n",
       "      <th>Ticket</th>\n",
       "      <th>Fare</th>\n",
       "      <th>Cabin</th>\n",
       "      <th>Embarked</th>\n",
       "    </tr>\n",
       "  </thead>\n",
       "  <tbody>\n",
       "    <tr>\n",
       "      <th>0</th>\n",
       "      <td>1</td>\n",
       "      <td>0.0</td>\n",
       "      <td>3</td>\n",
       "      <td>Braund, Mr. Owen Harris</td>\n",
       "      <td>male</td>\n",
       "      <td>22.0</td>\n",
       "      <td>1</td>\n",
       "      <td>0</td>\n",
       "      <td>A/5 21171</td>\n",
       "      <td>7.2500</td>\n",
       "      <td>NaN</td>\n",
       "      <td>S</td>\n",
       "    </tr>\n",
       "    <tr>\n",
       "      <th>1</th>\n",
       "      <td>2</td>\n",
       "      <td>1.0</td>\n",
       "      <td>1</td>\n",
       "      <td>Cumings, Mrs. John Bradley (Florence Briggs Th...</td>\n",
       "      <td>female</td>\n",
       "      <td>38.0</td>\n",
       "      <td>1</td>\n",
       "      <td>0</td>\n",
       "      <td>PC 17599</td>\n",
       "      <td>71.2833</td>\n",
       "      <td>C85</td>\n",
       "      <td>C</td>\n",
       "    </tr>\n",
       "    <tr>\n",
       "      <th>2</th>\n",
       "      <td>3</td>\n",
       "      <td>1.0</td>\n",
       "      <td>3</td>\n",
       "      <td>Heikkinen, Miss. Laina</td>\n",
       "      <td>female</td>\n",
       "      <td>26.0</td>\n",
       "      <td>0</td>\n",
       "      <td>0</td>\n",
       "      <td>STON/O2. 3101282</td>\n",
       "      <td>7.9250</td>\n",
       "      <td>NaN</td>\n",
       "      <td>S</td>\n",
       "    </tr>\n",
       "    <tr>\n",
       "      <th>3</th>\n",
       "      <td>4</td>\n",
       "      <td>1.0</td>\n",
       "      <td>1</td>\n",
       "      <td>Futrelle, Mrs. Jacques Heath (Lily May Peel)</td>\n",
       "      <td>female</td>\n",
       "      <td>35.0</td>\n",
       "      <td>1</td>\n",
       "      <td>0</td>\n",
       "      <td>113803</td>\n",
       "      <td>53.1000</td>\n",
       "      <td>C123</td>\n",
       "      <td>S</td>\n",
       "    </tr>\n",
       "    <tr>\n",
       "      <th>4</th>\n",
       "      <td>5</td>\n",
       "      <td>0.0</td>\n",
       "      <td>3</td>\n",
       "      <td>Allen, Mr. William Henry</td>\n",
       "      <td>male</td>\n",
       "      <td>35.0</td>\n",
       "      <td>0</td>\n",
       "      <td>0</td>\n",
       "      <td>373450</td>\n",
       "      <td>8.0500</td>\n",
       "      <td>NaN</td>\n",
       "      <td>S</td>\n",
       "    </tr>\n",
       "  </tbody>\n",
       "</table>\n",
       "</div>"
      ],
      "text/plain": [
       "   PassengerId  Survived  Pclass  \\\n",
       "0            1       0.0       3   \n",
       "1            2       1.0       1   \n",
       "2            3       1.0       3   \n",
       "3            4       1.0       1   \n",
       "4            5       0.0       3   \n",
       "\n",
       "                                                Name     Sex   Age  SibSp  \\\n",
       "0                            Braund, Mr. Owen Harris    male  22.0      1   \n",
       "1  Cumings, Mrs. John Bradley (Florence Briggs Th...  female  38.0      1   \n",
       "2                             Heikkinen, Miss. Laina  female  26.0      0   \n",
       "3       Futrelle, Mrs. Jacques Heath (Lily May Peel)  female  35.0      1   \n",
       "4                           Allen, Mr. William Henry    male  35.0      0   \n",
       "\n",
       "   Parch            Ticket     Fare Cabin Embarked  \n",
       "0      0         A/5 21171   7.2500   NaN        S  \n",
       "1      0          PC 17599  71.2833   C85        C  \n",
       "2      0  STON/O2. 3101282   7.9250   NaN        S  \n",
       "3      0            113803  53.1000  C123        S  \n",
       "4      0            373450   8.0500   NaN        S  "
      ]
     },
     "execution_count": 74,
     "metadata": {},
     "output_type": "execute_result"
    }
   ],
   "source": [
    "titanic.head()"
   ]
  },
  {
   "cell_type": "markdown",
   "id": "698797e1",
   "metadata": {
    "execution": {
     "iopub.execute_input": "2022-08-05T12:47:21.163187Z",
     "iopub.status.busy": "2022-08-05T12:47:21.162774Z",
     "iopub.status.idle": "2022-08-05T12:47:21.168745Z",
     "shell.execute_reply": "2022-08-05T12:47:21.167578Z",
     "shell.execute_reply.started": "2022-08-05T12:47:21.163151Z"
    },
    "papermill": {
     "duration": 0.053664,
     "end_time": "2022-09-14T09:24:30.101799",
     "exception": false,
     "start_time": "2022-09-14T09:24:30.048135",
     "status": "completed"
    },
    "tags": []
   },
   "source": [
    "Transformacion manual"
   ]
  },
  {
   "cell_type": "code",
   "execution_count": 75,
   "id": "57f6cfd2",
   "metadata": {
    "execution": {
     "iopub.execute_input": "2022-09-14T09:24:30.211020Z",
     "iopub.status.busy": "2022-09-14T09:24:30.210588Z",
     "iopub.status.idle": "2022-09-14T09:24:30.229885Z",
     "shell.execute_reply": "2022-09-14T09:24:30.227875Z"
    },
    "papermill": {
     "duration": 0.076857,
     "end_time": "2022-09-14T09:24:30.232731",
     "exception": false,
     "start_time": "2022-09-14T09:24:30.155874",
     "status": "completed"
    },
    "tags": []
   },
   "outputs": [
    {
     "name": "stdout",
     "output_type": "stream",
     "text": [
      "<class 'pandas.core.frame.DataFrame'>\n",
      "Int64Index: 891 entries, 0 to 890\n",
      "Data columns (total 11 columns):\n",
      " #   Column         Non-Null Count  Dtype  \n",
      "---  ------         --------------  -----  \n",
      " 0   Survived       891 non-null    int64  \n",
      " 1   Pclass         891 non-null    int64  \n",
      " 2   Sex            891 non-null    object \n",
      " 3   Age            891 non-null    float64\n",
      " 4   SibSp          891 non-null    int64  \n",
      " 5   Parch          891 non-null    int64  \n",
      " 6   Embarked       891 non-null    object \n",
      " 7   Num_Ticket     891 non-null    int64  \n",
      " 8   Title          891 non-null    object \n",
      " 9   Deck           891 non-null    object \n",
      " 10  Norm_Ind_Fare  891 non-null    float64\n",
      "dtypes: float64(2), int64(5), object(4)\n",
      "memory usage: 115.8+ KB\n"
     ]
    }
   ],
   "source": [
    "traintanic=train_data\n",
    "#traintanic['Family']= traintanic.Parch + traintanic.SibSp\n",
    "#traintanic = traintanic.merge(num_tickets, on='Ticket')\n",
    "#traintanic['Ind_Fare']= traintanic.Fare / traintanic.Num_Ticket\n",
    "#traintanic['Title'] = traintanic.Name.apply(lambda name: name.split(',')[1].split('.')[0].strip())\n",
    "#traintanic['Title']=traintanic.apply(replace_titles, axis=1)\n",
    "#traintanic['Missing_Age']= traintanic.Age.isnull()\n",
    "#traintanic.Age.fillna(30,inplace=True)\n",
    "#traintanic['Deck']=traintanic.Cabin.str[0]\n",
    "#traintanic['Missing_Deck']= traintanic.Deck.isnull()\n",
    "#traintanic['Deck']=traintanic.Deck.fillna('NA')\n",
    "traintanic['Norm_Ind_Fare'] = np.log(traintanic.Ind_Fare+1)\n",
    "traintanic=traintanic.drop(['PassengerId','Name','Ticket','Cabin', 'Ind_Fare', 'Fare', 'Family'],axis=1)\n",
    "#traintanic.Embarked.fillna(traintanic.Embarked.mode()[0], inplace = True)\n",
    "traintanic.info()"
   ]
  },
  {
   "cell_type": "code",
   "execution_count": 76,
   "id": "b6d6ae93",
   "metadata": {
    "execution": {
     "iopub.execute_input": "2022-09-14T09:24:30.342610Z",
     "iopub.status.busy": "2022-09-14T09:24:30.342197Z",
     "iopub.status.idle": "2022-09-14T09:24:30.361232Z",
     "shell.execute_reply": "2022-09-14T09:24:30.359787Z"
    },
    "papermill": {
     "duration": 0.077543,
     "end_time": "2022-09-14T09:24:30.364412",
     "exception": false,
     "start_time": "2022-09-14T09:24:30.286869",
     "status": "completed"
    },
    "tags": []
   },
   "outputs": [
    {
     "name": "stdout",
     "output_type": "stream",
     "text": [
      "<class 'pandas.core.frame.DataFrame'>\n",
      "Int64Index: 418 entries, 0 to 417\n",
      "Data columns (total 10 columns):\n",
      " #   Column         Non-Null Count  Dtype  \n",
      "---  ------         --------------  -----  \n",
      " 0   Pclass         418 non-null    int64  \n",
      " 1   Sex            418 non-null    object \n",
      " 2   Age            418 non-null    float64\n",
      " 3   SibSp          418 non-null    int64  \n",
      " 4   Parch          418 non-null    int64  \n",
      " 5   Embarked       418 non-null    object \n",
      " 6   Num_Ticket     418 non-null    int64  \n",
      " 7   Title          418 non-null    object \n",
      " 8   Deck           418 non-null    object \n",
      " 9   Norm_Ind_Fare  418 non-null    float64\n",
      "dtypes: float64(2), int64(4), object(4)\n",
      "memory usage: 35.9+ KB\n"
     ]
    }
   ],
   "source": [
    "testanic=test_data\n",
    "#testanic['Family']= testanic.Parch + testanic.SibSp\n",
    "#testanic = testanic.merge(num_tickets, on='Ticket')\n",
    "#testanic['Ind_Fare']= testanic.Fare / testanic.Num_Ticket\n",
    "#testanic['Title'] = testanic.Name.apply(lambda name: name.split(',')[1].split('.')[0].strip())\n",
    "#testanic['Title']=testanic.apply(replace_titles, axis=1)\n",
    "#testanic['Missing_Age']= testanic.Age.isnull()\n",
    "#testanic.Age.fillna(testanic.Age.mean,inplace=True)\n",
    "#testanic['Deck']=testanic.Cabin.str[0]\n",
    "#testanic['Missing_Deck']= testanic.Deck.isnull()\n",
    "#testanic['Deck']=testanic.Deck.fillna('NA')\n",
    "testanic['Norm_Ind_Fare'] = np.log(testanic.Ind_Fare+1)\n",
    "testanic=testanic.drop(['PassengerId','Name','Ticket','Cabin','Ind_Fare','Fare','Family'],axis=1)\n",
    "#testanic.Embarked.fillna(testanic.Embarked.mode()[0], inplace = True)\n",
    "testanic.info()"
   ]
  },
  {
   "cell_type": "markdown",
   "id": "5907ec2e",
   "metadata": {
    "papermill": {
     "duration": 0.052796,
     "end_time": "2022-09-14T09:24:30.470837",
     "exception": false,
     "start_time": "2022-09-14T09:24:30.418041",
     "status": "completed"
    },
    "tags": []
   },
   "source": [
    "# EXPLORER DATA"
   ]
  },
  {
   "cell_type": "code",
   "execution_count": 77,
   "id": "79d1a71c",
   "metadata": {
    "execution": {
     "iopub.execute_input": "2022-09-14T09:24:30.581751Z",
     "iopub.status.busy": "2022-09-14T09:24:30.580906Z",
     "iopub.status.idle": "2022-09-14T09:24:30.597382Z",
     "shell.execute_reply": "2022-09-14T09:24:30.596192Z"
    },
    "papermill": {
     "duration": 0.074403,
     "end_time": "2022-09-14T09:24:30.599827",
     "exception": false,
     "start_time": "2022-09-14T09:24:30.525424",
     "status": "completed"
    },
    "tags": []
   },
   "outputs": [
    {
     "data": {
      "text/html": [
       "<div>\n",
       "<style scoped>\n",
       "    .dataframe tbody tr th:only-of-type {\n",
       "        vertical-align: middle;\n",
       "    }\n",
       "\n",
       "    .dataframe tbody tr th {\n",
       "        vertical-align: top;\n",
       "    }\n",
       "\n",
       "    .dataframe thead th {\n",
       "        text-align: right;\n",
       "    }\n",
       "</style>\n",
       "<table border=\"1\" class=\"dataframe\">\n",
       "  <thead>\n",
       "    <tr style=\"text-align: right;\">\n",
       "      <th></th>\n",
       "      <th>Survived</th>\n",
       "      <th>Pclass</th>\n",
       "      <th>Age</th>\n",
       "      <th>SibSp</th>\n",
       "      <th>Parch</th>\n",
       "      <th>Num_Ticket</th>\n",
       "      <th>Norm_Ind_Fare</th>\n",
       "    </tr>\n",
       "  </thead>\n",
       "  <tbody>\n",
       "    <tr>\n",
       "      <th>Survived</th>\n",
       "      <td>1.000000</td>\n",
       "      <td>-0.338481</td>\n",
       "      <td>-0.076902</td>\n",
       "      <td>-0.035322</td>\n",
       "      <td>0.081629</td>\n",
       "      <td>0.064962</td>\n",
       "      <td>0.306219</td>\n",
       "    </tr>\n",
       "    <tr>\n",
       "      <th>Pclass</th>\n",
       "      <td>-0.338481</td>\n",
       "      <td>1.000000</td>\n",
       "      <td>-0.403311</td>\n",
       "      <td>0.083081</td>\n",
       "      <td>0.018443</td>\n",
       "      <td>-0.039893</td>\n",
       "      <td>-0.771307</td>\n",
       "    </tr>\n",
       "    <tr>\n",
       "      <th>Age</th>\n",
       "      <td>-0.076902</td>\n",
       "      <td>-0.403311</td>\n",
       "      <td>1.000000</td>\n",
       "      <td>-0.275944</td>\n",
       "      <td>-0.192509</td>\n",
       "      <td>-0.240968</td>\n",
       "      <td>0.362118</td>\n",
       "    </tr>\n",
       "    <tr>\n",
       "      <th>SibSp</th>\n",
       "      <td>-0.035322</td>\n",
       "      <td>0.083081</td>\n",
       "      <td>-0.275944</td>\n",
       "      <td>1.000000</td>\n",
       "      <td>0.414838</td>\n",
       "      <td>0.727331</td>\n",
       "      <td>-0.104095</td>\n",
       "    </tr>\n",
       "    <tr>\n",
       "      <th>Parch</th>\n",
       "      <td>0.081629</td>\n",
       "      <td>0.018443</td>\n",
       "      <td>-0.192509</td>\n",
       "      <td>0.414838</td>\n",
       "      <td>1.000000</td>\n",
       "      <td>0.638361</td>\n",
       "      <td>-0.090328</td>\n",
       "    </tr>\n",
       "    <tr>\n",
       "      <th>Num_Ticket</th>\n",
       "      <td>0.064962</td>\n",
       "      <td>-0.039893</td>\n",
       "      <td>-0.240968</td>\n",
       "      <td>0.727331</td>\n",
       "      <td>0.638361</td>\n",
       "      <td>1.000000</td>\n",
       "      <td>-0.044123</td>\n",
       "    </tr>\n",
       "    <tr>\n",
       "      <th>Norm_Ind_Fare</th>\n",
       "      <td>0.306219</td>\n",
       "      <td>-0.771307</td>\n",
       "      <td>0.362118</td>\n",
       "      <td>-0.104095</td>\n",
       "      <td>-0.090328</td>\n",
       "      <td>-0.044123</td>\n",
       "      <td>1.000000</td>\n",
       "    </tr>\n",
       "  </tbody>\n",
       "</table>\n",
       "</div>"
      ],
      "text/plain": [
       "               Survived    Pclass       Age     SibSp     Parch  Num_Ticket  \\\n",
       "Survived       1.000000 -0.338481 -0.076902 -0.035322  0.081629    0.064962   \n",
       "Pclass        -0.338481  1.000000 -0.403311  0.083081  0.018443   -0.039893   \n",
       "Age           -0.076902 -0.403311  1.000000 -0.275944 -0.192509   -0.240968   \n",
       "SibSp         -0.035322  0.083081 -0.275944  1.000000  0.414838    0.727331   \n",
       "Parch          0.081629  0.018443 -0.192509  0.414838  1.000000    0.638361   \n",
       "Num_Ticket     0.064962 -0.039893 -0.240968  0.727331  0.638361    1.000000   \n",
       "Norm_Ind_Fare  0.306219 -0.771307  0.362118 -0.104095 -0.090328   -0.044123   \n",
       "\n",
       "               Norm_Ind_Fare  \n",
       "Survived            0.306219  \n",
       "Pclass             -0.771307  \n",
       "Age                 0.362118  \n",
       "SibSp              -0.104095  \n",
       "Parch              -0.090328  \n",
       "Num_Ticket         -0.044123  \n",
       "Norm_Ind_Fare       1.000000  "
      ]
     },
     "execution_count": 77,
     "metadata": {},
     "output_type": "execute_result"
    }
   ],
   "source": [
    "traintanic.corr()"
   ]
  },
  {
   "cell_type": "code",
   "execution_count": 78,
   "id": "a30b0aed",
   "metadata": {
    "execution": {
     "iopub.execute_input": "2022-09-14T09:24:30.709013Z",
     "iopub.status.busy": "2022-09-14T09:24:30.708036Z",
     "iopub.status.idle": "2022-09-14T09:24:30.726369Z",
     "shell.execute_reply": "2022-09-14T09:24:30.725130Z"
    },
    "papermill": {
     "duration": 0.075666,
     "end_time": "2022-09-14T09:24:30.728928",
     "exception": false,
     "start_time": "2022-09-14T09:24:30.653262",
     "status": "completed"
    },
    "tags": []
   },
   "outputs": [
    {
     "data": {
      "text/html": [
       "<div>\n",
       "<style scoped>\n",
       "    .dataframe tbody tr th:only-of-type {\n",
       "        vertical-align: middle;\n",
       "    }\n",
       "\n",
       "    .dataframe tbody tr th {\n",
       "        vertical-align: top;\n",
       "    }\n",
       "\n",
       "    .dataframe thead th {\n",
       "        text-align: right;\n",
       "    }\n",
       "</style>\n",
       "<table border=\"1\" class=\"dataframe\">\n",
       "  <thead>\n",
       "    <tr style=\"text-align: right;\">\n",
       "      <th></th>\n",
       "      <th>Survived</th>\n",
       "      <th>Pclass</th>\n",
       "      <th>Sex</th>\n",
       "      <th>Age</th>\n",
       "      <th>SibSp</th>\n",
       "      <th>Parch</th>\n",
       "      <th>Embarked</th>\n",
       "      <th>Num_Ticket</th>\n",
       "      <th>Title</th>\n",
       "      <th>Deck</th>\n",
       "      <th>Norm_Ind_Fare</th>\n",
       "    </tr>\n",
       "  </thead>\n",
       "  <tbody>\n",
       "    <tr>\n",
       "      <th>0</th>\n",
       "      <td>0</td>\n",
       "      <td>3</td>\n",
       "      <td>male</td>\n",
       "      <td>22.0</td>\n",
       "      <td>1</td>\n",
       "      <td>0</td>\n",
       "      <td>S</td>\n",
       "      <td>1</td>\n",
       "      <td>Mr</td>\n",
       "      <td>NA</td>\n",
       "      <td>2.110213</td>\n",
       "    </tr>\n",
       "    <tr>\n",
       "      <th>1</th>\n",
       "      <td>1</td>\n",
       "      <td>1</td>\n",
       "      <td>female</td>\n",
       "      <td>38.0</td>\n",
       "      <td>1</td>\n",
       "      <td>0</td>\n",
       "      <td>C</td>\n",
       "      <td>2</td>\n",
       "      <td>Mrs</td>\n",
       "      <td>C</td>\n",
       "      <td>3.601186</td>\n",
       "    </tr>\n",
       "    <tr>\n",
       "      <th>2</th>\n",
       "      <td>1</td>\n",
       "      <td>3</td>\n",
       "      <td>female</td>\n",
       "      <td>26.0</td>\n",
       "      <td>0</td>\n",
       "      <td>0</td>\n",
       "      <td>S</td>\n",
       "      <td>1</td>\n",
       "      <td>Miss</td>\n",
       "      <td>NA</td>\n",
       "      <td>2.188856</td>\n",
       "    </tr>\n",
       "    <tr>\n",
       "      <th>3</th>\n",
       "      <td>1</td>\n",
       "      <td>1</td>\n",
       "      <td>female</td>\n",
       "      <td>35.0</td>\n",
       "      <td>1</td>\n",
       "      <td>0</td>\n",
       "      <td>S</td>\n",
       "      <td>2</td>\n",
       "      <td>Mrs</td>\n",
       "      <td>C</td>\n",
       "      <td>3.316003</td>\n",
       "    </tr>\n",
       "    <tr>\n",
       "      <th>4</th>\n",
       "      <td>0</td>\n",
       "      <td>1</td>\n",
       "      <td>male</td>\n",
       "      <td>37.0</td>\n",
       "      <td>1</td>\n",
       "      <td>0</td>\n",
       "      <td>S</td>\n",
       "      <td>2</td>\n",
       "      <td>Mr</td>\n",
       "      <td>C</td>\n",
       "      <td>3.316003</td>\n",
       "    </tr>\n",
       "  </tbody>\n",
       "</table>\n",
       "</div>"
      ],
      "text/plain": [
       "   Survived  Pclass     Sex   Age  SibSp  Parch Embarked  Num_Ticket Title  \\\n",
       "0         0       3    male  22.0      1      0        S           1    Mr   \n",
       "1         1       1  female  38.0      1      0        C           2   Mrs   \n",
       "2         1       3  female  26.0      0      0        S           1  Miss   \n",
       "3         1       1  female  35.0      1      0        S           2   Mrs   \n",
       "4         0       1    male  37.0      1      0        S           2    Mr   \n",
       "\n",
       "  Deck  Norm_Ind_Fare  \n",
       "0   NA       2.110213  \n",
       "1    C       3.601186  \n",
       "2   NA       2.188856  \n",
       "3    C       3.316003  \n",
       "4    C       3.316003  "
      ]
     },
     "execution_count": 78,
     "metadata": {},
     "output_type": "execute_result"
    }
   ],
   "source": [
    "traintanic.head()"
   ]
  },
  {
   "cell_type": "code",
   "execution_count": 79,
   "id": "02a7523f",
   "metadata": {
    "execution": {
     "iopub.execute_input": "2022-09-14T09:24:30.840477Z",
     "iopub.status.busy": "2022-09-14T09:24:30.838246Z",
     "iopub.status.idle": "2022-09-14T09:24:31.352296Z",
     "shell.execute_reply": "2022-09-14T09:24:31.351162Z"
    },
    "papermill": {
     "duration": 0.572818,
     "end_time": "2022-09-14T09:24:31.355460",
     "exception": false,
     "start_time": "2022-09-14T09:24:30.782642",
     "status": "completed"
    },
    "tags": []
   },
   "outputs": [
    {
     "data": {
      "text/plain": [
       "<seaborn.axisgrid.JointGrid at 0x7f56a0572e10>"
      ]
     },
     "execution_count": 79,
     "metadata": {},
     "output_type": "execute_result"
    },
    {
     "data": {
      "image/png": "[encoded data removed]",
      "text/plain": [
       "<Figure size 432x432 with 3 Axes>"
      ]
     },
     "metadata": {
      "needs_background": "light"
     },
     "output_type": "display_data"
    }
   ],
   "source": [
    "sns.jointplot(data=traintanic, x=\"Age\", y=\"Norm_Ind_Fare\", hue=\"Survived\")"
   ]
  },
  {
   "cell_type": "code",
   "execution_count": null,
   "id": "b9c91af9",
   "metadata": {
    "papermill": {
     "duration": 0.054478,
     "end_time": "2022-09-14T09:24:31.464725",
     "exception": false,
     "start_time": "2022-09-14T09:24:31.410247",
     "status": "completed"
    },
    "tags": []
   },
   "outputs": [],
   "source": []
  },
  {
   "cell_type": "code",
   "execution_count": null,
   "id": "08661c99",
   "metadata": {
    "papermill": {
     "duration": 0.054554,
     "end_time": "2022-09-14T09:24:31.573728",
     "exception": false,
     "start_time": "2022-09-14T09:24:31.519174",
     "status": "completed"
    },
    "tags": []
   },
   "outputs": [],
   "source": []
  },
  {
   "cell_type": "code",
   "execution_count": 80,
   "id": "a2f3c880",
   "metadata": {
    "execution": {
     "iopub.execute_input": "2022-09-14T09:24:31.685333Z",
     "iopub.status.busy": "2022-09-14T09:24:31.684599Z",
     "iopub.status.idle": "2022-09-14T09:24:32.276111Z",
     "shell.execute_reply": "2022-09-14T09:24:32.275256Z"
    },
    "papermill": {
     "duration": 0.64993,
     "end_time": "2022-09-14T09:24:32.278289",
     "exception": false,
     "start_time": "2022-09-14T09:24:31.628359",
     "status": "completed"
    },
    "tags": []
   },
   "outputs": [
    {
     "data": {
      "text/plain": [
       "<seaborn.axisgrid.JointGrid at 0x7f5694999210>"
      ]
     },
     "execution_count": 80,
     "metadata": {},
     "output_type": "execute_result"
    },
    {
     "data": {
      "image/png": "[encoded data removed]",
      "text/plain": [
       "<Figure size 432x432 with 3 Axes>"
      ]
     },
     "metadata": {
      "needs_background": "light"
     },
     "output_type": "display_data"
    }
   ],
   "source": [
    "sns.jointplot(data=traintanic[(traintanic.Survived==0)], x=\"Age\", y=\"Norm_Ind_Fare\", hue=\"Sex\")"
   ]
  },
  {
   "cell_type": "raw",
   "id": "e7be86d0",
   "metadata": {
    "papermill": {
     "duration": 0.05534,
     "end_time": "2022-09-14T09:24:32.389932",
     "exception": false,
     "start_time": "2022-09-14T09:24:32.334592",
     "status": "completed"
    },
    "tags": []
   },
   "source": [
    "Handling text and Categorical Attributes"
   ]
  },
  {
   "cell_type": "markdown",
   "id": "8036e6c6",
   "metadata": {
    "papermill": {
     "duration": 0.055076,
     "end_time": "2022-09-14T09:24:32.500515",
     "exception": false,
     "start_time": "2022-09-14T09:24:32.445439",
     "status": "completed"
    },
    "tags": []
   },
   "source": [
    "Pipelines"
   ]
  },
  {
   "cell_type": "code",
   "execution_count": 81,
   "id": "4b2e6eac",
   "metadata": {
    "execution": {
     "iopub.execute_input": "2022-09-14T09:24:32.616099Z",
     "iopub.status.busy": "2022-09-14T09:24:32.615330Z",
     "iopub.status.idle": "2022-09-14T09:24:33.009140Z",
     "shell.execute_reply": "2022-09-14T09:24:33.007785Z"
    },
    "papermill": {
     "duration": 0.455217,
     "end_time": "2022-09-14T09:24:33.011891",
     "exception": false,
     "start_time": "2022-09-14T09:24:32.556674",
     "status": "completed"
    },
    "tags": []
   },
   "outputs": [],
   "source": [
    "from sklearn.pipeline import Pipeline\n",
    "from sklearn.preprocessing import StandardScaler\n",
    "from sklearn.preprocessing import OneHotEncoder\n",
    "from sklearn.compose import ColumnTransformer\n",
    "from sklearn.impute import SimpleImputer\n"
   ]
  },
  {
   "cell_type": "code",
   "execution_count": 82,
   "id": "13f30de3",
   "metadata": {
    "execution": {
     "iopub.execute_input": "2022-09-14T09:24:33.125731Z",
     "iopub.status.busy": "2022-09-14T09:24:33.125271Z",
     "iopub.status.idle": "2022-09-14T09:24:33.132849Z",
     "shell.execute_reply": "2022-09-14T09:24:33.131586Z"
    },
    "papermill": {
     "duration": 0.067577,
     "end_time": "2022-09-14T09:24:33.135241",
     "exception": false,
     "start_time": "2022-09-14T09:24:33.067664",
     "status": "completed"
    },
    "tags": []
   },
   "outputs": [],
   "source": [
    "num_attribs = ['Age','SibSp','Parch','Num_Ticket','Norm_Ind_Fare']\n",
    "cat_attribs = ['Pclass','Sex', 'Embarked', 'Title','Deck']\n",
    "\n",
    "numeric_preprocessor = Pipeline(\n",
    "    steps = [\n",
    "        #(\"imputation_mean\", SimpleImputer(missing_values=np.nan, strategy=\"mean\")),\n",
    "        (\"scaler\", StandardScaler())\n",
    "    ]\n",
    ")\n",
    "\n",
    "categorical_preprocessor = Pipeline(\n",
    "    steps = [\n",
    "        #(\"imputation_constant\", SimpleImputer(fill_value=\"missing\", strategy=\"constant\")),\n",
    "        (\"onehot\", OneHotEncoder(handle_unknown=\"ignore\"))\n",
    "        \n",
    "    ]\n",
    ")\n",
    "\n",
    "preprocessor = ColumnTransformer([\n",
    "    (\"cat\", categorical_preprocessor, cat_attribs),\n",
    "    (\"num\", numeric_preprocessor, num_attribs)\n",
    "])\n"
   ]
  },
  {
   "cell_type": "markdown",
   "id": "833201a9",
   "metadata": {
    "papermill": {
     "duration": 0.055559,
     "end_time": "2022-09-14T09:24:33.246382",
     "exception": false,
     "start_time": "2022-09-14T09:24:33.190823",
     "status": "completed"
    },
    "tags": []
   },
   "source": [
    "Selecting Data"
   ]
  },
  {
   "cell_type": "code",
   "execution_count": 83,
   "id": "c94b6a5a",
   "metadata": {
    "execution": {
     "iopub.execute_input": "2022-09-14T09:24:33.359711Z",
     "iopub.status.busy": "2022-09-14T09:24:33.359269Z",
     "iopub.status.idle": "2022-09-14T09:24:33.364193Z",
     "shell.execute_reply": "2022-09-14T09:24:33.362971Z"
    },
    "papermill": {
     "duration": 0.064578,
     "end_time": "2022-09-14T09:24:33.366692",
     "exception": false,
     "start_time": "2022-09-14T09:24:33.302114",
     "status": "completed"
    },
    "tags": []
   },
   "outputs": [],
   "source": [
    "#traintanic=train_data\n",
    "#testanic=test_data"
   ]
  },
  {
   "cell_type": "code",
   "execution_count": 84,
   "id": "48024c6b",
   "metadata": {
    "execution": {
     "iopub.execute_input": "2022-09-14T09:24:33.480719Z",
     "iopub.status.busy": "2022-09-14T09:24:33.480268Z",
     "iopub.status.idle": "2022-09-14T09:24:33.506227Z",
     "shell.execute_reply": "2022-09-14T09:24:33.505067Z"
    },
    "papermill": {
     "duration": 0.085991,
     "end_time": "2022-09-14T09:24:33.508662",
     "exception": false,
     "start_time": "2022-09-14T09:24:33.422671",
     "status": "completed"
    },
    "tags": []
   },
   "outputs": [
    {
     "data": {
      "text/html": [
       "<div>\n",
       "<style scoped>\n",
       "    .dataframe tbody tr th:only-of-type {\n",
       "        vertical-align: middle;\n",
       "    }\n",
       "\n",
       "    .dataframe tbody tr th {\n",
       "        vertical-align: top;\n",
       "    }\n",
       "\n",
       "    .dataframe thead th {\n",
       "        text-align: right;\n",
       "    }\n",
       "</style>\n",
       "<table border=\"1\" class=\"dataframe\">\n",
       "  <thead>\n",
       "    <tr style=\"text-align: right;\">\n",
       "      <th></th>\n",
       "      <th>Pclass</th>\n",
       "      <th>Sex</th>\n",
       "      <th>Age</th>\n",
       "      <th>SibSp</th>\n",
       "      <th>Parch</th>\n",
       "      <th>Embarked</th>\n",
       "      <th>Num_Ticket</th>\n",
       "      <th>Title</th>\n",
       "      <th>Deck</th>\n",
       "      <th>Norm_Ind_Fare</th>\n",
       "    </tr>\n",
       "  </thead>\n",
       "  <tbody>\n",
       "    <tr>\n",
       "      <th>0</th>\n",
       "      <td>3</td>\n",
       "      <td>male</td>\n",
       "      <td>22.0</td>\n",
       "      <td>1</td>\n",
       "      <td>0</td>\n",
       "      <td>S</td>\n",
       "      <td>1</td>\n",
       "      <td>Mr</td>\n",
       "      <td>NA</td>\n",
       "      <td>2.110213</td>\n",
       "    </tr>\n",
       "    <tr>\n",
       "      <th>1</th>\n",
       "      <td>1</td>\n",
       "      <td>female</td>\n",
       "      <td>38.0</td>\n",
       "      <td>1</td>\n",
       "      <td>0</td>\n",
       "      <td>C</td>\n",
       "      <td>2</td>\n",
       "      <td>Mrs</td>\n",
       "      <td>C</td>\n",
       "      <td>3.601186</td>\n",
       "    </tr>\n",
       "    <tr>\n",
       "      <th>2</th>\n",
       "      <td>3</td>\n",
       "      <td>female</td>\n",
       "      <td>26.0</td>\n",
       "      <td>0</td>\n",
       "      <td>0</td>\n",
       "      <td>S</td>\n",
       "      <td>1</td>\n",
       "      <td>Miss</td>\n",
       "      <td>NA</td>\n",
       "      <td>2.188856</td>\n",
       "    </tr>\n",
       "    <tr>\n",
       "      <th>3</th>\n",
       "      <td>1</td>\n",
       "      <td>female</td>\n",
       "      <td>35.0</td>\n",
       "      <td>1</td>\n",
       "      <td>0</td>\n",
       "      <td>S</td>\n",
       "      <td>2</td>\n",
       "      <td>Mrs</td>\n",
       "      <td>C</td>\n",
       "      <td>3.316003</td>\n",
       "    </tr>\n",
       "    <tr>\n",
       "      <th>4</th>\n",
       "      <td>1</td>\n",
       "      <td>male</td>\n",
       "      <td>37.0</td>\n",
       "      <td>1</td>\n",
       "      <td>0</td>\n",
       "      <td>S</td>\n",
       "      <td>2</td>\n",
       "      <td>Mr</td>\n",
       "      <td>C</td>\n",
       "      <td>3.316003</td>\n",
       "    </tr>\n",
       "    <tr>\n",
       "      <th>...</th>\n",
       "      <td>...</td>\n",
       "      <td>...</td>\n",
       "      <td>...</td>\n",
       "      <td>...</td>\n",
       "      <td>...</td>\n",
       "      <td>...</td>\n",
       "      <td>...</td>\n",
       "      <td>...</td>\n",
       "      <td>...</td>\n",
       "      <td>...</td>\n",
       "    </tr>\n",
       "    <tr>\n",
       "      <th>886</th>\n",
       "      <td>3</td>\n",
       "      <td>male</td>\n",
       "      <td>25.0</td>\n",
       "      <td>0</td>\n",
       "      <td>0</td>\n",
       "      <td>S</td>\n",
       "      <td>1</td>\n",
       "      <td>Mr</td>\n",
       "      <td>NA</td>\n",
       "      <td>2.085672</td>\n",
       "    </tr>\n",
       "    <tr>\n",
       "      <th>887</th>\n",
       "      <td>2</td>\n",
       "      <td>male</td>\n",
       "      <td>27.0</td>\n",
       "      <td>0</td>\n",
       "      <td>0</td>\n",
       "      <td>S</td>\n",
       "      <td>1</td>\n",
       "      <td>Royalty</td>\n",
       "      <td>NA</td>\n",
       "      <td>2.639057</td>\n",
       "    </tr>\n",
       "    <tr>\n",
       "      <th>888</th>\n",
       "      <td>1</td>\n",
       "      <td>female</td>\n",
       "      <td>19.0</td>\n",
       "      <td>0</td>\n",
       "      <td>0</td>\n",
       "      <td>S</td>\n",
       "      <td>1</td>\n",
       "      <td>Miss</td>\n",
       "      <td>B</td>\n",
       "      <td>3.433987</td>\n",
       "    </tr>\n",
       "    <tr>\n",
       "      <th>889</th>\n",
       "      <td>1</td>\n",
       "      <td>male</td>\n",
       "      <td>26.0</td>\n",
       "      <td>0</td>\n",
       "      <td>0</td>\n",
       "      <td>C</td>\n",
       "      <td>1</td>\n",
       "      <td>Mr</td>\n",
       "      <td>C</td>\n",
       "      <td>3.433987</td>\n",
       "    </tr>\n",
       "    <tr>\n",
       "      <th>890</th>\n",
       "      <td>3</td>\n",
       "      <td>male</td>\n",
       "      <td>32.0</td>\n",
       "      <td>0</td>\n",
       "      <td>0</td>\n",
       "      <td>Q</td>\n",
       "      <td>1</td>\n",
       "      <td>Mr</td>\n",
       "      <td>NA</td>\n",
       "      <td>2.169054</td>\n",
       "    </tr>\n",
       "  </tbody>\n",
       "</table>\n",
       "<p>891 rows × 10 columns</p>\n",
       "</div>"
      ],
      "text/plain": [
       "     Pclass     Sex   Age  SibSp  Parch Embarked  Num_Ticket    Title Deck  \\\n",
       "0         3    male  22.0      1      0        S           1       Mr   NA   \n",
       "1         1  female  38.0      1      0        C           2      Mrs    C   \n",
       "2         3  female  26.0      0      0        S           1     Miss   NA   \n",
       "3         1  female  35.0      1      0        S           2      Mrs    C   \n",
       "4         1    male  37.0      1      0        S           2       Mr    C   \n",
       "..      ...     ...   ...    ...    ...      ...         ...      ...  ...   \n",
       "886       3    male  25.0      0      0        S           1       Mr   NA   \n",
       "887       2    male  27.0      0      0        S           1  Royalty   NA   \n",
       "888       1  female  19.0      0      0        S           1     Miss    B   \n",
       "889       1    male  26.0      0      0        C           1       Mr    C   \n",
       "890       3    male  32.0      0      0        Q           1       Mr   NA   \n",
       "\n",
       "     Norm_Ind_Fare  \n",
       "0         2.110213  \n",
       "1         3.601186  \n",
       "2         2.188856  \n",
       "3         3.316003  \n",
       "4         3.316003  \n",
       "..             ...  \n",
       "886       2.085672  \n",
       "887       2.639057  \n",
       "888       3.433987  \n",
       "889       3.433987  \n",
       "890       2.169054  \n",
       "\n",
       "[891 rows x 10 columns]"
      ]
     },
     "execution_count": 84,
     "metadata": {},
     "output_type": "execute_result"
    }
   ],
   "source": [
    "pY_traintanic = traintanic[\"Survived\"]\n",
    "pX_traintanic = traintanic.drop(\"Survived\", axis=1)\n",
    "pX_traintanic"
   ]
  },
  {
   "cell_type": "code",
   "execution_count": 85,
   "id": "8db782fb",
   "metadata": {
    "execution": {
     "iopub.execute_input": "2022-09-14T09:24:33.643673Z",
     "iopub.status.busy": "2022-09-14T09:24:33.641515Z",
     "iopub.status.idle": "2022-09-14T09:24:33.686866Z",
     "shell.execute_reply": "2022-09-14T09:24:33.684461Z"
    },
    "papermill": {
     "duration": 0.123327,
     "end_time": "2022-09-14T09:24:33.689752",
     "exception": false,
     "start_time": "2022-09-14T09:24:33.566425",
     "status": "completed"
    },
    "tags": []
   },
   "outputs": [
    {
     "name": "stdout",
     "output_type": "stream",
     "text": [
      "<class 'pandas.core.frame.DataFrame'>\n",
      "Int64Index: 891 entries, 0 to 890\n",
      "Data columns (total 25 columns):\n",
      " #   Column         Non-Null Count  Dtype  \n",
      "---  ------         --------------  -----  \n",
      " 0   Pclass         891 non-null    int64  \n",
      " 1   Sex_female     891 non-null    uint8  \n",
      " 2   Sex_male       891 non-null    uint8  \n",
      " 3   Embarked_C     891 non-null    uint8  \n",
      " 4   Embarked_Q     891 non-null    uint8  \n",
      " 5   Embarked_S     891 non-null    uint8  \n",
      " 6   Title_Master   891 non-null    uint8  \n",
      " 7   Title_Miss     891 non-null    uint8  \n",
      " 8   Title_Mr       891 non-null    uint8  \n",
      " 9   Title_Mrs      891 non-null    uint8  \n",
      " 10  Title_Officer  891 non-null    uint8  \n",
      " 11  Title_Royalty  891 non-null    uint8  \n",
      " 12  Deck_A         891 non-null    uint8  \n",
      " 13  Deck_B         891 non-null    uint8  \n",
      " 14  Deck_C         891 non-null    uint8  \n",
      " 15  Deck_D         891 non-null    uint8  \n",
      " 16  Deck_E         891 non-null    uint8  \n",
      " 17  Deck_F         891 non-null    uint8  \n",
      " 18  Deck_G         891 non-null    uint8  \n",
      " 19  Deck_NA        891 non-null    uint8  \n",
      " 20  Age            891 non-null    float64\n",
      " 21  SibSp          891 non-null    int64  \n",
      " 22  Parch          891 non-null    int64  \n",
      " 23  Num_Ticket     891 non-null    int64  \n",
      " 24  Norm_Ind_Fare  891 non-null    float64\n",
      "dtypes: float64(2), int64(4), uint8(19)\n",
      "memory usage: 97.5 KB\n",
      "<class 'pandas.core.frame.DataFrame'>\n",
      "Int64Index: 418 entries, 0 to 417\n",
      "Data columns (total 25 columns):\n",
      " #   Column         Non-Null Count  Dtype  \n",
      "---  ------         --------------  -----  \n",
      " 0   Pclass         418 non-null    int64  \n",
      " 1   Sex_female     418 non-null    uint8  \n",
      " 2   Sex_male       418 non-null    uint8  \n",
      " 3   Embarked_C     418 non-null    uint8  \n",
      " 4   Embarked_Q     418 non-null    uint8  \n",
      " 5   Embarked_S     418 non-null    uint8  \n",
      " 6   Title_Master   418 non-null    uint8  \n",
      " 7   Title_Miss     418 non-null    uint8  \n",
      " 8   Title_Mr       418 non-null    uint8  \n",
      " 9   Title_Mrs      418 non-null    uint8  \n",
      " 10  Title_Officer  418 non-null    uint8  \n",
      " 11  Title_Royalty  418 non-null    uint8  \n",
      " 12  Deck_A         418 non-null    uint8  \n",
      " 13  Deck_B         418 non-null    uint8  \n",
      " 14  Deck_C         418 non-null    uint8  \n",
      " 15  Deck_D         418 non-null    uint8  \n",
      " 16  Deck_E         418 non-null    uint8  \n",
      " 17  Deck_F         418 non-null    uint8  \n",
      " 18  Deck_G         418 non-null    uint8  \n",
      " 19  Deck_NA        418 non-null    uint8  \n",
      " 20  Age            418 non-null    float64\n",
      " 21  SibSp          418 non-null    int64  \n",
      " 22  Parch          418 non-null    int64  \n",
      " 23  Num_Ticket     418 non-null    int64  \n",
      " 24  Norm_Ind_Fare  418 non-null    float64\n",
      "dtypes: float64(2), int64(4), uint8(19)\n",
      "memory usage: 30.6 KB\n"
     ]
    }
   ],
   "source": [
    "Y_traintanic = traintanic[\"Survived\"]\n",
    "\n",
    "features = [\"Pclass\", \"Sex\", \"Embarked\", \"Title\", \"Deck\"]\n",
    "\n",
    "A_traintanic = pd.get_dummies(traintanic[features])\n",
    "B_traintanic = traintanic[['Age','SibSp','Parch','Num_Ticket','Norm_Ind_Fare']]\n",
    "X_traintanic = pd.concat([A_traintanic,B_traintanic],axis=1)\n",
    "X_traintanic=X_traintanic.drop(['Deck_T'],axis=1)\n",
    "X_traintanic.info()\n",
    "\n",
    "A_testanic = pd.get_dummies(testanic[features])\n",
    "B_testanic = testanic[['Age','SibSp','Parch','Num_Ticket','Norm_Ind_Fare']]\n",
    "X_testanic = pd.concat([A_testanic,B_testanic],axis=1)\n",
    "\n",
    "X_testanic.info()"
   ]
  },
  {
   "cell_type": "markdown",
   "id": "7eb360d4",
   "metadata": {
    "papermill": {
     "duration": 0.056228,
     "end_time": "2022-09-14T09:24:33.805068",
     "exception": false,
     "start_time": "2022-09-14T09:24:33.748840",
     "status": "completed"
    },
    "tags": []
   },
   "source": [
    "Training and Evaluating(Cross-Validation)"
   ]
  },
  {
   "cell_type": "code",
   "execution_count": 86,
   "id": "21152d7e",
   "metadata": {
    "execution": {
     "iopub.execute_input": "2022-09-14T09:24:33.923517Z",
     "iopub.status.busy": "2022-09-14T09:24:33.923122Z",
     "iopub.status.idle": "2022-09-14T09:24:33.929015Z",
     "shell.execute_reply": "2022-09-14T09:24:33.927771Z"
    },
    "papermill": {
     "duration": 0.068609,
     "end_time": "2022-09-14T09:24:33.931624",
     "exception": false,
     "start_time": "2022-09-14T09:24:33.863015",
     "status": "completed"
    },
    "tags": []
   },
   "outputs": [],
   "source": [
    "from sklearn.model_selection import cross_val_score\n",
    "\n",
    "def display_scores(scores):\n",
    "    print(\"Scores:\", scores)\n",
    "    print(\"Mean:\", scores.mean())\n",
    "    print(\"Standard deviation:\", scores.std())\n"
   ]
  },
  {
   "cell_type": "markdown",
   "id": "72d2da50",
   "metadata": {
    "papermill": {
     "duration": 0.059115,
     "end_time": "2022-09-14T09:24:34.048189",
     "exception": false,
     "start_time": "2022-09-14T09:24:33.989074",
     "status": "completed"
    },
    "tags": []
   },
   "source": [
    "## GD Classifier (Stochastic)"
   ]
  },
  {
   "cell_type": "markdown",
   "id": "516cdf6b",
   "metadata": {
    "papermill": {
     "duration": 0.056443,
     "end_time": "2022-09-14T09:24:34.161631",
     "exception": false,
     "start_time": "2022-09-14T09:24:34.105188",
     "status": "completed"
    },
    "tags": []
   },
   "source": [
    "Stochastic, batch and mini-batch"
   ]
  },
  {
   "cell_type": "markdown",
   "id": "70ef2af4",
   "metadata": {
    "papermill": {
     "duration": 0.055516,
     "end_time": "2022-09-14T09:24:34.273817",
     "exception": false,
     "start_time": "2022-09-14T09:24:34.218301",
     "status": "completed"
    },
    "tags": []
   },
   "source": [
    "Stochastic Gradient Descent (hyperparams >=2 , features Scaling required(StandardScaler)\n",
    "Hyperparameters:\n",
    "- Learning rate: too small(long time to converge). too big (diverge from solution)\n",
    "- epoch: rounds of iterations\n",
    "- \n"
   ]
  },
  {
   "cell_type": "code",
   "execution_count": 87,
   "id": "973b3ccc",
   "metadata": {
    "execution": {
     "iopub.execute_input": "2022-09-14T09:24:34.388561Z",
     "iopub.status.busy": "2022-09-14T09:24:34.388155Z",
     "iopub.status.idle": "2022-09-14T09:24:34.411110Z",
     "shell.execute_reply": "2022-09-14T09:24:34.409537Z"
    },
    "papermill": {
     "duration": 0.085897,
     "end_time": "2022-09-14T09:24:34.416297",
     "exception": false,
     "start_time": "2022-09-14T09:24:34.330400",
     "status": "completed"
    },
    "tags": []
   },
   "outputs": [
    {
     "data": {
      "text/plain": [
       "0.8249158249158249"
      ]
     },
     "execution_count": 87,
     "metadata": {},
     "output_type": "execute_result"
    }
   ],
   "source": [
    "from sklearn.linear_model import SGDClassifier\n",
    "\n",
    "sgd_clf = SGDClassifier()\n",
    "sgd_clf.fit(X_traintanic, Y_traintanic)\n",
    "sgd_clf.score(X_traintanic, Y_traintanic)"
   ]
  },
  {
   "cell_type": "code",
   "execution_count": 88,
   "id": "00c76437",
   "metadata": {
    "execution": {
     "iopub.execute_input": "2022-09-14T09:24:34.600223Z",
     "iopub.status.busy": "2022-09-14T09:24:34.599775Z",
     "iopub.status.idle": "2022-09-14T09:24:34.661147Z",
     "shell.execute_reply": "2022-09-14T09:24:34.659826Z"
    },
    "papermill": {
     "duration": 0.12306,
     "end_time": "2022-09-14T09:24:34.664051",
     "exception": false,
     "start_time": "2022-09-14T09:24:34.540991",
     "status": "completed"
    },
    "tags": []
   },
   "outputs": [
    {
     "name": "stdout",
     "output_type": "stream",
     "text": [
      "Scores: [0.69273743 0.41573034 0.41573034 0.74719101 0.7752809 ]\n",
      "Mean: 0.6093340028874522\n",
      "Standard deviation: 0.16028962383788498\n"
     ]
    }
   ],
   "source": [
    "sgd_scores = cross_val_score(sgd_clf, X_traintanic, Y_traintanic,\n",
    "                         scoring=\"accuracy\", cv=5)\n",
    "\n",
    "display_scores(sgd_scores)"
   ]
  },
  {
   "cell_type": "code",
   "execution_count": 89,
   "id": "8524c1b3",
   "metadata": {
    "execution": {
     "iopub.execute_input": "2022-09-14T09:24:34.779972Z",
     "iopub.status.busy": "2022-09-14T09:24:34.779476Z",
     "iopub.status.idle": "2022-09-14T09:24:34.835607Z",
     "shell.execute_reply": "2022-09-14T09:24:34.834564Z"
    },
    "papermill": {
     "duration": 0.117234,
     "end_time": "2022-09-14T09:24:34.838282",
     "exception": false,
     "start_time": "2022-09-14T09:24:34.721048",
     "status": "completed"
    },
    "tags": []
   },
   "outputs": [],
   "source": [
    "from sklearn.model_selection import cross_val_predict\n",
    "\n",
    "Y_traintanic_pred = cross_val_predict(sgd_clf, X_traintanic, Y_traintanic, cv=5)"
   ]
  },
  {
   "cell_type": "code",
   "execution_count": 90,
   "id": "7d97d08c",
   "metadata": {
    "execution": {
     "iopub.execute_input": "2022-09-14T09:24:34.958362Z",
     "iopub.status.busy": "2022-09-14T09:24:34.957743Z",
     "iopub.status.idle": "2022-09-14T09:24:34.964500Z",
     "shell.execute_reply": "2022-09-14T09:24:34.963705Z"
    },
    "papermill": {
     "duration": 0.06981,
     "end_time": "2022-09-14T09:24:34.966883",
     "exception": false,
     "start_time": "2022-09-14T09:24:34.897073",
     "status": "completed"
    },
    "tags": []
   },
   "outputs": [
    {
     "data": {
      "text/plain": [
       "array([[442, 107],\n",
       "       [ 69, 273]])"
      ]
     },
     "execution_count": 90,
     "metadata": {},
     "output_type": "execute_result"
    }
   ],
   "source": [
    "from sklearn.metrics import confusion_matrix\n",
    "\n",
    "confusion_matrix(Y_traintanic, Y_traintanic_pred)"
   ]
  },
  {
   "cell_type": "code",
   "execution_count": 91,
   "id": "e623f934",
   "metadata": {
    "execution": {
     "iopub.execute_input": "2022-09-14T09:24:35.086241Z",
     "iopub.status.busy": "2022-09-14T09:24:35.085595Z",
     "iopub.status.idle": "2022-09-14T09:24:35.212990Z",
     "shell.execute_reply": "2022-09-14T09:24:35.211581Z"
    },
    "papermill": {
     "duration": 0.190208,
     "end_time": "2022-09-14T09:24:35.215912",
     "exception": false,
     "start_time": "2022-09-14T09:24:35.025704",
     "status": "completed"
    },
    "tags": []
   },
   "outputs": [
    {
     "name": "stdout",
     "output_type": "stream",
     "text": [
      "Scores: [0.65921788 0.75280899 0.80337079 0.80337079 0.79213483]\n",
      "Mean: 0.7621806540706798\n",
      "Standard deviation: 0.05473512276070439\n"
     ]
    }
   ],
   "source": [
    "pipe = Pipeline(\n",
    "    steps=[(\"preprocessor\", preprocessor),\n",
    "           (\"classifier\", SGDClassifier())]\n",
    ")\n",
    "\n",
    "pipe_scores = cross_val_score(pipe, pX_traintanic, pY_traintanic,\n",
    "                         scoring=\"accuracy\", cv=5)\n",
    "\n",
    "display_scores(pipe_scores)"
   ]
  },
  {
   "cell_type": "markdown",
   "id": "0a96ea56",
   "metadata": {
    "papermill": {
     "duration": 0.056334,
     "end_time": "2022-09-14T09:24:35.329157",
     "exception": false,
     "start_time": "2022-09-14T09:24:35.272823",
     "status": "completed"
    },
    "tags": []
   },
   "source": [
    "## Random Forest Classifier (Ensemble)"
   ]
  },
  {
   "cell_type": "code",
   "execution_count": 92,
   "id": "7e2e73b1",
   "metadata": {
    "execution": {
     "iopub.execute_input": "2022-09-14T09:24:35.446814Z",
     "iopub.status.busy": "2022-09-14T09:24:35.445248Z",
     "iopub.status.idle": "2022-09-14T09:24:35.765355Z",
     "shell.execute_reply": "2022-09-14T09:24:35.764064Z"
    },
    "papermill": {
     "duration": 0.381416,
     "end_time": "2022-09-14T09:24:35.768200",
     "exception": false,
     "start_time": "2022-09-14T09:24:35.386784",
     "status": "completed"
    },
    "tags": []
   },
   "outputs": [
    {
     "data": {
      "text/plain": [
       "0.8462401795735129"
      ]
     },
     "execution_count": 92,
     "metadata": {},
     "output_type": "execute_result"
    }
   ],
   "source": [
    "from sklearn.ensemble import RandomForestClassifier\n",
    "forest_clf = RandomForestClassifier(max_depth=5)\n",
    "forest_clf.fit(X_traintanic, Y_traintanic)\n",
    "forest_clf.score(X_traintanic, Y_traintanic)"
   ]
  },
  {
   "cell_type": "code",
   "execution_count": 93,
   "id": "ade90910",
   "metadata": {
    "execution": {
     "iopub.execute_input": "2022-09-14T09:24:35.884975Z",
     "iopub.status.busy": "2022-09-14T09:24:35.884504Z",
     "iopub.status.idle": "2022-09-14T09:24:36.851730Z",
     "shell.execute_reply": "2022-09-14T09:24:36.850406Z"
    },
    "papermill": {
     "duration": 1.029278,
     "end_time": "2022-09-14T09:24:36.855209",
     "exception": false,
     "start_time": "2022-09-14T09:24:35.825931",
     "status": "completed"
    },
    "tags": []
   },
   "outputs": [
    {
     "name": "stdout",
     "output_type": "stream",
     "text": [
      "Scores: [0.79329609 0.83707865 0.8258427  0.8258427  0.81460674]\n",
      "Mean: 0.8193333751804659\n",
      "Standard deviation: 0.014831848748632293\n"
     ]
    }
   ],
   "source": [
    "forest_scores = cross_val_score(forest_clf, X_traintanic, Y_traintanic,\n",
    "                         scoring=\"accuracy\", cv=5)\n",
    "\n",
    "display_scores(forest_scores)"
   ]
  },
  {
   "cell_type": "code",
   "execution_count": 94,
   "id": "47e07390",
   "metadata": {
    "execution": {
     "iopub.execute_input": "2022-09-14T09:24:37.000225Z",
     "iopub.status.busy": "2022-09-14T09:24:36.999786Z",
     "iopub.status.idle": "2022-09-14T09:24:37.072219Z",
     "shell.execute_reply": "2022-09-14T09:24:37.071076Z"
    },
    "papermill": {
     "duration": 0.146195,
     "end_time": "2022-09-14T09:24:37.074753",
     "exception": false,
     "start_time": "2022-09-14T09:24:36.928558",
     "status": "completed"
    },
    "tags": []
   },
   "outputs": [
    {
     "data": {
      "text/plain": [
       "array([[458,  91],\n",
       "       [128, 214]])"
      ]
     },
     "execution_count": 94,
     "metadata": {},
     "output_type": "execute_result"
    }
   ],
   "source": [
    "Y_traintanic_pred = cross_val_predict(sgd_clf, X_traintanic, Y_traintanic, cv=5)\n",
    "confusion_matrix(Y_traintanic, Y_traintanic_pred)"
   ]
  },
  {
   "cell_type": "code",
   "execution_count": 95,
   "id": "f65211ad",
   "metadata": {
    "execution": {
     "iopub.execute_input": "2022-09-14T09:24:37.205966Z",
     "iopub.status.busy": "2022-09-14T09:24:37.205164Z",
     "iopub.status.idle": "2022-09-14T09:24:38.187880Z",
     "shell.execute_reply": "2022-09-14T09:24:38.186434Z"
    },
    "papermill": {
     "duration": 1.051439,
     "end_time": "2022-09-14T09:24:38.190909",
     "exception": false,
     "start_time": "2022-09-14T09:24:37.139470",
     "status": "completed"
    },
    "tags": []
   },
   "outputs": [
    {
     "name": "stdout",
     "output_type": "stream",
     "text": [
      "Scores: [0.73743017 0.83707865 0.82022472 0.83146067 0.82022472]\n",
      "Mean: 0.8092837863285418\n",
      "Standard deviation: 0.03651498168848253\n"
     ]
    }
   ],
   "source": [
    "pipe = Pipeline(\n",
    "    steps=[(\"preprocessor\", preprocessor),\n",
    "           (\"classifier\", RandomForestClassifier(max_depth=4))]\n",
    ")\n",
    "\n",
    "pipe_scores = cross_val_score(pipe, pX_traintanic, pY_traintanic,\n",
    "                         scoring=\"accuracy\", cv=5)\n",
    "\n",
    "display_scores(pipe_scores)"
   ]
  },
  {
   "cell_type": "markdown",
   "id": "5a2d1227",
   "metadata": {
    "papermill": {
     "duration": 0.057651,
     "end_time": "2022-09-14T09:24:38.306243",
     "exception": false,
     "start_time": "2022-09-14T09:24:38.248592",
     "status": "completed"
    },
    "tags": []
   },
   "source": [
    "## Logistic Regression"
   ]
  },
  {
   "cell_type": "code",
   "execution_count": 96,
   "id": "82289977",
   "metadata": {
    "execution": {
     "iopub.execute_input": "2022-09-14T09:24:38.425602Z",
     "iopub.status.busy": "2022-09-14T09:24:38.424471Z",
     "iopub.status.idle": "2022-09-14T09:24:38.704272Z",
     "shell.execute_reply": "2022-09-14T09:24:38.703066Z"
    },
    "papermill": {
     "duration": 0.344116,
     "end_time": "2022-09-14T09:24:38.708447",
     "exception": false,
     "start_time": "2022-09-14T09:24:38.364331",
     "status": "completed"
    },
    "tags": []
   },
   "outputs": [
    {
     "data": {
      "text/plain": [
       "0.8406285072951739"
      ]
     },
     "execution_count": 96,
     "metadata": {},
     "output_type": "execute_result"
    }
   ],
   "source": [
    "from sklearn.linear_model import LogisticRegression\n",
    "\n",
    "#lr_clf=LogisticRegression(solver='liblinear', penalty=\"l1\")\n",
    "lr_clf=LogisticRegression(max_iter=1000)\n",
    "lr_clf.fit(X_traintanic, Y_traintanic)\n",
    "lr_clf.score(X_traintanic, Y_traintanic)"
   ]
  },
  {
   "cell_type": "code",
   "execution_count": 97,
   "id": "a21e7bd7",
   "metadata": {
    "execution": {
     "iopub.execute_input": "2022-09-14T09:24:38.899753Z",
     "iopub.status.busy": "2022-09-14T09:24:38.899334Z",
     "iopub.status.idle": "2022-09-14T09:24:40.181846Z",
     "shell.execute_reply": "2022-09-14T09:24:40.180143Z"
    },
    "papermill": {
     "duration": 1.346474,
     "end_time": "2022-09-14T09:24:40.186370",
     "exception": false,
     "start_time": "2022-09-14T09:24:38.839896",
     "status": "completed"
    },
    "tags": []
   },
   "outputs": [
    {
     "name": "stdout",
     "output_type": "stream",
     "text": [
      "Scores: [0.79888268 0.84831461 0.80337079 0.79775281 0.84269663]\n",
      "Mean: 0.8182035026049839\n",
      "Standard deviation: 0.022441596667832173\n"
     ]
    }
   ],
   "source": [
    "lr_scores = cross_val_score(lr_clf, X_traintanic, Y_traintanic,\n",
    "                         scoring=\"accuracy\", cv=5)\n",
    "\n",
    "display_scores(lr_scores)"
   ]
  },
  {
   "cell_type": "code",
   "execution_count": 98,
   "id": "3dc80471",
   "metadata": {
    "execution": {
     "iopub.execute_input": "2022-09-14T09:24:40.368945Z",
     "iopub.status.busy": "2022-09-14T09:24:40.368478Z",
     "iopub.status.idle": "2022-09-14T09:24:41.628554Z",
     "shell.execute_reply": "2022-09-14T09:24:41.626958Z"
    },
    "papermill": {
     "duration": 1.323547,
     "end_time": "2022-09-14T09:24:41.633483",
     "exception": false,
     "start_time": "2022-09-14T09:24:40.309936",
     "status": "completed"
    },
    "tags": []
   },
   "outputs": [
    {
     "data": {
      "text/plain": [
       "array([[468,  81],\n",
       "       [ 81, 261]])"
      ]
     },
     "execution_count": 98,
     "metadata": {},
     "output_type": "execute_result"
    }
   ],
   "source": [
    "Y_traintanic_pred = cross_val_predict(lr_clf, X_traintanic, Y_traintanic, cv=5)\n",
    "confusion_matrix(Y_traintanic, Y_traintanic_pred)"
   ]
  },
  {
   "cell_type": "code",
   "execution_count": 99,
   "id": "01c5f18a",
   "metadata": {
    "execution": {
     "iopub.execute_input": "2022-09-14T09:24:41.812310Z",
     "iopub.status.busy": "2022-09-14T09:24:41.811925Z",
     "iopub.status.idle": "2022-09-14T09:24:42.306097Z",
     "shell.execute_reply": "2022-09-14T09:24:42.304466Z"
    },
    "papermill": {
     "duration": 0.55732,
     "end_time": "2022-09-14T09:24:42.310951",
     "exception": false,
     "start_time": "2022-09-14T09:24:41.753631",
     "status": "completed"
    },
    "tags": []
   },
   "outputs": [
    {
     "name": "stdout",
     "output_type": "stream",
     "text": [
      "Scores: [0.79888268 0.85393258 0.79775281 0.79213483 0.83146067]\n",
      "Mean: 0.8148327160881299\n",
      "Standard deviation: 0.023944141144592358\n"
     ]
    }
   ],
   "source": [
    "pipe = Pipeline(\n",
    "    steps=[(\"preprocessor\", preprocessor),\n",
    "           (\"classifier\", LogisticRegression())]\n",
    ")\n",
    "\n",
    "pipe_scores = cross_val_score(pipe, pX_traintanic, pY_traintanic,\n",
    "                         scoring=\"accuracy\", cv=5)\n",
    "\n",
    "display_scores(pipe_scores)"
   ]
  },
  {
   "cell_type": "markdown",
   "id": "046fd531",
   "metadata": {
    "papermill": {
     "duration": 0.057757,
     "end_time": "2022-09-14T09:24:42.489949",
     "exception": false,
     "start_time": "2022-09-14T09:24:42.432192",
     "status": "completed"
    },
    "tags": []
   },
   "source": [
    "## KNN"
   ]
  },
  {
   "cell_type": "code",
   "execution_count": 100,
   "id": "1d66b204",
   "metadata": {
    "execution": {
     "iopub.execute_input": "2022-09-14T09:24:42.607367Z",
     "iopub.status.busy": "2022-09-14T09:24:42.606957Z",
     "iopub.status.idle": "2022-09-14T09:24:42.612639Z",
     "shell.execute_reply": "2022-09-14T09:24:42.611354Z"
    },
    "papermill": {
     "duration": 0.067528,
     "end_time": "2022-09-14T09:24:42.615282",
     "exception": false,
     "start_time": "2022-09-14T09:24:42.547754",
     "status": "completed"
    },
    "tags": []
   },
   "outputs": [],
   "source": [
    "from sklearn.neighbors import KNeighborsClassifier\n",
    "\n",
    "knn_clf = KNeighborsClassifier(algorithm = 'brute', n_jobs=-1)"
   ]
  },
  {
   "cell_type": "code",
   "execution_count": 101,
   "id": "ce3d039d",
   "metadata": {
    "execution": {
     "iopub.execute_input": "2022-09-14T09:24:42.735196Z",
     "iopub.status.busy": "2022-09-14T09:24:42.734762Z",
     "iopub.status.idle": "2022-09-14T09:24:43.391866Z",
     "shell.execute_reply": "2022-09-14T09:24:43.390559Z"
    },
    "papermill": {
     "duration": 0.72261,
     "end_time": "2022-09-14T09:24:43.396913",
     "exception": false,
     "start_time": "2022-09-14T09:24:42.674303",
     "status": "completed"
    },
    "tags": []
   },
   "outputs": [
    {
     "name": "stdout",
     "output_type": "stream",
     "text": [
      "Scores: [0.65921788 0.80337079 0.75842697 0.79213483 0.80337079]\n",
      "Mean: 0.7633042495762978\n",
      "Standard deviation: 0.0545886765642196\n"
     ]
    }
   ],
   "source": [
    "knn_scores = cross_val_score(knn_clf, X_traintanic, Y_traintanic,\n",
    "                         scoring=\"accuracy\", cv=5)\n",
    "\n",
    "display_scores(knn_scores)"
   ]
  },
  {
   "cell_type": "code",
   "execution_count": 102,
   "id": "85118367",
   "metadata": {
    "execution": {
     "iopub.execute_input": "2022-09-14T09:24:43.515509Z",
     "iopub.status.busy": "2022-09-14T09:24:43.515118Z",
     "iopub.status.idle": "2022-09-14T09:24:44.167387Z",
     "shell.execute_reply": "2022-09-14T09:24:44.165796Z"
    },
    "papermill": {
     "duration": 0.714587,
     "end_time": "2022-09-14T09:24:44.170366",
     "exception": false,
     "start_time": "2022-09-14T09:24:43.455779",
     "status": "completed"
    },
    "tags": []
   },
   "outputs": [
    {
     "data": {
      "text/plain": [
       "array([[454,  95],\n",
       "       [116, 226]])"
      ]
     },
     "execution_count": 102,
     "metadata": {},
     "output_type": "execute_result"
    }
   ],
   "source": [
    "Y_traintanic_pred = cross_val_predict(knn_clf, X_traintanic, Y_traintanic, cv=5)\n",
    "confusion_matrix(Y_traintanic, Y_traintanic_pred)"
   ]
  },
  {
   "cell_type": "code",
   "execution_count": 103,
   "id": "2f1d3832",
   "metadata": {
    "execution": {
     "iopub.execute_input": "2022-09-14T09:24:44.292015Z",
     "iopub.status.busy": "2022-09-14T09:24:44.291176Z",
     "iopub.status.idle": "2022-09-14T09:24:45.010389Z",
     "shell.execute_reply": "2022-09-14T09:24:45.008966Z"
    },
    "papermill": {
     "duration": 0.784846,
     "end_time": "2022-09-14T09:24:45.013058",
     "exception": false,
     "start_time": "2022-09-14T09:24:44.228212",
     "status": "completed"
    },
    "tags": []
   },
   "outputs": [
    {
     "name": "stdout",
     "output_type": "stream",
     "text": [
      "Scores: [0.77094972 0.83707865 0.8258427  0.81460674 0.79213483]\n",
      "Mean: 0.8081225284037412\n",
      "Standard deviation: 0.023798867814205246\n"
     ]
    }
   ],
   "source": [
    "pipe = Pipeline(\n",
    "    steps=[(\"preprocessor\", preprocessor),\n",
    "           (\"classifier\", KNeighborsClassifier(algorithm = 'brute', n_jobs=-1))]\n",
    ")\n",
    "\n",
    "pipe_scores = cross_val_score(pipe, pX_traintanic, pY_traintanic,\n",
    "                         scoring=\"accuracy\", cv=5)\n",
    "\n",
    "display_scores(pipe_scores)"
   ]
  },
  {
   "cell_type": "markdown",
   "id": "0d49768f",
   "metadata": {
    "papermill": {
     "duration": 0.115016,
     "end_time": "2022-09-14T09:24:45.186579",
     "exception": false,
     "start_time": "2022-09-14T09:24:45.071563",
     "status": "completed"
    },
    "tags": []
   },
   "source": [
    "## SVM"
   ]
  },
  {
   "cell_type": "markdown",
   "id": "21d953bb",
   "metadata": {
    "papermill": {
     "duration": 0.05808,
     "end_time": "2022-09-14T09:24:45.303153",
     "exception": false,
     "start_time": "2022-09-14T09:24:45.245073",
     "status": "completed"
    },
    "tags": []
   },
   "source": [
    "Support Vector Machine (feature scaling needed)\n",
    "Hyperparameters:\n",
    "- c\n",
    "- kernel"
   ]
  },
  {
   "cell_type": "code",
   "execution_count": 104,
   "id": "f66caef6",
   "metadata": {
    "execution": {
     "iopub.execute_input": "2022-09-14T09:24:45.421133Z",
     "iopub.status.busy": "2022-09-14T09:24:45.420303Z",
     "iopub.status.idle": "2022-09-14T09:24:45.873230Z",
     "shell.execute_reply": "2022-09-14T09:24:45.871817Z"
    },
    "papermill": {
     "duration": 0.515125,
     "end_time": "2022-09-14T09:24:45.876123",
     "exception": false,
     "start_time": "2022-09-14T09:24:45.360998",
     "status": "completed"
    },
    "tags": []
   },
   "outputs": [
    {
     "name": "stdout",
     "output_type": "stream",
     "text": [
      "Scores: [0.79888268 0.83707865 0.79213483 0.80898876 0.83146067]\n",
      "Mean: 0.813709120582512\n",
      "Standard deviation: 0.017713315043796876\n"
     ]
    }
   ],
   "source": [
    "from sklearn.svm import SVC\n",
    "\n",
    "svm_clf = SVC(C=1000)\n",
    "\n",
    "svm_scores = cross_val_score(svm_clf, X_traintanic, Y_traintanic,\n",
    "                         scoring=\"accuracy\", cv=5)\n",
    "\n",
    "display_scores(svm_scores)"
   ]
  },
  {
   "cell_type": "code",
   "execution_count": 105,
   "id": "5150d4d1",
   "metadata": {
    "execution": {
     "iopub.execute_input": "2022-09-14T09:24:45.995398Z",
     "iopub.status.busy": "2022-09-14T09:24:45.994981Z",
     "iopub.status.idle": "2022-09-14T09:25:33.868770Z",
     "shell.execute_reply": "2022-09-14T09:25:33.867439Z"
    },
    "papermill": {
     "duration": 47.997015,
     "end_time": "2022-09-14T09:25:33.932009",
     "exception": false,
     "start_time": "2022-09-14T09:24:45.934994",
     "status": "completed"
    },
    "tags": []
   },
   "outputs": [
    {
     "name": "stdout",
     "output_type": "stream",
     "text": [
      "Scores: [0.67597765 0.83146067 0.78651685 0.78089888 0.81460674]\n",
      "Mean: 0.7778921599397401\n",
      "Standard deviation: 0.05419877951845565\n"
     ]
    }
   ],
   "source": [
    "from sklearn.svm import SVC\n",
    "\n",
    "svc_clf = SVC(kernel=\"poly\", degree=15, coef0=1, C=0.01)\n",
    "\n",
    "svc_scores = cross_val_score(svc_clf, X_traintanic, Y_traintanic,\n",
    "                         scoring=\"accuracy\", cv=5)\n",
    "\n",
    "display_scores(svc_scores)"
   ]
  },
  {
   "cell_type": "markdown",
   "id": "8a3e40c5",
   "metadata": {
    "papermill": {
     "duration": 0.05917,
     "end_time": "2022-09-14T09:25:34.050747",
     "exception": false,
     "start_time": "2022-09-14T09:25:33.991577",
     "status": "completed"
    },
    "tags": []
   },
   "source": [
    "Pipeline"
   ]
  },
  {
   "cell_type": "code",
   "execution_count": 106,
   "id": "542eed8c",
   "metadata": {
    "execution": {
     "iopub.execute_input": "2022-09-14T09:25:34.168601Z",
     "iopub.status.busy": "2022-09-14T09:25:34.168182Z",
     "iopub.status.idle": "2022-09-14T09:25:34.429614Z",
     "shell.execute_reply": "2022-09-14T09:25:34.427825Z"
    },
    "papermill": {
     "duration": 0.323144,
     "end_time": "2022-09-14T09:25:34.432150",
     "exception": false,
     "start_time": "2022-09-14T09:25:34.109006",
     "status": "completed"
    },
    "tags": []
   },
   "outputs": [
    {
     "name": "stdout",
     "output_type": "stream",
     "text": [
      "Scores: [0.74860335 0.81460674 0.80898876 0.78089888 0.80337079]\n",
      "Mean: 0.7912937040989265\n",
      "Standard deviation: 0.02421977453006048\n"
     ]
    }
   ],
   "source": [
    "pipe = Pipeline(\n",
    "    steps=[(\"preprocessor\", preprocessor),\n",
    "           (\"classifier\", SVC(kernel=\"poly\", degree=8, coef0=1, C=0.01))]\n",
    ")\n",
    "\n",
    "pipe_scores = cross_val_score(pipe, pX_traintanic, pY_traintanic,\n",
    "                         scoring=\"accuracy\", cv=5)\n",
    "\n",
    "display_scores(pipe_scores)"
   ]
  },
  {
   "cell_type": "markdown",
   "id": "f34b94d4",
   "metadata": {
    "papermill": {
     "duration": 0.057744,
     "end_time": "2022-09-14T09:25:34.547700",
     "exception": false,
     "start_time": "2022-09-14T09:25:34.489956",
     "status": "completed"
    },
    "tags": []
   },
   "source": [
    "Grid search svc"
   ]
  },
  {
   "cell_type": "markdown",
   "id": "410cb558",
   "metadata": {
    "execution": {
     "iopub.status.busy": "2022-09-09T22:10:32.229839Z",
     "iopub.status.idle": "2022-09-09T22:10:32.230275Z",
     "shell.execute_reply": "2022-09-09T22:10:32.230068Z",
     "shell.execute_reply.started": "2022-09-09T22:10:32.230049Z"
    },
    "papermill": {
     "duration": 0.057969,
     "end_time": "2022-09-14T09:25:34.664324",
     "exception": false,
     "start_time": "2022-09-14T09:25:34.606355",
     "status": "completed"
    },
    "tags": []
   },
   "source": [
    "from sklearn.model_selection import GridSearchCV\n",
    "param_grid = [\n",
    "    {'kernel':[\"poly\"],'degree':[1,2,4,6,8,10],\n",
    "     'coef0':[1,2,5,10], 'C': [0.1,0.01,0.001]}\n",
    "]\n",
    "svc_clf2= SVC()\n",
    "grid_search = GridSearchCV(svc_clf2, param_grid, cv=5,\n",
    "                           scoring=\"accuracy\",\n",
    "                           return_train_score=False)\n",
    "grid_search.fit(X_traintanic, Y_traintanic)\n",
    "grid_search.best_params_"
   ]
  },
  {
   "cell_type": "markdown",
   "id": "08544cf1",
   "metadata": {
    "papermill": {
     "duration": 0.061051,
     "end_time": "2022-09-14T09:25:34.783672",
     "exception": false,
     "start_time": "2022-09-14T09:25:34.722621",
     "status": "completed"
    },
    "tags": []
   },
   "source": [
    "## Naive Bayes"
   ]
  },
  {
   "cell_type": "code",
   "execution_count": 107,
   "id": "5397e305",
   "metadata": {
    "execution": {
     "iopub.execute_input": "2022-09-14T09:25:34.906111Z",
     "iopub.status.busy": "2022-09-14T09:25:34.905078Z",
     "iopub.status.idle": "2022-09-14T09:25:34.947611Z",
     "shell.execute_reply": "2022-09-14T09:25:34.946184Z"
    },
    "papermill": {
     "duration": 0.106879,
     "end_time": "2022-09-14T09:25:34.950349",
     "exception": false,
     "start_time": "2022-09-14T09:25:34.843470",
     "status": "completed"
    },
    "tags": []
   },
   "outputs": [
    {
     "name": "stdout",
     "output_type": "stream",
     "text": [
      "Scores: [0.64804469 0.78651685 0.81460674 0.81460674 0.81460674]\n",
      "Mean: 0.7756763542778231\n",
      "Standard deviation: 0.0647365161638956\n"
     ]
    }
   ],
   "source": [
    "from sklearn.naive_bayes import MultinomialNB\n",
    "\n",
    "nb_clf = MultinomialNB()\n",
    "\n",
    "nb_scores = cross_val_score(nb_clf, X_traintanic, Y_traintanic,\n",
    "                         scoring=\"accuracy\", cv=5)\n",
    "\n",
    "display_scores(nb_scores)"
   ]
  },
  {
   "cell_type": "code",
   "execution_count": 108,
   "id": "11b74858",
   "metadata": {
    "execution": {
     "iopub.execute_input": "2022-09-14T09:25:35.069937Z",
     "iopub.status.busy": "2022-09-14T09:25:35.069073Z",
     "iopub.status.idle": "2022-09-14T09:25:35.151990Z",
     "shell.execute_reply": "2022-09-14T09:25:35.150601Z"
    },
    "papermill": {
     "duration": 0.146286,
     "end_time": "2022-09-14T09:25:35.155348",
     "exception": false,
     "start_time": "2022-09-14T09:25:35.009062",
     "status": "completed"
    },
    "tags": []
   },
   "outputs": [
    {
     "name": "stdout",
     "output_type": "stream",
     "text": [
      "Scores: [nan nan nan nan nan]\n",
      "Mean: nan\n",
      "Standard deviation: nan\n"
     ]
    },
    {
     "name": "stderr",
     "output_type": "stream",
     "text": [
      "/opt/conda/lib/python3.7/site-packages/sklearn/model_selection/_validation.py:372: FitFailedWarning: \n",
      "5 fits failed out of a total of 5.\n",
      "The score on these train-test partitions for these parameters will be set to nan.\n",
      "If these failures are not expected, you can try to debug them by setting error_score='raise'.\n",
      "\n",
      "Below are more details about the failures:\n",
      "--------------------------------------------------------------------------------\n",
      "5 fits failed with the following error:\n",
      "Traceback (most recent call last):\n",
      "  File \"/opt/conda/lib/python3.7/site-packages/sklearn/model_selection/_validation.py\", line 680, in _fit_and_score\n",
      "    estimator.fit(X_train, y_train, **fit_params)\n",
      "  File \"/opt/conda/lib/python3.7/site-packages/sklearn/pipeline.py\", line 394, in fit\n",
      "    self._final_estimator.fit(Xt, y, **fit_params_last_step)\n",
      "  File \"/opt/conda/lib/python3.7/site-packages/sklearn/naive_bayes.py\", line 690, in fit\n",
      "    self._count(X, Y)\n",
      "  File \"/opt/conda/lib/python3.7/site-packages/sklearn/naive_bayes.py\", line 863, in _count\n",
      "    check_non_negative(X, \"MultinomialNB (input X)\")\n",
      "  File \"/opt/conda/lib/python3.7/site-packages/sklearn/utils/validation.py\", line 1249, in check_non_negative\n",
      "    raise ValueError(\"Negative values in data passed to %s\" % whom)\n",
      "ValueError: Negative values in data passed to MultinomialNB (input X)\n",
      "\n",
      "  warnings.warn(some_fits_failed_message, FitFailedWarning)\n"
     ]
    }
   ],
   "source": [
    "pipe = Pipeline(\n",
    "    steps=[(\"preprocessor\", preprocessor),\n",
    "           (\"classifier\", MultinomialNB())]\n",
    ")\n",
    "\n",
    "pipe_scores = cross_val_score(pipe, pX_traintanic, pY_traintanic,\n",
    "                         scoring=\"accuracy\", cv=5)\n",
    "\n",
    "display_scores(pipe_scores)"
   ]
  },
  {
   "cell_type": "markdown",
   "id": "1ac33402",
   "metadata": {
    "papermill": {
     "duration": 0.058505,
     "end_time": "2022-09-14T09:25:35.272905",
     "exception": false,
     "start_time": "2022-09-14T09:25:35.214400",
     "status": "completed"
    },
    "tags": []
   },
   "source": [
    "## Decision Tree"
   ]
  },
  {
   "cell_type": "code",
   "execution_count": 109,
   "id": "ced970ba",
   "metadata": {
    "execution": {
     "iopub.execute_input": "2022-09-14T09:25:35.391807Z",
     "iopub.status.busy": "2022-09-14T09:25:35.391384Z",
     "iopub.status.idle": "2022-09-14T09:25:35.437164Z",
     "shell.execute_reply": "2022-09-14T09:25:35.436195Z"
    },
    "papermill": {
     "duration": 0.109371,
     "end_time": "2022-09-14T09:25:35.440582",
     "exception": false,
     "start_time": "2022-09-14T09:25:35.331211",
     "status": "completed"
    },
    "tags": []
   },
   "outputs": [
    {
     "name": "stdout",
     "output_type": "stream",
     "text": [
      "Scores: [0.74301676 0.74719101 0.80337079 0.80337079 0.73595506]\n",
      "Mean: 0.766580880045195\n",
      "Standard deviation: 0.030252835570563866\n"
     ]
    }
   ],
   "source": [
    "from sklearn.tree import DecisionTreeClassifier\n",
    "\n",
    "tree_clf = DecisionTreeClassifier()\n",
    "\n",
    "tree_scores = cross_val_score(tree_clf, X_traintanic, Y_traintanic,\n",
    "                         scoring=\"accuracy\", cv=5)\n",
    "\n",
    "display_scores(tree_scores)"
   ]
  },
  {
   "cell_type": "markdown",
   "id": "9e05a63c",
   "metadata": {
    "papermill": {
     "duration": 0.058984,
     "end_time": "2022-09-14T09:25:35.558895",
     "exception": false,
     "start_time": "2022-09-14T09:25:35.499911",
     "status": "completed"
    },
    "tags": []
   },
   "source": [
    "## Bagging Decision Tree (Ensemble)"
   ]
  },
  {
   "cell_type": "code",
   "execution_count": 110,
   "id": "85b9d361",
   "metadata": {
    "execution": {
     "iopub.execute_input": "2022-09-14T09:25:35.679446Z",
     "iopub.status.busy": "2022-09-14T09:25:35.677482Z",
     "iopub.status.idle": "2022-09-14T09:25:35.849305Z",
     "shell.execute_reply": "2022-09-14T09:25:35.847940Z"
    },
    "papermill": {
     "duration": 0.235885,
     "end_time": "2022-09-14T09:25:35.853294",
     "exception": false,
     "start_time": "2022-09-14T09:25:35.617409",
     "status": "completed"
    },
    "tags": []
   },
   "outputs": [
    {
     "name": "stdout",
     "output_type": "stream",
     "text": [
      "Scores: [0.78212291 0.81460674 0.78651685 0.84269663 0.82022472]\n",
      "Mean: 0.8092335697696316\n",
      "Standard deviation: 0.02245212688079555\n"
     ]
    }
   ],
   "source": [
    "from sklearn.tree import DecisionTreeClassifier\n",
    "from sklearn.ensemble import BaggingClassifier\n",
    "\n",
    "bag_clf = BaggingClassifier(DecisionTreeClassifier(),\n",
    "                            max_samples=0.5,\n",
    "                            max_features=1.0,\n",
    "                            n_estimators=10)\n",
    "\n",
    "bag_scores = cross_val_score(bag_clf, X_traintanic, Y_traintanic,\n",
    "                         scoring=\"accuracy\", cv=5)\n",
    "\n",
    "display_scores(bag_scores)"
   ]
  },
  {
   "cell_type": "markdown",
   "id": "a2c514ff",
   "metadata": {
    "papermill": {
     "duration": 0.058814,
     "end_time": "2022-09-14T09:25:35.971439",
     "exception": false,
     "start_time": "2022-09-14T09:25:35.912625",
     "status": "completed"
    },
    "tags": []
   },
   "source": [
    "## Boosting Decision Tree (ensemble)"
   ]
  },
  {
   "cell_type": "code",
   "execution_count": 111,
   "id": "088d62d4",
   "metadata": {
    "execution": {
     "iopub.execute_input": "2022-09-14T09:25:36.094522Z",
     "iopub.status.busy": "2022-09-14T09:25:36.093919Z",
     "iopub.status.idle": "2022-09-14T09:25:36.273790Z",
     "shell.execute_reply": "2022-09-14T09:25:36.272067Z"
    },
    "papermill": {
     "duration": 0.244056,
     "end_time": "2022-09-14T09:25:36.276726",
     "exception": false,
     "start_time": "2022-09-14T09:25:36.032670",
     "status": "completed"
    },
    "tags": []
   },
   "outputs": [
    {
     "name": "stdout",
     "output_type": "stream",
     "text": [
      "Scores: [0.7877095  0.81460674 0.80898876 0.8258427  0.79775281]\n",
      "Mean: 0.8069801016885318\n",
      "Standard deviation: 0.01322495350425404\n"
     ]
    }
   ],
   "source": [
    "from sklearn.ensemble import AdaBoostClassifier\n",
    "from sklearn.tree import DecisionTreeClassifier\n",
    "\n",
    "adb_clf = AdaBoostClassifier(DecisionTreeClassifier(min_samples_split=10,\n",
    "                                                    max_depth=4),\n",
    "                             n_estimators=10,\n",
    "                             learning_rate=0.6)\n",
    "\n",
    "adb_scores = cross_val_score(adb_clf, X_traintanic, Y_traintanic,\n",
    "                         scoring=\"accuracy\", cv=5)\n",
    "\n",
    "display_scores(adb_scores)"
   ]
  },
  {
   "cell_type": "code",
   "execution_count": 112,
   "id": "1d47933b",
   "metadata": {
    "execution": {
     "iopub.execute_input": "2022-09-14T09:25:36.395937Z",
     "iopub.status.busy": "2022-09-14T09:25:36.395213Z",
     "iopub.status.idle": "2022-09-14T09:25:36.645209Z",
     "shell.execute_reply": "2022-09-14T09:25:36.643677Z"
    },
    "papermill": {
     "duration": 0.313474,
     "end_time": "2022-09-14T09:25:36.648499",
     "exception": false,
     "start_time": "2022-09-14T09:25:36.335025",
     "status": "completed"
    },
    "tags": []
   },
   "outputs": [
    {
     "name": "stdout",
     "output_type": "stream",
     "text": [
      "Scores: [0.75977654 0.80337079 0.81460674 0.82022472 0.79775281]\n",
      "Mean: 0.7991463184985249\n",
      "Standard deviation: 0.02122777144094815\n"
     ]
    }
   ],
   "source": [
    "pipe = Pipeline(\n",
    "    steps=[(\"preprocessor\", preprocessor),\n",
    "           (\"classifier\", AdaBoostClassifier(DecisionTreeClassifier(min_samples_split=10,\n",
    "                                                    max_depth=4),\n",
    "                             n_estimators=10,\n",
    "                             learning_rate=0.6))]\n",
    ")\n",
    "\n",
    "pipe_scores = cross_val_score(pipe, pX_traintanic, pY_traintanic,\n",
    "                         scoring=\"accuracy\", cv=5)\n",
    "\n",
    "display_scores(pipe_scores)"
   ]
  },
  {
   "cell_type": "markdown",
   "id": "7eb59ba6",
   "metadata": {
    "papermill": {
     "duration": 0.058095,
     "end_time": "2022-09-14T09:25:36.765589",
     "exception": false,
     "start_time": "2022-09-14T09:25:36.707494",
     "status": "completed"
    },
    "tags": []
   },
   "source": [
    "## Voting Classifier (Ensemble)"
   ]
  },
  {
   "cell_type": "code",
   "execution_count": 113,
   "id": "71708d38",
   "metadata": {
    "execution": {
     "iopub.execute_input": "2022-09-14T09:25:36.886322Z",
     "iopub.status.busy": "2022-09-14T09:25:36.885928Z",
     "iopub.status.idle": "2022-09-14T09:25:40.339889Z",
     "shell.execute_reply": "2022-09-14T09:25:40.337936Z"
    },
    "papermill": {
     "duration": 3.518535,
     "end_time": "2022-09-14T09:25:40.343633",
     "exception": false,
     "start_time": "2022-09-14T09:25:36.825098",
     "status": "completed"
    },
    "tags": []
   },
   "outputs": [
    {
     "name": "stdout",
     "output_type": "stream",
     "text": [
      "Scores: [0.79329609 0.84269663 0.80898876 0.82022472 0.8258427 ]\n",
      "Mean: 0.8182097796748478\n",
      "Standard deviation: 0.016538719996017193\n"
     ]
    }
   ],
   "source": [
    "from sklearn.ensemble import VotingClassifier\n",
    "\n",
    "evc_clf = VotingClassifier(estimators=[('mnb',nb_clf),('lr',lr_clf),('rf',forest_clf),('svm',svm_clf)],\n",
    "                           voting='hard')\n",
    "\n",
    "evc_scores = cross_val_score(evc_clf, X_traintanic, Y_traintanic,\n",
    "                         scoring=\"accuracy\", cv=5)\n",
    "\n",
    "display_scores(evc_scores)"
   ]
  },
  {
   "cell_type": "markdown",
   "id": "5586132f",
   "metadata": {
    "papermill": {
     "duration": 0.058255,
     "end_time": "2022-09-14T09:25:40.462641",
     "exception": false,
     "start_time": "2022-09-14T09:25:40.404386",
     "status": "completed"
    },
    "tags": []
   },
   "source": [
    "## Neural Network (Deep Learning)"
   ]
  },
  {
   "cell_type": "code",
   "execution_count": 114,
   "id": "4c26d90c",
   "metadata": {
    "execution": {
     "iopub.execute_input": "2022-09-14T09:25:40.582510Z",
     "iopub.status.busy": "2022-09-14T09:25:40.581713Z",
     "iopub.status.idle": "2022-09-14T09:25:40.587507Z",
     "shell.execute_reply": "2022-09-14T09:25:40.586111Z"
    },
    "papermill": {
     "duration": 0.068793,
     "end_time": "2022-09-14T09:25:40.590125",
     "exception": false,
     "start_time": "2022-09-14T09:25:40.521332",
     "status": "completed"
    },
    "tags": []
   },
   "outputs": [],
   "source": [
    "pass"
   ]
  },
  {
   "cell_type": "markdown",
   "id": "e10cdef2",
   "metadata": {
    "papermill": {
     "duration": 0.058918,
     "end_time": "2022-09-14T09:25:40.709041",
     "exception": false,
     "start_time": "2022-09-14T09:25:40.650123",
     "status": "completed"
    },
    "tags": []
   },
   "source": [
    "Fine Tune (Grid Search CV)"
   ]
  },
  {
   "cell_type": "markdown",
   "id": "eb547f72",
   "metadata": {
    "papermill": {
     "duration": 0.059292,
     "end_time": "2022-09-14T09:25:40.827260",
     "exception": false,
     "start_time": "2022-09-14T09:25:40.767968",
     "status": "completed"
    },
    "tags": []
   },
   "source": []
  },
  {
   "cell_type": "markdown",
   "id": "d5955aea",
   "metadata": {
    "execution": {
     "iopub.execute_input": "2022-09-09T22:14:01.704648Z",
     "iopub.status.busy": "2022-09-09T22:14:01.704093Z",
     "iopub.status.idle": "2022-09-09T22:14:01.748317Z",
     "shell.execute_reply": "2022-09-09T22:14:01.746477Z",
     "shell.execute_reply.started": "2022-09-09T22:14:01.704604Z"
    },
    "papermill": {
     "duration": 0.059405,
     "end_time": "2022-09-14T09:25:40.946547",
     "exception": false,
     "start_time": "2022-09-14T09:25:40.887142",
     "status": "completed"
    },
    "tags": []
   },
   "source": [
    "from sklearn.model_selection import GridSearchCV\n",
    "\n",
    "param_grid = [\n",
    "    {'n_estimators': [3, 10, 30], 'max_features': [2, 4, 6, 8]},\n",
    "    {'bootstrap': [False], 'n_estimators': [3, 10], 'max_features': [2, 3, 4]},\n",
    "]\n",
    "\n",
    "\n",
    "grid_search = GridSearchCV(lr_clf, param_grid, cv=5,\n",
    "                           scoring='accuracy',\n",
    "                           return_train_score=True)\n",
    "\n",
    "grid_search.fit(X_traintanic, Y_traintanic)\n",
    "grid_search.best_params_"
   ]
  },
  {
   "cell_type": "markdown",
   "id": "bc7ae2fc",
   "metadata": {
    "papermill": {
     "duration": 0.059506,
     "end_time": "2022-09-14T09:25:41.064720",
     "exception": false,
     "start_time": "2022-09-14T09:25:41.005214",
     "status": "completed"
    },
    "tags": []
   },
   "source": [
    "Prepare the data for machine Learning Algorithms"
   ]
  },
  {
   "cell_type": "markdown",
   "id": "b3877498",
   "metadata": {
    "papermill": {
     "duration": 0.05795,
     "end_time": "2022-09-14T09:25:41.180915",
     "exception": false,
     "start_time": "2022-09-14T09:25:41.122965",
     "status": "completed"
    },
    "tags": []
   },
   "source": [
    "Predictions"
   ]
  },
  {
   "cell_type": "code",
   "execution_count": 115,
   "id": "f0ae46d3",
   "metadata": {
    "execution": {
     "iopub.execute_input": "2022-09-14T09:25:41.299339Z",
     "iopub.status.busy": "2022-09-14T09:25:41.298954Z",
     "iopub.status.idle": "2022-09-14T09:25:41.302910Z",
     "shell.execute_reply": "2022-09-14T09:25:41.302067Z"
    },
    "papermill": {
     "duration": 0.065758,
     "end_time": "2022-09-14T09:25:41.304874",
     "exception": false,
     "start_time": "2022-09-14T09:25:41.239116",
     "status": "completed"
    },
    "tags": []
   },
   "outputs": [],
   "source": [
    "#model_selected = RandomForestClassifier(n_estimators=100, max_depth=5, random_state=1)\n",
    "#model_selected.fit(X_traintanic, Y_traintanic)\n",
    "#predictions = model.predict(X_testanic)"
   ]
  },
  {
   "cell_type": "code",
   "execution_count": 116,
   "id": "310962a4",
   "metadata": {
    "execution": {
     "iopub.execute_input": "2022-09-14T09:25:41.423706Z",
     "iopub.status.busy": "2022-09-14T09:25:41.423031Z",
     "iopub.status.idle": "2022-09-14T09:25:41.619390Z",
     "shell.execute_reply": "2022-09-14T09:25:41.617774Z"
    },
    "papermill": {
     "duration": 0.259347,
     "end_time": "2022-09-14T09:25:41.622406",
     "exception": false,
     "start_time": "2022-09-14T09:25:41.363059",
     "status": "completed"
    },
    "tags": []
   },
   "outputs": [],
   "source": [
    "# My version\n",
    "model_selected = RandomForestClassifier(max_depth=5)\n",
    "#model_selected = LogisticRegression(max_iter=1500)\n",
    "model_selected.fit(X_traintanic, Y_traintanic)\n",
    "predictions = model_selected.predict(X_testanic)"
   ]
  },
  {
   "cell_type": "code",
   "execution_count": 117,
   "id": "6a75d589",
   "metadata": {
    "execution": {
     "iopub.execute_input": "2022-09-14T09:25:41.742563Z",
     "iopub.status.busy": "2022-09-14T09:25:41.742112Z",
     "iopub.status.idle": "2022-09-14T09:25:41.747446Z",
     "shell.execute_reply": "2022-09-14T09:25:41.746316Z"
    },
    "papermill": {
     "duration": 0.067787,
     "end_time": "2022-09-14T09:25:41.749912",
     "exception": false,
     "start_time": "2022-09-14T09:25:41.682125",
     "status": "completed"
    },
    "tags": []
   },
   "outputs": [],
   "source": [
    "Y_testanic = pd.Series(predictions)\n",
    "Y_testanic.name = 'Survived'"
   ]
  },
  {
   "cell_type": "code",
   "execution_count": 118,
   "id": "f626a1d7",
   "metadata": {
    "execution": {
     "iopub.execute_input": "2022-09-14T09:25:41.870793Z",
     "iopub.status.busy": "2022-09-14T09:25:41.870354Z",
     "iopub.status.idle": "2022-09-14T09:25:41.895263Z",
     "shell.execute_reply": "2022-09-14T09:25:41.894375Z"
    },
    "papermill": {
     "duration": 0.088161,
     "end_time": "2022-09-14T09:25:41.897437",
     "exception": false,
     "start_time": "2022-09-14T09:25:41.809276",
     "status": "completed"
    },
    "tags": []
   },
   "outputs": [
    {
     "data": {
      "text/html": [
       "<div>\n",
       "<style scoped>\n",
       "    .dataframe tbody tr th:only-of-type {\n",
       "        vertical-align: middle;\n",
       "    }\n",
       "\n",
       "    .dataframe tbody tr th {\n",
       "        vertical-align: top;\n",
       "    }\n",
       "\n",
       "    .dataframe thead th {\n",
       "        text-align: right;\n",
       "    }\n",
       "</style>\n",
       "<table border=\"1\" class=\"dataframe\">\n",
       "  <thead>\n",
       "    <tr style=\"text-align: right;\">\n",
       "      <th></th>\n",
       "      <th>Pclass</th>\n",
       "      <th>Sex</th>\n",
       "      <th>Age</th>\n",
       "      <th>SibSp</th>\n",
       "      <th>Parch</th>\n",
       "      <th>Embarked</th>\n",
       "      <th>Num_Ticket</th>\n",
       "      <th>Title</th>\n",
       "      <th>Deck</th>\n",
       "      <th>Norm_Ind_Fare</th>\n",
       "      <th>Survived</th>\n",
       "    </tr>\n",
       "  </thead>\n",
       "  <tbody>\n",
       "    <tr>\n",
       "      <th>0</th>\n",
       "      <td>3</td>\n",
       "      <td>male</td>\n",
       "      <td>34.500000</td>\n",
       "      <td>0</td>\n",
       "      <td>0</td>\n",
       "      <td>Q</td>\n",
       "      <td>1</td>\n",
       "      <td>Mr</td>\n",
       "      <td>NA</td>\n",
       "      <td>2.178064</td>\n",
       "      <td>0</td>\n",
       "    </tr>\n",
       "    <tr>\n",
       "      <th>1</th>\n",
       "      <td>3</td>\n",
       "      <td>female</td>\n",
       "      <td>47.000000</td>\n",
       "      <td>1</td>\n",
       "      <td>0</td>\n",
       "      <td>S</td>\n",
       "      <td>1</td>\n",
       "      <td>Mrs</td>\n",
       "      <td>NA</td>\n",
       "      <td>2.079442</td>\n",
       "      <td>1</td>\n",
       "    </tr>\n",
       "    <tr>\n",
       "      <th>2</th>\n",
       "      <td>2</td>\n",
       "      <td>male</td>\n",
       "      <td>62.000000</td>\n",
       "      <td>0</td>\n",
       "      <td>0</td>\n",
       "      <td>Q</td>\n",
       "      <td>1</td>\n",
       "      <td>Mr</td>\n",
       "      <td>NA</td>\n",
       "      <td>2.369075</td>\n",
       "      <td>0</td>\n",
       "    </tr>\n",
       "    <tr>\n",
       "      <th>3</th>\n",
       "      <td>3</td>\n",
       "      <td>male</td>\n",
       "      <td>27.000000</td>\n",
       "      <td>0</td>\n",
       "      <td>0</td>\n",
       "      <td>S</td>\n",
       "      <td>1</td>\n",
       "      <td>Mr</td>\n",
       "      <td>NA</td>\n",
       "      <td>2.268252</td>\n",
       "      <td>0</td>\n",
       "    </tr>\n",
       "    <tr>\n",
       "      <th>4</th>\n",
       "      <td>3</td>\n",
       "      <td>female</td>\n",
       "      <td>22.000000</td>\n",
       "      <td>1</td>\n",
       "      <td>1</td>\n",
       "      <td>S</td>\n",
       "      <td>2</td>\n",
       "      <td>Mrs</td>\n",
       "      <td>NA</td>\n",
       "      <td>1.966238</td>\n",
       "      <td>1</td>\n",
       "    </tr>\n",
       "    <tr>\n",
       "      <th>...</th>\n",
       "      <td>...</td>\n",
       "      <td>...</td>\n",
       "      <td>...</td>\n",
       "      <td>...</td>\n",
       "      <td>...</td>\n",
       "      <td>...</td>\n",
       "      <td>...</td>\n",
       "      <td>...</td>\n",
       "      <td>...</td>\n",
       "      <td>...</td>\n",
       "      <td>...</td>\n",
       "    </tr>\n",
       "    <tr>\n",
       "      <th>413</th>\n",
       "      <td>3</td>\n",
       "      <td>male</td>\n",
       "      <td>27.198795</td>\n",
       "      <td>0</td>\n",
       "      <td>0</td>\n",
       "      <td>S</td>\n",
       "      <td>1</td>\n",
       "      <td>Mr</td>\n",
       "      <td>NA</td>\n",
       "      <td>2.202765</td>\n",
       "      <td>0</td>\n",
       "    </tr>\n",
       "    <tr>\n",
       "      <th>414</th>\n",
       "      <td>1</td>\n",
       "      <td>female</td>\n",
       "      <td>39.000000</td>\n",
       "      <td>0</td>\n",
       "      <td>0</td>\n",
       "      <td>C</td>\n",
       "      <td>3</td>\n",
       "      <td>Royalty</td>\n",
       "      <td>C</td>\n",
       "      <td>3.618993</td>\n",
       "      <td>1</td>\n",
       "    </tr>\n",
       "    <tr>\n",
       "      <th>415</th>\n",
       "      <td>3</td>\n",
       "      <td>male</td>\n",
       "      <td>38.500000</td>\n",
       "      <td>0</td>\n",
       "      <td>0</td>\n",
       "      <td>S</td>\n",
       "      <td>1</td>\n",
       "      <td>Mr</td>\n",
       "      <td>NA</td>\n",
       "      <td>2.110213</td>\n",
       "      <td>0</td>\n",
       "    </tr>\n",
       "    <tr>\n",
       "      <th>416</th>\n",
       "      <td>3</td>\n",
       "      <td>male</td>\n",
       "      <td>27.198795</td>\n",
       "      <td>0</td>\n",
       "      <td>0</td>\n",
       "      <td>S</td>\n",
       "      <td>1</td>\n",
       "      <td>Mr</td>\n",
       "      <td>NA</td>\n",
       "      <td>2.202765</td>\n",
       "      <td>0</td>\n",
       "    </tr>\n",
       "    <tr>\n",
       "      <th>417</th>\n",
       "      <td>3</td>\n",
       "      <td>male</td>\n",
       "      <td>7.454615</td>\n",
       "      <td>1</td>\n",
       "      <td>1</td>\n",
       "      <td>C</td>\n",
       "      <td>3</td>\n",
       "      <td>Master</td>\n",
       "      <td>NA</td>\n",
       "      <td>2.134494</td>\n",
       "      <td>1</td>\n",
       "    </tr>\n",
       "  </tbody>\n",
       "</table>\n",
       "<p>418 rows × 11 columns</p>\n",
       "</div>"
      ],
      "text/plain": [
       "     Pclass     Sex        Age  SibSp  Parch Embarked  Num_Ticket    Title  \\\n",
       "0         3    male  34.500000      0      0        Q           1       Mr   \n",
       "1         3  female  47.000000      1      0        S           1      Mrs   \n",
       "2         2    male  62.000000      0      0        Q           1       Mr   \n",
       "3         3    male  27.000000      0      0        S           1       Mr   \n",
       "4         3  female  22.000000      1      1        S           2      Mrs   \n",
       "..      ...     ...        ...    ...    ...      ...         ...      ...   \n",
       "413       3    male  27.198795      0      0        S           1       Mr   \n",
       "414       1  female  39.000000      0      0        C           3  Royalty   \n",
       "415       3    male  38.500000      0      0        S           1       Mr   \n",
       "416       3    male  27.198795      0      0        S           1       Mr   \n",
       "417       3    male   7.454615      1      1        C           3   Master   \n",
       "\n",
       "    Deck  Norm_Ind_Fare  Survived  \n",
       "0     NA       2.178064         0  \n",
       "1     NA       2.079442         1  \n",
       "2     NA       2.369075         0  \n",
       "3     NA       2.268252         0  \n",
       "4     NA       1.966238         1  \n",
       "..   ...            ...       ...  \n",
       "413   NA       2.202765         0  \n",
       "414    C       3.618993         1  \n",
       "415   NA       2.110213         0  \n",
       "416   NA       2.202765         0  \n",
       "417   NA       2.134494         1  \n",
       "\n",
       "[418 rows x 11 columns]"
      ]
     },
     "execution_count": 118,
     "metadata": {},
     "output_type": "execute_result"
    }
   ],
   "source": [
    "test = pd.concat([testanic,Y_testanic],axis=1)\n",
    "test"
   ]
  },
  {
   "cell_type": "code",
   "execution_count": 119,
   "id": "4de583f6",
   "metadata": {
    "execution": {
     "iopub.execute_input": "2022-09-14T09:25:42.018850Z",
     "iopub.status.busy": "2022-09-14T09:25:42.017816Z",
     "iopub.status.idle": "2022-09-14T09:25:42.041056Z",
     "shell.execute_reply": "2022-09-14T09:25:42.039830Z"
    },
    "papermill": {
     "duration": 0.086192,
     "end_time": "2022-09-14T09:25:42.043498",
     "exception": false,
     "start_time": "2022-09-14T09:25:41.957306",
     "status": "completed"
    },
    "tags": []
   },
   "outputs": [
    {
     "data": {
      "text/html": [
       "<div>\n",
       "<style scoped>\n",
       "    .dataframe tbody tr th:only-of-type {\n",
       "        vertical-align: middle;\n",
       "    }\n",
       "\n",
       "    .dataframe tbody tr th {\n",
       "        vertical-align: top;\n",
       "    }\n",
       "\n",
       "    .dataframe thead tr th {\n",
       "        text-align: left;\n",
       "    }\n",
       "\n",
       "    .dataframe thead tr:last-of-type th {\n",
       "        text-align: right;\n",
       "    }\n",
       "</style>\n",
       "<table border=\"1\" class=\"dataframe\">\n",
       "  <thead>\n",
       "    <tr>\n",
       "      <th></th>\n",
       "      <th></th>\n",
       "      <th colspan=\"2\" halign=\"left\">Survived</th>\n",
       "    </tr>\n",
       "    <tr>\n",
       "      <th></th>\n",
       "      <th></th>\n",
       "      <th>count</th>\n",
       "      <th>mean</th>\n",
       "    </tr>\n",
       "    <tr>\n",
       "      <th>Pclass</th>\n",
       "      <th>Sex</th>\n",
       "      <th></th>\n",
       "      <th></th>\n",
       "    </tr>\n",
       "  </thead>\n",
       "  <tbody>\n",
       "    <tr>\n",
       "      <th rowspan=\"2\" valign=\"top\">1</th>\n",
       "      <th>female</th>\n",
       "      <td>50</td>\n",
       "      <td>1.000</td>\n",
       "    </tr>\n",
       "    <tr>\n",
       "      <th>male</th>\n",
       "      <td>57</td>\n",
       "      <td>0.070</td>\n",
       "    </tr>\n",
       "    <tr>\n",
       "      <th rowspan=\"2\" valign=\"top\">2</th>\n",
       "      <th>female</th>\n",
       "      <td>30</td>\n",
       "      <td>1.000</td>\n",
       "    </tr>\n",
       "    <tr>\n",
       "      <th>male</th>\n",
       "      <td>63</td>\n",
       "      <td>0.032</td>\n",
       "    </tr>\n",
       "    <tr>\n",
       "      <th rowspan=\"2\" valign=\"top\">3</th>\n",
       "      <th>female</th>\n",
       "      <td>72</td>\n",
       "      <td>0.917</td>\n",
       "    </tr>\n",
       "    <tr>\n",
       "      <th>male</th>\n",
       "      <td>146</td>\n",
       "      <td>0.082</td>\n",
       "    </tr>\n",
       "  </tbody>\n",
       "</table>\n",
       "</div>"
      ],
      "text/plain": [
       "              Survived       \n",
       "                 count   mean\n",
       "Pclass Sex                   \n",
       "1      female       50  1.000\n",
       "       male         57  0.070\n",
       "2      female       30  1.000\n",
       "       male         63  0.032\n",
       "3      female       72  0.917\n",
       "       male        146  0.082"
      ]
     },
     "execution_count": 119,
     "metadata": {},
     "output_type": "execute_result"
    }
   ],
   "source": [
    "round(test [['Sex', 'Pclass','Survived']].groupby(['Pclass', 'Sex']).agg(['count','mean']),3)"
   ]
  },
  {
   "cell_type": "code",
   "execution_count": 120,
   "id": "1a6f967a",
   "metadata": {
    "execution": {
     "iopub.execute_input": "2022-09-14T09:25:42.164802Z",
     "iopub.status.busy": "2022-09-14T09:25:42.163971Z",
     "iopub.status.idle": "2022-09-14T09:25:42.182987Z",
     "shell.execute_reply": "2022-09-14T09:25:42.181680Z"
    },
    "papermill": {
     "duration": 0.082024,
     "end_time": "2022-09-14T09:25:42.185581",
     "exception": false,
     "start_time": "2022-09-14T09:25:42.103557",
     "status": "completed"
    },
    "tags": []
   },
   "outputs": [
    {
     "data": {
      "text/html": [
       "<div>\n",
       "<style scoped>\n",
       "    .dataframe tbody tr th:only-of-type {\n",
       "        vertical-align: middle;\n",
       "    }\n",
       "\n",
       "    .dataframe tbody tr th {\n",
       "        vertical-align: top;\n",
       "    }\n",
       "\n",
       "    .dataframe thead tr th {\n",
       "        text-align: left;\n",
       "    }\n",
       "\n",
       "    .dataframe thead tr:last-of-type th {\n",
       "        text-align: right;\n",
       "    }\n",
       "</style>\n",
       "<table border=\"1\" class=\"dataframe\">\n",
       "  <thead>\n",
       "    <tr>\n",
       "      <th></th>\n",
       "      <th colspan=\"2\" halign=\"left\">Survived</th>\n",
       "    </tr>\n",
       "    <tr>\n",
       "      <th></th>\n",
       "      <th>count</th>\n",
       "      <th>mean</th>\n",
       "    </tr>\n",
       "    <tr>\n",
       "      <th>Sex</th>\n",
       "      <th></th>\n",
       "      <th></th>\n",
       "    </tr>\n",
       "  </thead>\n",
       "  <tbody>\n",
       "    <tr>\n",
       "      <th>female</th>\n",
       "      <td>152</td>\n",
       "      <td>0.961</td>\n",
       "    </tr>\n",
       "    <tr>\n",
       "      <th>male</th>\n",
       "      <td>266</td>\n",
       "      <td>0.068</td>\n",
       "    </tr>\n",
       "  </tbody>\n",
       "</table>\n",
       "</div>"
      ],
      "text/plain": [
       "       Survived       \n",
       "          count   mean\n",
       "Sex                   \n",
       "female      152  0.961\n",
       "male        266  0.068"
      ]
     },
     "execution_count": 120,
     "metadata": {},
     "output_type": "execute_result"
    }
   ],
   "source": [
    "round(test [['Sex','Survived']].groupby(['Sex']).agg(['count','mean']),3)"
   ]
  },
  {
   "cell_type": "code",
   "execution_count": 121,
   "id": "d7683797",
   "metadata": {
    "execution": {
     "iopub.execute_input": "2022-09-14T09:25:42.307148Z",
     "iopub.status.busy": "2022-09-14T09:25:42.306415Z",
     "iopub.status.idle": "2022-09-14T09:25:42.324121Z",
     "shell.execute_reply": "2022-09-14T09:25:42.323214Z"
    },
    "papermill": {
     "duration": 0.081283,
     "end_time": "2022-09-14T09:25:42.326268",
     "exception": false,
     "start_time": "2022-09-14T09:25:42.244985",
     "status": "completed"
    },
    "tags": []
   },
   "outputs": [
    {
     "data": {
      "text/html": [
       "<div>\n",
       "<style scoped>\n",
       "    .dataframe tbody tr th:only-of-type {\n",
       "        vertical-align: middle;\n",
       "    }\n",
       "\n",
       "    .dataframe tbody tr th {\n",
       "        vertical-align: top;\n",
       "    }\n",
       "\n",
       "    .dataframe thead tr th {\n",
       "        text-align: left;\n",
       "    }\n",
       "\n",
       "    .dataframe thead tr:last-of-type th {\n",
       "        text-align: right;\n",
       "    }\n",
       "</style>\n",
       "<table border=\"1\" class=\"dataframe\">\n",
       "  <thead>\n",
       "    <tr>\n",
       "      <th></th>\n",
       "      <th colspan=\"2\" halign=\"left\">Survived</th>\n",
       "    </tr>\n",
       "    <tr>\n",
       "      <th></th>\n",
       "      <th>count</th>\n",
       "      <th>mean</th>\n",
       "    </tr>\n",
       "    <tr>\n",
       "      <th>Title</th>\n",
       "      <th></th>\n",
       "      <th></th>\n",
       "    </tr>\n",
       "  </thead>\n",
       "  <tbody>\n",
       "    <tr>\n",
       "      <th>Master</th>\n",
       "      <td>21</td>\n",
       "      <td>0.762</td>\n",
       "    </tr>\n",
       "    <tr>\n",
       "      <th>Miss</th>\n",
       "      <td>79</td>\n",
       "      <td>0.949</td>\n",
       "    </tr>\n",
       "    <tr>\n",
       "      <th>Mr</th>\n",
       "      <td>240</td>\n",
       "      <td>0.000</td>\n",
       "    </tr>\n",
       "    <tr>\n",
       "      <th>Mrs</th>\n",
       "      <td>72</td>\n",
       "      <td>0.972</td>\n",
       "    </tr>\n",
       "    <tr>\n",
       "      <th>Officer</th>\n",
       "      <td>2</td>\n",
       "      <td>1.000</td>\n",
       "    </tr>\n",
       "    <tr>\n",
       "      <th>Royalty</th>\n",
       "      <td>4</td>\n",
       "      <td>0.250</td>\n",
       "    </tr>\n",
       "  </tbody>\n",
       "</table>\n",
       "</div>"
      ],
      "text/plain": [
       "        Survived       \n",
       "           count   mean\n",
       "Title                  \n",
       "Master        21  0.762\n",
       "Miss          79  0.949\n",
       "Mr           240  0.000\n",
       "Mrs           72  0.972\n",
       "Officer        2  1.000\n",
       "Royalty        4  0.250"
      ]
     },
     "execution_count": 121,
     "metadata": {},
     "output_type": "execute_result"
    }
   ],
   "source": [
    "round(test [['Title','Survived']].groupby(['Title']).agg(['count','mean']),3)"
   ]
  },
  {
   "cell_type": "code",
   "execution_count": 122,
   "id": "8140f502",
   "metadata": {
    "execution": {
     "iopub.execute_input": "2022-09-14T09:25:42.448381Z",
     "iopub.status.busy": "2022-09-14T09:25:42.447657Z",
     "iopub.status.idle": "2022-09-14T09:25:42.466250Z",
     "shell.execute_reply": "2022-09-14T09:25:42.465027Z"
    },
    "papermill": {
     "duration": 0.083095,
     "end_time": "2022-09-14T09:25:42.468799",
     "exception": false,
     "start_time": "2022-09-14T09:25:42.385704",
     "status": "completed"
    },
    "tags": []
   },
   "outputs": [
    {
     "data": {
      "text/html": [
       "<div>\n",
       "<style scoped>\n",
       "    .dataframe tbody tr th:only-of-type {\n",
       "        vertical-align: middle;\n",
       "    }\n",
       "\n",
       "    .dataframe tbody tr th {\n",
       "        vertical-align: top;\n",
       "    }\n",
       "\n",
       "    .dataframe thead tr th {\n",
       "        text-align: left;\n",
       "    }\n",
       "\n",
       "    .dataframe thead tr:last-of-type th {\n",
       "        text-align: right;\n",
       "    }\n",
       "</style>\n",
       "<table border=\"1\" class=\"dataframe\">\n",
       "  <thead>\n",
       "    <tr>\n",
       "      <th></th>\n",
       "      <th colspan=\"2\" halign=\"left\">Survived</th>\n",
       "    </tr>\n",
       "    <tr>\n",
       "      <th></th>\n",
       "      <th>count</th>\n",
       "      <th>mean</th>\n",
       "    </tr>\n",
       "    <tr>\n",
       "      <th>Title</th>\n",
       "      <th></th>\n",
       "      <th></th>\n",
       "    </tr>\n",
       "  </thead>\n",
       "  <tbody>\n",
       "    <tr>\n",
       "      <th>Master</th>\n",
       "      <td>40</td>\n",
       "      <td>0.575</td>\n",
       "    </tr>\n",
       "    <tr>\n",
       "      <th>Miss</th>\n",
       "      <td>185</td>\n",
       "      <td>0.703</td>\n",
       "    </tr>\n",
       "    <tr>\n",
       "      <th>Mr</th>\n",
       "      <td>517</td>\n",
       "      <td>0.157</td>\n",
       "    </tr>\n",
       "    <tr>\n",
       "      <th>Mrs</th>\n",
       "      <td>126</td>\n",
       "      <td>0.794</td>\n",
       "    </tr>\n",
       "    <tr>\n",
       "      <th>Officer</th>\n",
       "      <td>5</td>\n",
       "      <td>0.400</td>\n",
       "    </tr>\n",
       "    <tr>\n",
       "      <th>Royalty</th>\n",
       "      <td>18</td>\n",
       "      <td>0.333</td>\n",
       "    </tr>\n",
       "  </tbody>\n",
       "</table>\n",
       "</div>"
      ],
      "text/plain": [
       "        Survived       \n",
       "           count   mean\n",
       "Title                  \n",
       "Master        40  0.575\n",
       "Miss         185  0.703\n",
       "Mr           517  0.157\n",
       "Mrs          126  0.794\n",
       "Officer        5  0.400\n",
       "Royalty       18  0.333"
      ]
     },
     "execution_count": 122,
     "metadata": {},
     "output_type": "execute_result"
    }
   ],
   "source": [
    "round(train_data [['Title','Survived']].groupby(['Title']).agg(['count','mean']),3)"
   ]
  },
  {
   "cell_type": "code",
   "execution_count": null,
   "id": "b8e2ff68",
   "metadata": {
    "papermill": {
     "duration": 0.059284,
     "end_time": "2022-09-14T09:25:42.587995",
     "exception": false,
     "start_time": "2022-09-14T09:25:42.528711",
     "status": "completed"
    },
    "tags": []
   },
   "outputs": [],
   "source": []
  },
  {
   "cell_type": "markdown",
   "id": "3b9409f2",
   "metadata": {
    "papermill": {
     "duration": 0.059192,
     "end_time": "2022-09-14T09:25:42.706830",
     "exception": false,
     "start_time": "2022-09-14T09:25:42.647638",
     "status": "completed"
    },
    "tags": []
   },
   "source": [
    "OUTPUT"
   ]
  },
  {
   "cell_type": "code",
   "execution_count": 123,
   "id": "2c07d202",
   "metadata": {
    "execution": {
     "iopub.execute_input": "2022-09-14T09:25:42.828599Z",
     "iopub.status.busy": "2022-09-14T09:25:42.828154Z",
     "iopub.status.idle": "2022-09-14T09:25:42.839387Z",
     "shell.execute_reply": "2022-09-14T09:25:42.837809Z"
    },
    "papermill": {
     "duration": 0.075401,
     "end_time": "2022-09-14T09:25:42.841923",
     "exception": false,
     "start_time": "2022-09-14T09:25:42.766522",
     "status": "completed"
    },
    "tags": []
   },
   "outputs": [
    {
     "name": "stdout",
     "output_type": "stream",
     "text": [
      "Your submission was successfully saved!\n"
     ]
    }
   ],
   "source": [
    "output = pd.DataFrame({'PassengerId': test_data.PassengerId, 'Survived': predictions})\n",
    "output.to_csv('submission.csv', index=False)\n",
    "print(\"Your submission was successfully saved!\")"
   ]
  }
 ],
 "metadata": {
  "kernelspec": {
   "display_name": "Python 3",
   "language": "python",
   "name": "python3"
  },
  "language_info": {
   "codemirror_mode": {
    "name": "ipython",
    "version": 3
   },
   "file_extension": ".py",
   "mimetype": "text/x-python",
   "name": "python",
   "nbconvert_exporter": "python",
   "pygments_lexer": "ipython3",
   "version": "3.7.12"
  },
  "papermill": {
   "default_parameters": {},
   "duration": 105.432912,
   "end_time": "2022-09-14T09:25:43.927520",
   "environment_variables": {},
   "exception": null,
   "input_path": "__notebook__.ipynb",
   "output_path": "__notebook__.ipynb",
   "parameters": {},
   "start_time": "2022-09-14T09:23:58.494608",
   "version": "2.3.4"
  }
 },
 "nbformat": 4,
 "nbformat_minor": 5
}
